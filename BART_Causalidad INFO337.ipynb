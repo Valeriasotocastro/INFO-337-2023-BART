{
 "cells": [
  {
   "cell_type": "code",
   "execution_count": 2,
   "metadata": {
    "scrolled": true
   },
   "outputs": [
    {
     "data": {
      "text/html": [
       "<table>\n",
       "<thead><tr><th scope=col>id</th><th scope=col>student_id</th><th scope=col>year</th><th scope=col>total_credits_1</th><th scope=col>total_credits_2</th><th scope=col>total_courses_1</th><th scope=col>total_courses_2</th><th scope=col>course_approved_1</th><th scope=col>course_approved_2</th><th scope=col>course_failed_1</th><th scope=col>course_failed_2</th><th scope=col>t_gpa_1</th><th scope=col>t_gpa_2</th><th scope=col>c_gpa_1</th><th scope=col>c_gpa_2</th><th scope=col>start_year</th><th scope=col>Cluster</th><th scope=col>Permanencia_term_3</th></tr></thead>\n",
       "<tbody>\n",
       "\t<tr><td> 1                            </td><td>05cff88fd871c9e19bce4d8df60231</td><td>0                             </td><td>29                            </td><td>35                            </td><td>5                             </td><td>7                             </td><td>3                             </td><td>5                             </td><td>2                             </td><td>2                             </td><td>4.84                          </td><td>4.62                          </td><td>4.84                          </td><td>5.00                          </td><td>2017                          </td><td>3                             </td><td>1                             </td></tr>\n",
       "\t<tr><td> 2                            </td><td>080b659e7f6e033017ad4bda83b361</td><td>0                             </td><td>29                            </td><td>31                            </td><td>5                             </td><td>6                             </td><td>2                             </td><td>3                             </td><td>3                             </td><td>3                             </td><td>3.06                          </td><td>2.95                          </td><td>3.06                          </td><td>3.68                          </td><td>2017                          </td><td>1                             </td><td>1                             </td></tr>\n",
       "\t<tr><td> 3                            </td><td>0dee01f418108ad66efc4a0e0ec69d</td><td>0                             </td><td>29                            </td><td>31                            </td><td>5                             </td><td>7                             </td><td>5                             </td><td>7                             </td><td>0                             </td><td>0                             </td><td>6.35                          </td><td>6.11                          </td><td>6.35                          </td><td>6.23                          </td><td>2017                          </td><td>3                             </td><td>1                             </td></tr>\n",
       "\t<tr><td> 4                            </td><td>0fe5ab4f3df38493e8cc71afe37e45</td><td>0                             </td><td>29                            </td><td>31                            </td><td>5                             </td><td>6                             </td><td>2                             </td><td>1                             </td><td>3                             </td><td>5                             </td><td>3.59                          </td><td>2.37                          </td><td>3.59                          </td><td>3.25                          </td><td>2017                          </td><td>1                             </td><td>1                             </td></tr>\n",
       "\t<tr><td> 5                            </td><td>105b0c6e99b923e322c5f2a8b8cb72</td><td>0                             </td><td>29                            </td><td>26                            </td><td>5                             </td><td>5                             </td><td>2                             </td><td>0                             </td><td>3                             </td><td>5                             </td><td>2.61                          </td><td>1.06                          </td><td>2.61                          </td><td>2.99                          </td><td>2017                          </td><td>1                             </td><td>0                             </td></tr>\n",
       "\t<tr><td> 6                            </td><td>126848e7b46dc961068ec7e986589b</td><td>0                             </td><td>29                            </td><td>31                            </td><td>5                             </td><td>6                             </td><td>2                             </td><td>1                             </td><td>3                             </td><td>5                             </td><td>3.02                          </td><td>3.54                          </td><td>3.02                          </td><td>3.91                          </td><td>2017                          </td><td>1                             </td><td>0                             </td></tr>\n",
       "\t<tr><td> 7                            </td><td>1c3b9ea824f67a199286b9234015d3</td><td>0                             </td><td>29                            </td><td>31                            </td><td>5                             </td><td>7                             </td><td>5                             </td><td>5                             </td><td>0                             </td><td>2                             </td><td>5.37                          </td><td>4.71                          </td><td>5.37                          </td><td>5.03                          </td><td>2017                          </td><td>3                             </td><td>1                             </td></tr>\n",
       "\t<tr><td> 8                            </td><td>22413a4428da8a2c63278c18738cbe</td><td>0                             </td><td>29                            </td><td>35                            </td><td>5                             </td><td>7                             </td><td>3                             </td><td>7                             </td><td>2                             </td><td>0                             </td><td>3.98                          </td><td>4.72                          </td><td>3.98                          </td><td>4.87                          </td><td>2017                          </td><td>1                             </td><td>1                             </td></tr>\n",
       "\t<tr><td> 9                            </td><td>24f1adb1c9d34c3c26643e92fcc37a</td><td>0                             </td><td>29                            </td><td>28                            </td><td>5                             </td><td>6                             </td><td>4                             </td><td>5                             </td><td>1                             </td><td>1                             </td><td>4.82                          </td><td>4.52                          </td><td>4.82                          </td><td>4.83                          </td><td>2017                          </td><td>2                             </td><td>0                             </td></tr>\n",
       "\t<tr><td>10                            </td><td>300b9980166ef23dce68bd095eadc6</td><td>0                             </td><td>29                            </td><td>35                            </td><td>5                             </td><td>7                             </td><td>3                             </td><td>4                             </td><td>2                             </td><td>3                             </td><td>4.26                          </td><td>3.92                          </td><td>4.26                          </td><td>4.40                          </td><td>2017                          </td><td>1                             </td><td>1                             </td></tr>\n",
       "</tbody>\n",
       "</table>\n"
      ],
      "text/latex": [
       "\\begin{tabular}{r|llllllllllllllllll}\n",
       " id & student\\_id & year & total\\_credits\\_1 & total\\_credits\\_2 & total\\_courses\\_1 & total\\_courses\\_2 & course\\_approved\\_1 & course\\_approved\\_2 & course\\_failed\\_1 & course\\_failed\\_2 & t\\_gpa\\_1 & t\\_gpa\\_2 & c\\_gpa\\_1 & c\\_gpa\\_2 & start\\_year & Cluster & Permanencia\\_term\\_3\\\\\n",
       "\\hline\n",
       "\t  1                             & 05cff88fd871c9e19bce4d8df60231 & 0                              & 29                             & 35                             & 5                              & 7                              & 3                              & 5                              & 2                              & 2                              & 4.84                           & 4.62                           & 4.84                           & 5.00                           & 2017                           & 3                              & 1                             \\\\\n",
       "\t  2                             & 080b659e7f6e033017ad4bda83b361 & 0                              & 29                             & 31                             & 5                              & 6                              & 2                              & 3                              & 3                              & 3                              & 3.06                           & 2.95                           & 3.06                           & 3.68                           & 2017                           & 1                              & 1                             \\\\\n",
       "\t  3                             & 0dee01f418108ad66efc4a0e0ec69d & 0                              & 29                             & 31                             & 5                              & 7                              & 5                              & 7                              & 0                              & 0                              & 6.35                           & 6.11                           & 6.35                           & 6.23                           & 2017                           & 3                              & 1                             \\\\\n",
       "\t  4                             & 0fe5ab4f3df38493e8cc71afe37e45 & 0                              & 29                             & 31                             & 5                              & 6                              & 2                              & 1                              & 3                              & 5                              & 3.59                           & 2.37                           & 3.59                           & 3.25                           & 2017                           & 1                              & 1                             \\\\\n",
       "\t  5                             & 105b0c6e99b923e322c5f2a8b8cb72 & 0                              & 29                             & 26                             & 5                              & 5                              & 2                              & 0                              & 3                              & 5                              & 2.61                           & 1.06                           & 2.61                           & 2.99                           & 2017                           & 1                              & 0                             \\\\\n",
       "\t  6                             & 126848e7b46dc961068ec7e986589b & 0                              & 29                             & 31                             & 5                              & 6                              & 2                              & 1                              & 3                              & 5                              & 3.02                           & 3.54                           & 3.02                           & 3.91                           & 2017                           & 1                              & 0                             \\\\\n",
       "\t  7                             & 1c3b9ea824f67a199286b9234015d3 & 0                              & 29                             & 31                             & 5                              & 7                              & 5                              & 5                              & 0                              & 2                              & 5.37                           & 4.71                           & 5.37                           & 5.03                           & 2017                           & 3                              & 1                             \\\\\n",
       "\t  8                             & 22413a4428da8a2c63278c18738cbe & 0                              & 29                             & 35                             & 5                              & 7                              & 3                              & 7                              & 2                              & 0                              & 3.98                           & 4.72                           & 3.98                           & 4.87                           & 2017                           & 1                              & 1                             \\\\\n",
       "\t  9                             & 24f1adb1c9d34c3c26643e92fcc37a & 0                              & 29                             & 28                             & 5                              & 6                              & 4                              & 5                              & 1                              & 1                              & 4.82                           & 4.52                           & 4.82                           & 4.83                           & 2017                           & 2                              & 0                             \\\\\n",
       "\t 10                             & 300b9980166ef23dce68bd095eadc6 & 0                              & 29                             & 35                             & 5                              & 7                              & 3                              & 4                              & 2                              & 3                              & 4.26                           & 3.92                           & 4.26                           & 4.40                           & 2017                           & 1                              & 1                             \\\\\n",
       "\\end{tabular}\n"
      ],
      "text/markdown": [
       "\n",
       "| id | student_id | year | total_credits_1 | total_credits_2 | total_courses_1 | total_courses_2 | course_approved_1 | course_approved_2 | course_failed_1 | course_failed_2 | t_gpa_1 | t_gpa_2 | c_gpa_1 | c_gpa_2 | start_year | Cluster | Permanencia_term_3 |\n",
       "|---|---|---|---|---|---|---|---|---|---|---|---|---|---|---|---|---|---|\n",
       "|  1                             | 05cff88fd871c9e19bce4d8df60231 | 0                              | 29                             | 35                             | 5                              | 7                              | 3                              | 5                              | 2                              | 2                              | 4.84                           | 4.62                           | 4.84                           | 5.00                           | 2017                           | 3                              | 1                              |\n",
       "|  2                             | 080b659e7f6e033017ad4bda83b361 | 0                              | 29                             | 31                             | 5                              | 6                              | 2                              | 3                              | 3                              | 3                              | 3.06                           | 2.95                           | 3.06                           | 3.68                           | 2017                           | 1                              | 1                              |\n",
       "|  3                             | 0dee01f418108ad66efc4a0e0ec69d | 0                              | 29                             | 31                             | 5                              | 7                              | 5                              | 7                              | 0                              | 0                              | 6.35                           | 6.11                           | 6.35                           | 6.23                           | 2017                           | 3                              | 1                              |\n",
       "|  4                             | 0fe5ab4f3df38493e8cc71afe37e45 | 0                              | 29                             | 31                             | 5                              | 6                              | 2                              | 1                              | 3                              | 5                              | 3.59                           | 2.37                           | 3.59                           | 3.25                           | 2017                           | 1                              | 1                              |\n",
       "|  5                             | 105b0c6e99b923e322c5f2a8b8cb72 | 0                              | 29                             | 26                             | 5                              | 5                              | 2                              | 0                              | 3                              | 5                              | 2.61                           | 1.06                           | 2.61                           | 2.99                           | 2017                           | 1                              | 0                              |\n",
       "|  6                             | 126848e7b46dc961068ec7e986589b | 0                              | 29                             | 31                             | 5                              | 6                              | 2                              | 1                              | 3                              | 5                              | 3.02                           | 3.54                           | 3.02                           | 3.91                           | 2017                           | 1                              | 0                              |\n",
       "|  7                             | 1c3b9ea824f67a199286b9234015d3 | 0                              | 29                             | 31                             | 5                              | 7                              | 5                              | 5                              | 0                              | 2                              | 5.37                           | 4.71                           | 5.37                           | 5.03                           | 2017                           | 3                              | 1                              |\n",
       "|  8                             | 22413a4428da8a2c63278c18738cbe | 0                              | 29                             | 35                             | 5                              | 7                              | 3                              | 7                              | 2                              | 0                              | 3.98                           | 4.72                           | 3.98                           | 4.87                           | 2017                           | 1                              | 1                              |\n",
       "|  9                             | 24f1adb1c9d34c3c26643e92fcc37a | 0                              | 29                             | 28                             | 5                              | 6                              | 4                              | 5                              | 1                              | 1                              | 4.82                           | 4.52                           | 4.82                           | 4.83                           | 2017                           | 2                              | 0                              |\n",
       "| 10                             | 300b9980166ef23dce68bd095eadc6 | 0                              | 29                             | 35                             | 5                              | 7                              | 3                              | 4                              | 2                              | 3                              | 4.26                           | 3.92                           | 4.26                           | 4.40                           | 2017                           | 1                              | 1                              |\n",
       "\n"
      ],
      "text/plain": [
       "   id student_id                     year total_credits_1 total_credits_2\n",
       "1   1 05cff88fd871c9e19bce4d8df60231 0    29              35             \n",
       "2   2 080b659e7f6e033017ad4bda83b361 0    29              31             \n",
       "3   3 0dee01f418108ad66efc4a0e0ec69d 0    29              31             \n",
       "4   4 0fe5ab4f3df38493e8cc71afe37e45 0    29              31             \n",
       "5   5 105b0c6e99b923e322c5f2a8b8cb72 0    29              26             \n",
       "6   6 126848e7b46dc961068ec7e986589b 0    29              31             \n",
       "7   7 1c3b9ea824f67a199286b9234015d3 0    29              31             \n",
       "8   8 22413a4428da8a2c63278c18738cbe 0    29              35             \n",
       "9   9 24f1adb1c9d34c3c26643e92fcc37a 0    29              28             \n",
       "10 10 300b9980166ef23dce68bd095eadc6 0    29              35             \n",
       "   total_courses_1 total_courses_2 course_approved_1 course_approved_2\n",
       "1  5               7               3                 5                \n",
       "2  5               6               2                 3                \n",
       "3  5               7               5                 7                \n",
       "4  5               6               2                 1                \n",
       "5  5               5               2                 0                \n",
       "6  5               6               2                 1                \n",
       "7  5               7               5                 5                \n",
       "8  5               7               3                 7                \n",
       "9  5               6               4                 5                \n",
       "10 5               7               3                 4                \n",
       "   course_failed_1 course_failed_2 t_gpa_1 t_gpa_2 c_gpa_1 c_gpa_2 start_year\n",
       "1  2               2               4.84    4.62    4.84    5.00    2017      \n",
       "2  3               3               3.06    2.95    3.06    3.68    2017      \n",
       "3  0               0               6.35    6.11    6.35    6.23    2017      \n",
       "4  3               5               3.59    2.37    3.59    3.25    2017      \n",
       "5  3               5               2.61    1.06    2.61    2.99    2017      \n",
       "6  3               5               3.02    3.54    3.02    3.91    2017      \n",
       "7  0               2               5.37    4.71    5.37    5.03    2017      \n",
       "8  2               0               3.98    4.72    3.98    4.87    2017      \n",
       "9  1               1               4.82    4.52    4.82    4.83    2017      \n",
       "10 2               3               4.26    3.92    4.26    4.40    2017      \n",
       "   Cluster Permanencia_term_3\n",
       "1  3       1                 \n",
       "2  1       1                 \n",
       "3  3       1                 \n",
       "4  1       1                 \n",
       "5  1       0                 \n",
       "6  1       0                 \n",
       "7  3       1                 \n",
       "8  1       1                 \n",
       "9  2       0                 \n",
       "10 1       1                 "
      ]
     },
     "metadata": {},
     "output_type": "display_data"
    }
   ],
   "source": [
    "#1. lectura de datos \n",
    "datos <- read.csv(\"Datos_Bart_C.csv\",header=TRUE,sep=\";\",dec=\",\")\n",
    "datos[1:10,]\n"
   ]
  },
  {
   "cell_type": "code",
   "execution_count": 32,
   "metadata": {
    "scrolled": true
   },
   "outputs": [
    {
     "ename": "ERROR",
     "evalue": "Error in parse(text = x, srcfile = src): <text>:1:17: unexpected symbol\n1: probit: tratam. variable\n                    ^\n",
     "output_type": "error",
     "traceback": [
      "Error in parse(text = x, srcfile = src): <text>:1:17: unexpected symbol\n1: probit: tratam. variable\n                    ^\nTraceback:\n"
     ]
    }
   ],
   "source": [
    "probit: tratam. variable causal explicita, metodo no esta suponiendo relacion lineal\n",
    "\n",
    "logit: más general\n",
    "\n",
    "BART: general, debe adaptarse mejor\n",
    "\n",
    "como se compara bart con regresion logistica o probit\n",
    "\n",
    "prueba de mejora o no de modelo agregando y sacando variable \"dudosa\"\n",
    "\n",
    "adecuar datos para los dos modelos, definir entrenamiento y test 70-30\n",
    "\n",
    "usar parámetro n-tree\n"
   ]
  },
  {
   "cell_type": "code",
   "execution_count": 2,
   "metadata": {
    "scrolled": true
   },
   "outputs": [
    {
     "data": {
      "text/html": [
       "<ol class=list-inline>\n",
       "\t<li>286</li>\n",
       "\t<li>18</li>\n",
       "</ol>\n"
      ],
      "text/latex": [
       "\\begin{enumerate*}\n",
       "\\item 286\n",
       "\\item 18\n",
       "\\end{enumerate*}\n"
      ],
      "text/markdown": [
       "1. 286\n",
       "2. 18\n",
       "\n",
       "\n"
      ],
      "text/plain": [
       "[1] 286  18"
      ]
     },
     "metadata": {},
     "output_type": "display_data"
    },
    {
     "data": {
      "text/plain": [
       "       id                                  student_id       year       \n",
       " Min.   :  1.00   00b766201f72e60666f22c02317a5d:  1   Min.   :0.0000  \n",
       " 1st Qu.: 72.25   00fe221fac0f4d1bf2683dcd7e3d66:  1   1st Qu.:0.0000  \n",
       " Median :143.50   0382ead66419e1409a953d0500f790:  1   Median :1.0000  \n",
       " Mean   :143.50   0419b0933c02c07b7f6be7a58d3b62:  1   Mean   :0.5105  \n",
       " 3rd Qu.:214.75   047594087b6b6ce60f7cb0bc405a23:  1   3rd Qu.:1.0000  \n",
       " Max.   :286.00   04d40c955dd809a1dd13b0f6e5c065:  1   Max.   :1.0000  \n",
       "                  (Other)                       :280                   \n",
       " total_credits_1 total_credits_2 total_courses_1 total_courses_2\n",
       " Min.   : 9.0    Min.   : 0.00   Min.   :2.000   Min.   :0.000  \n",
       " 1st Qu.:28.0    1st Qu.:24.00   1st Qu.:5.000   1st Qu.:5.000  \n",
       " Median :28.0    Median :31.00   Median :5.000   Median :6.000  \n",
       " Mean   :27.4    Mean   :26.21   Mean   :4.825   Mean   :5.434  \n",
       " 3rd Qu.:29.0    3rd Qu.:31.00   3rd Qu.:5.000   3rd Qu.:7.000  \n",
       " Max.   :30.0    Max.   :36.00   Max.   :6.000   Max.   :8.000  \n",
       "                                                                \n",
       " course_approved_1 course_approved_2 course_failed_1 course_failed_2\n",
       " Min.   :0.000     Min.   :0.000     Min.   :0.00    Min.   :0.000  \n",
       " 1st Qu.:2.000     1st Qu.:2.000     1st Qu.:0.00    1st Qu.:0.000  \n",
       " Median :3.000     Median :4.000     Median :1.00    Median :1.000  \n",
       " Mean   :3.395     Mean   :3.846     Mean   :1.43    Mean   :1.587  \n",
       " 3rd Qu.:5.000     3rd Qu.:6.000     3rd Qu.:3.00    3rd Qu.:3.000  \n",
       " Max.   :5.000     Max.   :7.000     Max.   :5.00    Max.   :7.000  \n",
       "                                                                    \n",
       "    t_gpa_1         t_gpa_2         c_gpa_1         c_gpa_2        start_year  \n",
       " Min.   :1.020   Min.   :0.000   Min.   :1.020   Min.   :0.000   Min.   :2017  \n",
       " 1st Qu.:3.692   1st Qu.:3.000   1st Qu.:3.712   1st Qu.:3.865   1st Qu.:2017  \n",
       " Median :4.410   Median :4.255   Median :4.460   Median :4.565   Median :2020  \n",
       " Mean   :4.370   Mean   :3.744   Mean   :4.387   Mean   :4.101   Mean   :2019  \n",
       " 3rd Qu.:5.025   3rd Qu.:4.810   3rd Qu.:5.025   3rd Qu.:4.985   3rd Qu.:2021  \n",
       " Max.   :6.610   Max.   :6.540   Max.   :6.610   Max.   :6.570   Max.   :2021  \n",
       "                                                                               \n",
       "    Cluster      Permanencia_term_3\n",
       " Min.   :1.000   Min.   :0.0000    \n",
       " 1st Qu.:1.000   1st Qu.:1.0000    \n",
       " Median :2.000   Median :1.0000    \n",
       " Mean   :1.867   Mean   :0.7552    \n",
       " 3rd Qu.:3.000   3rd Qu.:1.0000    \n",
       " Max.   :3.000   Max.   :1.0000    \n",
       "                                   "
      ]
     },
     "metadata": {},
     "output_type": "display_data"
    },
    {
     "ename": "ERROR",
     "evalue": "Error in cor(datos): 'x' must be numeric\n",
     "output_type": "error",
     "traceback": [
      "Error in cor(datos): 'x' must be numeric\nTraceback:\n",
      "1. cor(datos)",
      "2. stop(\"'x' must be numeric\")"
     ]
    }
   ],
   "source": [
    "#2. análisis exploratorio de datos:\n",
    "\n",
    "dim(datos)\n",
    "summary(datos)\n",
    "cor(datos)"
   ]
  },
  {
   "cell_type": "code",
   "execution_count": 1,
   "metadata": {},
   "outputs": [
    {
     "ename": "ERROR",
     "evalue": "Error in eval(expr, envir, enclos): '...' usado en un contexto incorrecto\n",
     "output_type": "error",
     "traceback": [
      "Error in eval(expr, envir, enclos): '...' usado en un contexto incorrecto\nTraceback:\n"
     ]
    }
   ],
   "source": [
    "#Pasos ejemplos\n",
    "# Cargar la librería para PCA\n",
    "library(stats)\n",
    "\n",
    "# Crear una matriz de datos (filas: observaciones, columnas: variables)\n",
    "datos <- data.frame(variable1, variable2, variable3, ...) # Reemplaza con tus datos\n",
    "\n",
    "# Realizar el PCA\n",
    "pca_result <- prcomp(datos, scale. = TRUE)\n",
    "\n",
    "# Obtener los componentes principales y su varianza explicada\n",
    "componentes <- pca_result$rotation\n",
    "varianza_explicada <- pca_result$sdev^2 / sum(pca_result$sdev^2) * 100\n",
    "\n",
    "# Gráfico de varianza explicada acumulada\n",
    "plot(cumsum(varianza_explicada), xlab = \"Número de componentes\", ylab = \"Varianza explicada acumulada\", type = \"l\")\n",
    "\n",
    "# Proyectar los datos en el espacio PCA\n",
    "datos_transformados <- as.data.frame(predict(pca_result, newdata = datos))\n"
   ]
  },
  {
   "cell_type": "code",
   "execution_count": 35,
   "metadata": {},
   "outputs": [
    {
     "data": {
      "image/png": "[encoded data removed]",
      "text/plain": [
       "plot without title"
      ]
     },
     "metadata": {
      "image/png": {
       "height": 420,
       "width": 420
      }
     },
     "output_type": "display_data"
    }
   ],
   "source": [
    "\n",
    "boxplot(datos$Cluster ~ datos$course_approved_1)"
   ]
  },
  {
   "cell_type": "code",
   "execution_count": 4,
   "metadata": {},
   "outputs": [
    {
     "name": "stdout",
     "output_type": "stream",
     "text": [
      "\n",
      "  There is a binary version available but the source version is later:\n",
      "         binary source needs_compilation\n",
      "corrplot   0.88   0.92             FALSE\n",
      "\n"
     ]
    },
    {
     "name": "stderr",
     "output_type": "stream",
     "text": [
      "installing the source package 'corrplot'\n",
      "\n",
      "\n",
      "corrplot 0.92 loaded\n",
      "\n"
     ]
    }
   ],
   "source": [
    "install.packages(\"corrplot\")\n",
    "library(\"corrplot\")"
   ]
  },
  {
   "cell_type": "code",
   "execution_count": 5,
   "metadata": {},
   "outputs": [
    {
     "data": {
      "text/plain": [
       " total_credits_1 total_credits_2 total_courses_1 total_courses_2\n",
       " Min.   : 9.0    Min.   : 0.00   Min.   :2.000   Min.   :0.000  \n",
       " 1st Qu.:28.0    1st Qu.:24.00   1st Qu.:5.000   1st Qu.:5.000  \n",
       " Median :28.0    Median :31.00   Median :5.000   Median :6.000  \n",
       " Mean   :27.4    Mean   :26.21   Mean   :4.825   Mean   :5.434  \n",
       " 3rd Qu.:29.0    3rd Qu.:31.00   3rd Qu.:5.000   3rd Qu.:7.000  \n",
       " Max.   :30.0    Max.   :36.00   Max.   :6.000   Max.   :8.000  \n",
       " course_approved_1 course_approved_2 course_failed_1 course_failed_2\n",
       " Min.   :0.000     Min.   :0.000     Min.   :0.00    Min.   :0.000  \n",
       " 1st Qu.:2.000     1st Qu.:2.000     1st Qu.:0.00    1st Qu.:0.000  \n",
       " Median :3.000     Median :4.000     Median :1.00    Median :1.000  \n",
       " Mean   :3.395     Mean   :3.846     Mean   :1.43    Mean   :1.587  \n",
       " 3rd Qu.:5.000     3rd Qu.:6.000     3rd Qu.:3.00    3rd Qu.:3.000  \n",
       " Max.   :5.000     Max.   :7.000     Max.   :5.00    Max.   :7.000  \n",
       "    t_gpa_1         t_gpa_2         c_gpa_1         c_gpa_2     \n",
       " Min.   :1.020   Min.   :0.000   Min.   :1.020   Min.   :0.000  \n",
       " 1st Qu.:3.692   1st Qu.:3.000   1st Qu.:3.712   1st Qu.:3.865  \n",
       " Median :4.410   Median :4.255   Median :4.460   Median :4.565  \n",
       " Mean   :4.370   Mean   :3.744   Mean   :4.387   Mean   :4.101  \n",
       " 3rd Qu.:5.025   3rd Qu.:4.810   3rd Qu.:5.025   3rd Qu.:4.985  \n",
       " Max.   :6.610   Max.   :6.540   Max.   :6.610   Max.   :6.570  "
      ]
     },
     "metadata": {},
     "output_type": "display_data"
    },
    {
     "data": {
      "image/png": "[encoded data removed]",
      "text/plain": [
       "Plot with title \"\""
      ]
     },
     "metadata": {
      "image/png": {
       "height": 420,
       "width": 420
      }
     },
     "output_type": "display_data"
    }
   ],
   "source": [
    "#definición de variables\n",
    "response<-datos[,18]\n",
    "treatment <- datos[,3]\n",
    "confounders <- datos[,4:15]\n",
    "#confounders=scale(confounders)\n",
    "\n",
    "summary(confounders)\n",
    "\n",
    "\n",
    "dataT <- cbind(response,treatment,confounders)\n",
    "corDatos <- cor(dataT)\n",
    "corrplot(corDatos)\n"
   ]
  },
  {
   "cell_type": "code",
   "execution_count": 6,
   "metadata": {},
   "outputs": [
    {
     "name": "stdout",
     "output_type": "stream",
     "text": [
      "        treatment\n",
      "response   0   1\n",
      "       0  39  31\n",
      "       1 101 115\n"
     ]
    },
    {
     "name": "stderr",
     "output_type": "stream",
     "text": [
      "Warning message in chisq.test(cbind(as.factor(response), as.factor(treatment))):\n",
      "\"Chi-squared approximation may be incorrect\"\n"
     ]
    },
    {
     "data": {
      "text/plain": [
       "\n",
       "\tPearson's Chi-squared test\n",
       "\n",
       "data:  cbind(as.factor(response), as.factor(treatment))\n",
       "X-squared = 38.973, df = 285, p-value = 1\n"
      ]
     },
     "metadata": {},
     "output_type": "display_data"
    }
   ],
   "source": [
    "#análisis de independencia respuesta vs tratamiento\n",
    "tab <- table(response, treatment)\n",
    "print(tab)\n",
    "chisq.test(cbind(as.factor(response),as.factor(treatment)))"
   ]
  },
  {
   "cell_type": "code",
   "execution_count": 7,
   "metadata": {},
   "outputs": [
    {
     "data": {
      "text/plain": [
       " total_credits_1 total_credits_2 total_courses_1 total_courses_2\n",
       " Min.   : 9.0    Min.   : 0.00   Min.   :2.000   Min.   :0.000  \n",
       " 1st Qu.:28.0    1st Qu.:24.00   1st Qu.:5.000   1st Qu.:5.000  \n",
       " Median :28.0    Median :31.00   Median :5.000   Median :6.000  \n",
       " Mean   :27.4    Mean   :26.21   Mean   :4.825   Mean   :5.434  \n",
       " 3rd Qu.:29.0    3rd Qu.:31.00   3rd Qu.:5.000   3rd Qu.:7.000  \n",
       " Max.   :30.0    Max.   :36.00   Max.   :6.000   Max.   :8.000  \n",
       " course_approved_1 course_approved_2 course_failed_1 course_failed_2\n",
       " Min.   :0.000     Min.   :0.000     Min.   :0.00    Min.   :0.000  \n",
       " 1st Qu.:2.000     1st Qu.:2.000     1st Qu.:0.00    1st Qu.:0.000  \n",
       " Median :3.000     Median :4.000     Median :1.00    Median :1.000  \n",
       " Mean   :3.395     Mean   :3.846     Mean   :1.43    Mean   :1.587  \n",
       " 3rd Qu.:5.000     3rd Qu.:6.000     3rd Qu.:3.00    3rd Qu.:3.000  \n",
       " Max.   :5.000     Max.   :7.000     Max.   :5.00    Max.   :7.000  \n",
       "    t_gpa_1         t_gpa_2         c_gpa_1         c_gpa_2     \n",
       " Min.   :1.020   Min.   :0.000   Min.   :1.020   Min.   :0.000  \n",
       " 1st Qu.:3.692   1st Qu.:3.000   1st Qu.:3.712   1st Qu.:3.865  \n",
       " Median :4.410   Median :4.255   Median :4.460   Median :4.565  \n",
       " Mean   :4.370   Mean   :3.744   Mean   :4.387   Mean   :4.101  \n",
       " 3rd Qu.:5.025   3rd Qu.:4.810   3rd Qu.:5.025   3rd Qu.:4.985  \n",
       " Max.   :6.610   Max.   :6.540   Max.   :6.610   Max.   :6.570  "
      ]
     },
     "metadata": {},
     "output_type": "display_data"
    },
    {
     "data": {
      "text/plain": [
       "\n",
       "Call:\n",
       "glm(formula = y ~ z + x1 + x2 + x3 + x4 + x5 + x6 + x7 + x8 + \n",
       "    x9 + x10, family = binomial(link = \"probit\"))\n",
       "\n",
       "Deviance Residuals: \n",
       "     Min        1Q    Median        3Q       Max  \n",
       "-2.27860   0.03716   0.27610   0.59503   1.93992  \n",
       "\n",
       "Coefficients: (2 not defined because of singularities)\n",
       "             Estimate Std. Error z value Pr(>|z|)   \n",
       "(Intercept) -0.397544   1.486340  -0.267  0.78911   \n",
       "z1          -0.009755   0.215768  -0.045  0.96394   \n",
       "x1          -0.218624   0.093158  -2.347  0.01894 * \n",
       "x2           0.136523   0.055595   2.456  0.01406 * \n",
       "x3           0.923588   0.554568   1.665  0.09583 . \n",
       "x4          -0.596606   0.277164  -2.153  0.03136 * \n",
       "x5          -0.016751   0.207582  -0.081  0.93568   \n",
       "x6           0.309298   0.097702   3.166  0.00155 **\n",
       "x7                 NA         NA      NA       NA   \n",
       "x8                 NA         NA      NA       NA   \n",
       "x9           0.295457   0.278403   1.061  0.28857   \n",
       "x10          0.039392   0.145451   0.271  0.78652   \n",
       "---\n",
       "Signif. codes:  0 '***' 0.001 '**' 0.01 '*' 0.05 '.' 0.1 ' ' 1\n",
       "\n",
       "(Dispersion parameter for binomial family taken to be 1)\n",
       "\n",
       "    Null deviance: 318.32  on 285  degrees of freedom\n",
       "Residual deviance: 212.36  on 276  degrees of freedom\n",
       "AIC: 232.36\n",
       "\n",
       "Number of Fisher Scoring iterations: 6\n"
      ]
     },
     "metadata": {},
     "output_type": "display_data"
    }
   ],
   "source": [
    "#3. Ajuste de regresión logística para comparar resultados de bartc\n",
    "\n",
    "y= as.factor(response)\n",
    "z = as.factor(treatment)\n",
    "summary(confounders)\n",
    "x1 = confounders[,1]\n",
    "x2 = confounders[,2]\n",
    "x3 = confounders[,3]\n",
    "x4 = confounders[,4]\n",
    "x5 = confounders[,5]\n",
    "x6 = confounders[,6]\n",
    "x7 = confounders[,7]\n",
    "x8 = confounders[,8]\n",
    "x9 = confounders[,9]\n",
    "x10 = confounders[,10]\n",
    "\n",
    "res2 <- glm(y ~ z  +x1+x2+x3+x4+x5+x6+x7+x8+x9+x10,family=binomial(link=\"probit\"))\n",
    "summary(res2)"
   ]
  },
  {
   "cell_type": "code",
   "execution_count": 30,
   "metadata": {},
   "outputs": [
    {
     "data": {
      "image/png": "[encoded data removed]",
      "text/plain": [
       "plot without title"
      ]
     },
     "metadata": {
      "image/png": {
       "height": 420,
       "width": 420
      }
     },
     "output_type": "display_data"
    },
    {
     "data": {
      "image/png": "[encoded data removed]",
      "text/plain": [
       "plot without title"
      ]
     },
     "metadata": {
      "image/png": {
       "height": 420,
       "width": 420
      }
     },
     "output_type": "display_data"
    }
   ],
   "source": [
    "PredProb=predict(res2,type='response') #predicting probabilities\n",
    "\n",
    "par(mfrow=c(2,2))\n",
    "plot(z, PredProb)\n",
    "plot(x6, PredProb)\n",
    "plot(x2, PredProb)\n",
    "plot(x4, PredProb)\n",
    "plot(x1, PredProb)"
   ]
  },
  {
   "cell_type": "code",
   "execution_count": 9,
   "metadata": {},
   "outputs": [
    {
     "name": "stdout",
     "output_type": "stream",
     "text": [
      "\n",
      "  There is a binary version available but the source version is later:\n",
      "          binary source needs_compilation\n",
      "bartCause  1.0-4  1.0-6             FALSE\n",
      "\n"
     ]
    },
    {
     "name": "stderr",
     "output_type": "stream",
     "text": [
      "installing the source package 'bartCause'\n",
      "\n",
      "\n"
     ]
    }
   ],
   "source": [
    "# 4. Ajuste de modelo bayesiano de arboles aditivos con causalidad\n",
    "\n",
    "install.packages(\"bartCause\")\n"
   ]
  },
  {
   "cell_type": "code",
   "execution_count": 10,
   "metadata": {},
   "outputs": [],
   "source": [
    "library(bartCause)"
   ]
  },
  {
   "cell_type": "code",
   "execution_count": 11,
   "metadata": {},
   "outputs": [],
   "source": [
    "\n",
    "confounders <-cbind(x1,x3,x4,x5)"
   ]
  },
  {
   "cell_type": "code",
   "execution_count": 12,
   "metadata": {},
   "outputs": [
    {
     "name": "stdout",
     "output_type": "stream",
     "text": [
      "fitting treatment model via method 'bart'\n",
      "fitting response model via method 'bart'\n"
     ]
    }
   ],
   "source": [
    "\n",
    "res <- bartc(response, treatment,confounders,method.rsp=\"bart\",n.samples = 100L, n.burn = 15L, n.chains = 2L,verbose=TRUE)"
   ]
  },
  {
   "cell_type": "code",
   "execution_count": 13,
   "metadata": {},
   "outputs": [
    {
     "data": {
      "text/plain": [
       "Call: bartc(response = response, treatment = treatment, confounders = confounders, \n",
       "            method.rsp = \"bart\", verbose = TRUE, n.samples = 100L, n.burn = 15L, \n",
       "            n.chains = 2L)\n",
       "\n",
       "Causal inference model fit by:\n",
       "  model.rsp: bart\n",
       "  model.trt: bart\n",
       "\n",
       "Treatment effect (population average):\n",
       "    estimate     sd ci.lower ci.upper\n",
       "ate -0.03448 0.1031  -0.2366   0.1676\n",
       "Estimates fit from 286 total observations\n",
       "95% credible interval calculated by: normal approximation\n",
       "  population TE approximated by: posterior predictive distribution\n",
       "Result based on 100 posterior samples times 2 chains"
      ]
     },
     "metadata": {},
     "output_type": "display_data"
    }
   ],
   "source": [
    "summary(res)"
   ]
  },
  {
   "cell_type": "code",
   "execution_count": 14,
   "metadata": {},
   "outputs": [
    {
     "data": {
      "text/html": [
       "-0.0358216783216783"
      ],
      "text/latex": [
       "-0.0358216783216783"
      ],
      "text/markdown": [
       "-0.0358216783216783"
      ],
      "text/plain": [
       "[1] -0.03582168"
      ]
     },
     "metadata": {},
     "output_type": "display_data"
    }
   ],
   "source": [
    "fitted(res)"
   ]
  },
  {
   "cell_type": "code",
   "execution_count": 15,
   "metadata": {},
   "outputs": [
    {
     "data": {
      "text/html": [
       "200"
      ],
      "text/latex": [
       "200"
      ],
      "text/markdown": [
       "200"
      ],
      "text/plain": [
       "[1] 200"
      ]
     },
     "metadata": {},
     "output_type": "display_data"
    }
   ],
   "source": [
    "length(extract(res))"
   ]
  },
  {
   "cell_type": "code",
   "execution_count": 16,
   "metadata": {},
   "outputs": [
    {
     "data": {
      "text/plain": [
       "    Min.  1st Qu.   Median     Mean  3rd Qu.     Max. \n",
       "-0.33916 -0.10577 -0.04196 -0.03582  0.03147  0.23427 "
      ]
     },
     "metadata": {},
     "output_type": "display_data"
    }
   ],
   "source": [
    "summary(extract(res))"
   ]
  },
  {
   "cell_type": "code",
   "execution_count": 17,
   "metadata": {},
   "outputs": [
    {
     "data": {
      "image/png": "[encoded data removed]",
      "text/plain": [
       "plot without title"
      ]
     },
     "metadata": {
      "image/png": {
       "height": 420,
       "width": 420
      }
     },
     "output_type": "display_data"
    }
   ],
   "source": [
    "plot(fitted(res, type = \"mu.obs\"), fitted(res2))\n"
   ]
  },
  {
   "cell_type": "code",
   "execution_count": 18,
   "metadata": {},
   "outputs": [
    {
     "data": {
      "image/png": "[encoded data removed]",
      "text/plain": [
       "plot without title"
      ]
     },
     "metadata": {
      "image/png": {
       "height": 420,
       "width": 420
      }
     },
     "output_type": "display_data"
    }
   ],
   "source": [
    "estimated<- fitted(res, type = \"mu.obs\")\n",
    "plot(estimated, response)"
   ]
  },
  {
   "cell_type": "code",
   "execution_count": 19,
   "metadata": {
    "scrolled": true
   },
   "outputs": [
    {
     "data": {
      "image/png": "[encoded data removed]",
      "text/plain": [
       "plot without title"
      ]
     },
     "metadata": {
      "image/png": {
       "height": 420,
       "width": 420
      }
     },
     "output_type": "display_data"
    }
   ],
   "source": [
    "ites<- extract(res, type = \"ite\")\n",
    "#ites <- ites[,z[]==]\n",
    "ite.m  <- apply(ites, 2, mean)\n",
    "ite.sd <- apply(ites, 2, sd)\n",
    "ite.lb <- ite.m - 2 * ite.sd\n",
    "ite.ub <- ite.m + 2 * ite.sd\n",
    "\n",
    "ite.o <- order(ite.m)\n",
    "\n",
    "plot(NULL, type = \"n\",\n",
    "     xlim = c(1, length(ite.m)), ylim = range(ite.lb, ite.ub),\n",
    "     xlab = \"effect order\", ylab = \"individual treatment effect\")\n",
    "lines(rbind(seq_along(ite.m), seq_along(ite.m), NA),\n",
    "      rbind(ite.lb[ite.o], ite.ub[ite.o], NA), lwd = 0.5)\n",
    "points(seq_along(ite.m), ite.m[ite.o], pch = 20)"
   ]
  },
  {
   "cell_type": "code",
   "execution_count": 20,
   "metadata": {},
   "outputs": [
    {
     "data": {
      "image/png": "[encoded data removed]",
      "text/plain": [
       "plot without title"
      ]
     },
     "metadata": {
      "image/png": {
       "height": 420,
       "width": 420
      }
     },
     "output_type": "display_data"
    }
   ],
   "source": [
    "ites<- extract(res, type = \"mu.obs\")\n",
    "#ites <- ites[,z[]==0]\n",
    "ite.m  <- apply(ites, 2, mean)\n",
    "ite.sd <- apply(ites, 2, sd)\n",
    "ite.lb <- ite.m - 2 * ite.sd\n",
    "ite.ub <- ite.m + 2 * ite.sd\n",
    "\n",
    "ite.o <- order(ite.m)\n",
    "\n",
    "plot(NULL, type = \"n\",\n",
    "     xlim = c(1, length(ite.m)), ylim = range(ite.lb, ite.ub),\n",
    "     xlab = \"effect order\", ylab = \"individual treatment effect\")\n",
    "lines(rbind(seq_along(ite.m), seq_along(ite.m), NA),\n",
    "      rbind(ite.lb[ite.o], ite.ub[ite.o], NA), lwd = 0.5)\n",
    "points(seq_along(ite.m), ite.m[ite.o], pch = 20)"
   ]
  },
  {
   "cell_type": "code",
   "execution_count": 21,
   "metadata": {},
   "outputs": [
    {
     "name": "stderr",
     "output_type": "stream",
     "text": [
      "Registered S3 methods overwritten by 'BayesTree':\n",
      "  method       from  \n",
      "  plot.bart    dbarts\n",
      "  plot.pdbart  dbarts\n",
      "  plot.pd2bart dbarts\n",
      "\n"
     ]
    }
   ],
   "source": [
    "library(BayesTree)"
   ]
  },
  {
   "cell_type": "code",
   "execution_count": 22,
   "metadata": {},
   "outputs": [],
   "source": [
    "x1 <- datos[,8]\n",
    "x2 <- datos[,9]\n",
    "x3 <- datos[,10]\n",
    "x4 <- datos[,12]\n",
    "x5 <- datos[,13]\n",
    "\n",
    "response <- datos[,18]\n",
    "\n",
    "predictors <- cbind(x1, x2, x3, x4, x5)\n",
    "\n",
    "datosF <- data.frame(predictors, response)"
   ]
  },
  {
   "cell_type": "code",
   "execution_count": 23,
   "metadata": {},
   "outputs": [
    {
     "name": "stdout",
     "output_type": "stream",
     "text": [
      "NOTE: assumming numeric response is binary\n",
      "\n",
      "\n",
      "Running BART with binary y\n",
      "\n",
      "number of trees: 100\n",
      "Prior:\n",
      "\tk: 2.000000\n",
      "\tbinary offset is: 0.000000\n",
      "\tpower and base for tree prior: 2.000000 0.950000\n",
      "\tuse quantiles for rule cut points: 0\n",
      "data:\n",
      "\tnumber of training observations: 286\n",
      "\tnumber of test observations: 0\n",
      "\tnumber of explanatory variables: 5\n",
      "\n",
      "\n",
      "Cutoff rules c in x<=c vs x>c\n",
      "Number of cutoffs: (var: number of possible c):\n",
      "(1: 100) (2: 100) (3: 100) (4: 100) (5: 100) \n",
      "\n",
      "\n",
      "\n",
      "Running mcmc loop:\n",
      "iteration: 100 (of 1100)\n",
      "iteration: 200 (of 1100)\n",
      "iteration: 300 (of 1100)\n",
      "iteration: 400 (of 1100)\n",
      "iteration: 500 (of 1100)\n",
      "iteration: 600 (of 1100)\n",
      "iteration: 700 (of 1100)\n",
      "iteration: 800 (of 1100)\n",
      "iteration: 900 (of 1100)\n",
      "iteration: 1000 (of 1100)\n",
      "iteration: 1100 (of 1100)\n",
      "time for loop: 5\n",
      "\n",
      "Tree sizes, last iteration:\n",
      "2 2 2 2 1 2 2 5 2 2 2 3 3 2 2 2 2 2 3 3 \n",
      "2 2 2 2 1 2 2 4 2 3 2 3 2 2 2 3 2 2 3 2 \n",
      "2 2 2 2 2 2 2 2 2 2 2 2 2 2 2 2 5 1 3 2 \n",
      "2 3 2 5 2 2 3 2 2 3 2 4 3 2 2 2 2 2 2 2 \n",
      "4 3 2 3 2 2 2 2 2 2 2 2 2 2 2 2 2 2 2 3 \n",
      "Variable Usage, last iteration (var:count):\n",
      "(1: 28) (2: 33) (3: 22) (4: 20) (5: 25) \n",
      "\n",
      "DONE BART 11-2-2014\n",
      "\n"
     ]
    }
   ],
   "source": [
    "y= as.factor(response)\n",
    "\n",
    "formula <- y ~ x1 + x2 + x3 + x4 + x5 \n",
    "\n",
    "model <- bart(predictors,response, ntree = 100)"
   ]
  },
  {
   "cell_type": "code",
   "execution_count": 26,
   "metadata": {},
   "outputs": [],
   "source": [
    "yb = apply(model$yhat.train,2,mean)\n",
    "\n",
    "fitb <- pnorm(yb)"
   ]
  },
  {
   "cell_type": "code",
   "execution_count": 27,
   "metadata": {},
   "outputs": [
    {
     "data": {
      "text/html": [
       "<ol class=list-inline>\n",
       "\t<li>0.884260978485244</li>\n",
       "\t<li>0.679995756149983</li>\n",
       "\t<li>0.988228407054308</li>\n",
       "\t<li>0.552649279797767</li>\n",
       "\t<li>0.214120223487905</li>\n",
       "\t<li>0.657197720241032</li>\n",
       "\t<li>0.890190229925643</li>\n",
       "\t<li>0.970493501804604</li>\n",
       "\t<li>0.803132810743254</li>\n",
       "\t<li>0.854974532154374</li>\n",
       "\t<li>0.824561309162383</li>\n",
       "\t<li>0.870029922567286</li>\n",
       "\t<li>0.903529811825556</li>\n",
       "\t<li>0.830693781433094</li>\n",
       "\t<li>0.84430447562138</li>\n",
       "\t<li>0.601170255881068</li>\n",
       "\t<li>0.975180451678474</li>\n",
       "\t<li>0.630955502620707</li>\n",
       "\t<li>0.96298284429461</li>\n",
       "\t<li>0.634594051063493</li>\n",
       "\t<li>0.944728243070519</li>\n",
       "\t<li>0.962640847919273</li>\n",
       "\t<li>0.981952055186497</li>\n",
       "\t<li>0.969662766538617</li>\n",
       "\t<li>0.724441399081236</li>\n",
       "\t<li>0.770891500107527</li>\n",
       "\t<li>0.894514482596753</li>\n",
       "\t<li>0.889062237721616</li>\n",
       "\t<li>0.852868382274535</li>\n",
       "\t<li>0.77722296053813</li>\n",
       "\t<li>0.61823140599483</li>\n",
       "\t<li>0.679878010221649</li>\n",
       "\t<li>0.486872835034693</li>\n",
       "\t<li>0.883558744071381</li>\n",
       "\t<li>0.637924352973377</li>\n",
       "\t<li>0.705861164451559</li>\n",
       "\t<li>0.422870393362223</li>\n",
       "\t<li>0.812194829174591</li>\n",
       "\t<li>0.751945374899751</li>\n",
       "\t<li>0.987862766051623</li>\n",
       "\t<li>0.476464707562499</li>\n",
       "\t<li>0.862053659139901</li>\n",
       "\t<li>0.981915349920383</li>\n",
       "\t<li>0.643332822345213</li>\n",
       "\t<li>0.760354756301203</li>\n",
       "\t<li>0.986036543272338</li>\n",
       "\t<li>0.777233793473233</li>\n",
       "\t<li>0.97826632269899</li>\n",
       "\t<li>0.613092193966798</li>\n",
       "\t<li>0.850601024043341</li>\n",
       "\t<li>0.970379506166051</li>\n",
       "\t<li>0.87714423338762</li>\n",
       "\t<li>0.846558049642509</li>\n",
       "\t<li>0.617200046108095</li>\n",
       "\t<li>0.963892818121784</li>\n",
       "\t<li>0.628471609981831</li>\n",
       "\t<li>0.590837084451907</li>\n",
       "\t<li>0.7808810343044</li>\n",
       "\t<li>0.77537348728593</li>\n",
       "\t<li>0.85819825680489</li>\n",
       "\t<li>0.770819297317046</li>\n",
       "\t<li>0.964525702255756</li>\n",
       "\t<li>0.969978302301252</li>\n",
       "\t<li>0.882439210441407</li>\n",
       "\t<li>0.799643327615397</li>\n",
       "\t<li>0.633845014635791</li>\n",
       "\t<li>0.88015513227211</li>\n",
       "\t<li>0.982182181037123</li>\n",
       "\t<li>0.892942401098782</li>\n",
       "\t<li>0.883707221979683</li>\n",
       "\t<li>0.716122826020672</li>\n",
       "\t<li>0.878819282553893</li>\n",
       "\t<li>0.117244700403765</li>\n",
       "\t<li>0.7154900125266</li>\n",
       "\t<li>0.684012781896818</li>\n",
       "\t<li>0.889998793849685</li>\n",
       "\t<li>0.852657918920965</li>\n",
       "\t<li>0.880376670508118</li>\n",
       "\t<li>0.68101022408721</li>\n",
       "\t<li>0.84745348643244</li>\n",
       "\t<li>0.975310170073107</li>\n",
       "\t<li>0.733659533825492</li>\n",
       "\t<li>0.82735505822515</li>\n",
       "\t<li>0.463719175635163</li>\n",
       "\t<li>0.935863544465782</li>\n",
       "\t<li>0.892919687760143</li>\n",
       "\t<li>0.897047271200481</li>\n",
       "\t<li>0.891740099785993</li>\n",
       "\t<li>0.248017707403747</li>\n",
       "\t<li>0.98369209987425</li>\n",
       "\t<li>0.979055714289388</li>\n",
       "\t<li>0.987497304942801</li>\n",
       "\t<li>0.886956979625013</li>\n",
       "\t<li>0.89234776842781</li>\n",
       "\t<li>0.855323391846572</li>\n",
       "\t<li>0.849856568205314</li>\n",
       "\t<li>0.909041492126106</li>\n",
       "\t<li>0.638294342308797</li>\n",
       "\t<li>0.629491987667017</li>\n",
       "\t<li>0.703172850180156</li>\n",
       "\t<li>0.114173242401865</li>\n",
       "\t<li>0.968118971556132</li>\n",
       "\t<li>0.538032095117603</li>\n",
       "\t<li>0.977613952706075</li>\n",
       "\t<li>0.854721467282035</li>\n",
       "\t<li>0.976332877621469</li>\n",
       "\t<li>0.980862836717348</li>\n",
       "\t<li>0.977857479987872</li>\n",
       "\t<li>0.886799504067047</li>\n",
       "\t<li>0.11804884303686</li>\n",
       "\t<li>0.919514144612925</li>\n",
       "\t<li>0.72457167159037</li>\n",
       "\t<li>0.816680019902138</li>\n",
       "\t<li>0.690562129947512</li>\n",
       "\t<li>0.709460719200546</li>\n",
       "\t<li>0.831960716280129</li>\n",
       "\t<li>0.857341860342899</li>\n",
       "\t<li>0.314478147039761</li>\n",
       "\t<li>0.860462342333322</li>\n",
       "\t<li>0.761912099256227</li>\n",
       "\t<li>0.877518170471717</li>\n",
       "\t<li>0.735061501543157</li>\n",
       "\t<li>0.881817480819402</li>\n",
       "\t<li>0.765283090251083</li>\n",
       "\t<li>0.612891139041843</li>\n",
       "\t<li>0.754936957755306</li>\n",
       "\t<li>0.650737155800228</li>\n",
       "\t<li>0.290125065432406</li>\n",
       "\t<li>0.713379245012151</li>\n",
       "\t<li>0.967773889068007</li>\n",
       "\t<li>0.606653773213855</li>\n",
       "\t<li>0.511991780146897</li>\n",
       "\t<li>0.987607563860996</li>\n",
       "\t<li>0.987347463508741</li>\n",
       "\t<li>0.986333050693807</li>\n",
       "\t<li>0.984372072107861</li>\n",
       "\t<li>0.404102457782672</li>\n",
       "\t<li>0.952797635619166</li>\n",
       "\t<li>0.988282628138216</li>\n",
       "\t<li>0.254039432935321</li>\n",
       "\t<li>0.974877039182304</li>\n",
       "\t<li>0.983054037545494</li>\n",
       "\t<li>0.875309020512154</li>\n",
       "\t<li>0.241042840543252</li>\n",
       "\t<li>0.973891278611918</li>\n",
       "\t<li>0.297679685033236</li>\n",
       "\t<li>0.972433817871215</li>\n",
       "\t<li>0.987969290019623</li>\n",
       "\t<li>0.820585750153412</li>\n",
       "\t<li>0.570351377828983</li>\n",
       "\t<li>0.981593246272284</li>\n",
       "\t<li>0.987134459972458</li>\n",
       "\t<li>0.981635741482432</li>\n",
       "\t<li>0.878563170546572</li>\n",
       "\t<li>0.816098036677037</li>\n",
       "\t<li>0.962406404427556</li>\n",
       "\t<li>0.789137322841066</li>\n",
       "\t<li>0.9775915722548</li>\n",
       "\t<li>0.987347463508741</li>\n",
       "\t<li>0.750985010344411</li>\n",
       "\t<li>0.97505208487514</li>\n",
       "\t<li>0.681957119938179</li>\n",
       "\t<li>0.917167711702885</li>\n",
       "\t<li>0.97412234227033</li>\n",
       "\t<li>0.847582978772902</li>\n",
       "\t<li>0.981593246272284</li>\n",
       "\t<li>0.678192267308473</li>\n",
       "\t<li>0.985749207066755</li>\n",
       "\t<li>0.980514206096114</li>\n",
       "\t<li>0.328589004109101</li>\n",
       "\t<li>0.985759534689494</li>\n",
       "\t<li>0.947927602923635</li>\n",
       "\t<li>0.945133281146153</li>\n",
       "\t<li>0.980333876958187</li>\n",
       "\t<li>0.968298813597389</li>\n",
       "\t<li>0.986403389823669</li>\n",
       "\t<li>0.810298811991623</li>\n",
       "\t<li>0.925298115077559</li>\n",
       "\t<li>0.976674469107367</li>\n",
       "\t<li>0.715509127247978</li>\n",
       "\t<li>0.986630947302832</li>\n",
       "\t<li>0.73505078840719</li>\n",
       "\t<li>0.984595265268179</li>\n",
       "\t<li>0.928331927033141</li>\n",
       "\t<li>0.97987305991293</li>\n",
       "\t<li>0.755990385199298</li>\n",
       "\t<li>0.968083763847495</li>\n",
       "\t<li>0.458098503977516</li>\n",
       "\t<li>0.966315240410887</li>\n",
       "\t<li>0.87152815439224</li>\n",
       "\t<li>0.889385036319679</li>\n",
       "\t<li>0.984438319464451</li>\n",
       "\t<li>0.912710159808883</li>\n",
       "\t<li>0.884572197054419</li>\n",
       "\t<li>0.625757078837315</li>\n",
       "\t<li>0.967164248874615</li>\n",
       "\t<li>0.987221448832842</li>\n",
       "\t<li>0.98087707990854</li>\n",
       "\t<li>0.981429406052758</li>\n",
       "\t<li>0.274059050519838</li>\n",
       "\t<li>0.779397058023044</li>\n",
       "\t<li>0.971124580070419</li>\n",
       "\t<li>0.985328405331804</li>\n",
       "\t<li>0.816486567696703</li>\n",
       "\t<li>0.967633229911864</li>\n",
       "\t<li>0.896049255236532</li>\n",
       "\t<li>0.987542343449998</li>\n",
       "\t<li>0.964735818555767</li>\n",
       "\t<li>0.981087198709944</li>\n",
       "\t<li>0.385338324588067</li>\n",
       "\t<li>0.801822483357034</li>\n",
       "\t<li>0.781196053884042</li>\n",
       "\t<li>0.787832400224393</li>\n",
       "\t<li>0.813192147602086</li>\n",
       "\t<li>0.968725730411528</li>\n",
       "\t<li>0.513230736774305</li>\n",
       "\t<li>0.967233559052836</li>\n",
       "\t<li>0.868798127935121</li>\n",
       "\t<li>0.893214141523735</li>\n",
       "\t<li>0.430230294403835</li>\n",
       "\t<li>0.67844939306259</li>\n",
       "\t<li>0.517645095247041</li>\n",
       "\t<li>0.980556380272054</li>\n",
       "\t<li>0.767864608009628</li>\n",
       "\t<li>0.988764734015799</li>\n",
       "\t<li>0.630227787637927</li>\n",
       "\t<li>0.900429465377413</li>\n",
       "\t<li>0.923879794335578</li>\n",
       "\t<li>0.75884201853307</li>\n",
       "\t<li>0.984621073589368</li>\n",
       "\t<li>0.926648184917946</li>\n",
       "\t<li>0.792277117831678</li>\n",
       "\t<li>0.815644266816152</li>\n",
       "\t<li>0.884352588379334</li>\n",
       "\t<li>0.798250398295186</li>\n",
       "\t<li>0.965572890786191</li>\n",
       "\t<li>0.988468483189738</li>\n",
       "\t<li>0.893115507249054</li>\n",
       "\t<li>0.873450033765562</li>\n",
       "\t<li>0.215345890732645</li>\n",
       "\t<li>0.984138897146108</li>\n",
       "\t<li>0.773046652504716</li>\n",
       "\t<li>0.750839181788414</li>\n",
       "\t<li>0.893032001110008</li>\n",
       "\t<li>0.891102691798968</li>\n",
       "\t<li>0.60849191276314</li>\n",
       "\t<li>0.988764734015799</li>\n",
       "\t<li>0.883568138321138</li>\n",
       "\t<li>0.799710630561786</li>\n",
       "\t<li>0.980140756364975</li>\n",
       "\t<li>0.701502268709406</li>\n",
       "\t<li>0.613099907577067</li>\n",
       "\t<li>0.97980645579502</li>\n",
       "\t<li>0.898218666663069</li>\n",
       "\t<li>0.931238079547056</li>\n",
       "\t<li>0.98746637852697</li>\n",
       "\t<li>0.988125270050061</li>\n",
       "\t<li>0.846892432434658</li>\n",
       "\t<li>0.930000395011235</li>\n",
       "\t<li>0.773129062383427</li>\n",
       "\t<li>0.978316893717253</li>\n",
       "\t<li>0.195569916865864</li>\n",
       "\t<li>0.191360745114881</li>\n",
       "\t<li>0.183895490929664</li>\n",
       "\t<li>0.199707711072188</li>\n",
       "\t<li>0.193688353776884</li>\n",
       "\t<li>0.199047625421474</li>\n",
       "\t<li>0.208026861829831</li>\n",
       "\t<li>0.207652476036412</li>\n",
       "\t<li>0.338139967465552</li>\n",
       "\t<li>0.224638292737671</li>\n",
       "\t<li>0.207431947395598</li>\n",
       "\t<li>0.161751466805016</li>\n",
       "\t<li>0.232157611360841</li>\n",
       "\t<li>0.407539074973552</li>\n",
       "\t<li>0.16183200649955</li>\n",
       "\t<li>0.381154243305277</li>\n",
       "\t<li>0.298895365560265</li>\n",
       "\t<li>0.291945698246486</li>\n",
       "\t<li>0.191365262015795</li>\n",
       "\t<li>0.207366029180653</li>\n",
       "\t<li>0.193688353776884</li>\n",
       "\t<li>0.239754749478499</li>\n",
       "\t<li>0.129903711541281</li>\n",
       "\t<li>0.284163889069635</li>\n",
       "\t<li>0.205738870633642</li>\n",
       "</ol>\n"
      ],
      "text/latex": [
       "\\begin{enumerate*}\n",
       "\\item 0.884260978485244\n",
       "\\item 0.679995756149983\n",
       "\\item 0.988228407054308\n",
       "\\item 0.552649279797767\n",
       "\\item 0.214120223487905\n",
       "\\item 0.657197720241032\n",
       "\\item 0.890190229925643\n",
       "\\item 0.970493501804604\n",
       "\\item 0.803132810743254\n",
       "\\item 0.854974532154374\n",
       "\\item 0.824561309162383\n",
       "\\item 0.870029922567286\n",
       "\\item 0.903529811825556\n",
       "\\item 0.830693781433094\n",
       "\\item 0.84430447562138\n",
       "\\item 0.601170255881068\n",
       "\\item 0.975180451678474\n",
       "\\item 0.630955502620707\n",
       "\\item 0.96298284429461\n",
       "\\item 0.634594051063493\n",
       "\\item 0.944728243070519\n",
       "\\item 0.962640847919273\n",
       "\\item 0.981952055186497\n",
       "\\item 0.969662766538617\n",
       "\\item 0.724441399081236\n",
       "\\item 0.770891500107527\n",
       "\\item 0.894514482596753\n",
       "\\item 0.889062237721616\n",
       "\\item 0.852868382274535\n",
       "\\item 0.77722296053813\n",
       "\\item 0.61823140599483\n",
       "\\item 0.679878010221649\n",
       "\\item 0.486872835034693\n",
       "\\item 0.883558744071381\n",
       "\\item 0.637924352973377\n",
       "\\item 0.705861164451559\n",
       "\\item 0.422870393362223\n",
       "\\item 0.812194829174591\n",
       "\\item 0.751945374899751\n",
       "\\item 0.987862766051623\n",
       "\\item 0.476464707562499\n",
       "\\item 0.862053659139901\n",
       "\\item 0.981915349920383\n",
       "\\item 0.643332822345213\n",
       "\\item 0.760354756301203\n",
       "\\item 0.986036543272338\n",
       "\\item 0.777233793473233\n",
       "\\item 0.97826632269899\n",
       "\\item 0.613092193966798\n",
       "\\item 0.850601024043341\n",
       "\\item 0.970379506166051\n",
       "\\item 0.87714423338762\n",
       "\\item 0.846558049642509\n",
       "\\item 0.617200046108095\n",
       "\\item 0.963892818121784\n",
       "\\item 0.628471609981831\n",
       "\\item 0.590837084451907\n",
       "\\item 0.7808810343044\n",
       "\\item 0.77537348728593\n",
       "\\item 0.85819825680489\n",
       "\\item 0.770819297317046\n",
       "\\item 0.964525702255756\n",
       "\\item 0.969978302301252\n",
       "\\item 0.882439210441407\n",
       "\\item 0.799643327615397\n",
       "\\item 0.633845014635791\n",
       "\\item 0.88015513227211\n",
       "\\item 0.982182181037123\n",
       "\\item 0.892942401098782\n",
       "\\item 0.883707221979683\n",
       "\\item 0.716122826020672\n",
       "\\item 0.878819282553893\n",
       "\\item 0.117244700403765\n",
       "\\item 0.7154900125266\n",
       "\\item 0.684012781896818\n",
       "\\item 0.889998793849685\n",
       "\\item 0.852657918920965\n",
       "\\item 0.880376670508118\n",
       "\\item 0.68101022408721\n",
       "\\item 0.84745348643244\n",
       "\\item 0.975310170073107\n",
       "\\item 0.733659533825492\n",
       "\\item 0.82735505822515\n",
       "\\item 0.463719175635163\n",
       "\\item 0.935863544465782\n",
       "\\item 0.892919687760143\n",
       "\\item 0.897047271200481\n",
       "\\item 0.891740099785993\n",
       "\\item 0.248017707403747\n",
       "\\item 0.98369209987425\n",
       "\\item 0.979055714289388\n",
       "\\item 0.987497304942801\n",
       "\\item 0.886956979625013\n",
       "\\item 0.89234776842781\n",
       "\\item 0.855323391846572\n",
       "\\item 0.849856568205314\n",
       "\\item 0.909041492126106\n",
       "\\item 0.638294342308797\n",
       "\\item 0.629491987667017\n",
       "\\item 0.703172850180156\n",
       "\\item 0.114173242401865\n",
       "\\item 0.968118971556132\n",
       "\\item 0.538032095117603\n",
       "\\item 0.977613952706075\n",
       "\\item 0.854721467282035\n",
       "\\item 0.976332877621469\n",
       "\\item 0.980862836717348\n",
       "\\item 0.977857479987872\n",
       "\\item 0.886799504067047\n",
       "\\item 0.11804884303686\n",
       "\\item 0.919514144612925\n",
       "\\item 0.72457167159037\n",
       "\\item 0.816680019902138\n",
       "\\item 0.690562129947512\n",
       "\\item 0.709460719200546\n",
       "\\item 0.831960716280129\n",
       "\\item 0.857341860342899\n",
       "\\item 0.314478147039761\n",
       "\\item 0.860462342333322\n",
       "\\item 0.761912099256227\n",
       "\\item 0.877518170471717\n",
       "\\item 0.735061501543157\n",
       "\\item 0.881817480819402\n",
       "\\item 0.765283090251083\n",
       "\\item 0.612891139041843\n",
       "\\item 0.754936957755306\n",
       "\\item 0.650737155800228\n",
       "\\item 0.290125065432406\n",
       "\\item 0.713379245012151\n",
       "\\item 0.967773889068007\n",
       "\\item 0.606653773213855\n",
       "\\item 0.511991780146897\n",
       "\\item 0.987607563860996\n",
       "\\item 0.987347463508741\n",
       "\\item 0.986333050693807\n",
       "\\item 0.984372072107861\n",
       "\\item 0.404102457782672\n",
       "\\item 0.952797635619166\n",
       "\\item 0.988282628138216\n",
       "\\item 0.254039432935321\n",
       "\\item 0.974877039182304\n",
       "\\item 0.983054037545494\n",
       "\\item 0.875309020512154\n",
       "\\item 0.241042840543252\n",
       "\\item 0.973891278611918\n",
       "\\item 0.297679685033236\n",
       "\\item 0.972433817871215\n",
       "\\item 0.987969290019623\n",
       "\\item 0.820585750153412\n",
       "\\item 0.570351377828983\n",
       "\\item 0.981593246272284\n",
       "\\item 0.987134459972458\n",
       "\\item 0.981635741482432\n",
       "\\item 0.878563170546572\n",
       "\\item 0.816098036677037\n",
       "\\item 0.962406404427556\n",
       "\\item 0.789137322841066\n",
       "\\item 0.9775915722548\n",
       "\\item 0.987347463508741\n",
       "\\item 0.750985010344411\n",
       "\\item 0.97505208487514\n",
       "\\item 0.681957119938179\n",
       "\\item 0.917167711702885\n",
       "\\item 0.97412234227033\n",
       "\\item 0.847582978772902\n",
       "\\item 0.981593246272284\n",
       "\\item 0.678192267308473\n",
       "\\item 0.985749207066755\n",
       "\\item 0.980514206096114\n",
       "\\item 0.328589004109101\n",
       "\\item 0.985759534689494\n",
       "\\item 0.947927602923635\n",
       "\\item 0.945133281146153\n",
       "\\item 0.980333876958187\n",
       "\\item 0.968298813597389\n",
       "\\item 0.986403389823669\n",
       "\\item 0.810298811991623\n",
       "\\item 0.925298115077559\n",
       "\\item 0.976674469107367\n",
       "\\item 0.715509127247978\n",
       "\\item 0.986630947302832\n",
       "\\item 0.73505078840719\n",
       "\\item 0.984595265268179\n",
       "\\item 0.928331927033141\n",
       "\\item 0.97987305991293\n",
       "\\item 0.755990385199298\n",
       "\\item 0.968083763847495\n",
       "\\item 0.458098503977516\n",
       "\\item 0.966315240410887\n",
       "\\item 0.87152815439224\n",
       "\\item 0.889385036319679\n",
       "\\item 0.984438319464451\n",
       "\\item 0.912710159808883\n",
       "\\item 0.884572197054419\n",
       "\\item 0.625757078837315\n",
       "\\item 0.967164248874615\n",
       "\\item 0.987221448832842\n",
       "\\item 0.98087707990854\n",
       "\\item 0.981429406052758\n",
       "\\item 0.274059050519838\n",
       "\\item 0.779397058023044\n",
       "\\item 0.971124580070419\n",
       "\\item 0.985328405331804\n",
       "\\item 0.816486567696703\n",
       "\\item 0.967633229911864\n",
       "\\item 0.896049255236532\n",
       "\\item 0.987542343449998\n",
       "\\item 0.964735818555767\n",
       "\\item 0.981087198709944\n",
       "\\item 0.385338324588067\n",
       "\\item 0.801822483357034\n",
       "\\item 0.781196053884042\n",
       "\\item 0.787832400224393\n",
       "\\item 0.813192147602086\n",
       "\\item 0.968725730411528\n",
       "\\item 0.513230736774305\n",
       "\\item 0.967233559052836\n",
       "\\item 0.868798127935121\n",
       "\\item 0.893214141523735\n",
       "\\item 0.430230294403835\n",
       "\\item 0.67844939306259\n",
       "\\item 0.517645095247041\n",
       "\\item 0.980556380272054\n",
       "\\item 0.767864608009628\n",
       "\\item 0.988764734015799\n",
       "\\item 0.630227787637927\n",
       "\\item 0.900429465377413\n",
       "\\item 0.923879794335578\n",
       "\\item 0.75884201853307\n",
       "\\item 0.984621073589368\n",
       "\\item 0.926648184917946\n",
       "\\item 0.792277117831678\n",
       "\\item 0.815644266816152\n",
       "\\item 0.884352588379334\n",
       "\\item 0.798250398295186\n",
       "\\item 0.965572890786191\n",
       "\\item 0.988468483189738\n",
       "\\item 0.893115507249054\n",
       "\\item 0.873450033765562\n",
       "\\item 0.215345890732645\n",
       "\\item 0.984138897146108\n",
       "\\item 0.773046652504716\n",
       "\\item 0.750839181788414\n",
       "\\item 0.893032001110008\n",
       "\\item 0.891102691798968\n",
       "\\item 0.60849191276314\n",
       "\\item 0.988764734015799\n",
       "\\item 0.883568138321138\n",
       "\\item 0.799710630561786\n",
       "\\item 0.980140756364975\n",
       "\\item 0.701502268709406\n",
       "\\item 0.613099907577067\n",
       "\\item 0.97980645579502\n",
       "\\item 0.898218666663069\n",
       "\\item 0.931238079547056\n",
       "\\item 0.98746637852697\n",
       "\\item 0.988125270050061\n",
       "\\item 0.846892432434658\n",
       "\\item 0.930000395011235\n",
       "\\item 0.773129062383427\n",
       "\\item 0.978316893717253\n",
       "\\item 0.195569916865864\n",
       "\\item 0.191360745114881\n",
       "\\item 0.183895490929664\n",
       "\\item 0.199707711072188\n",
       "\\item 0.193688353776884\n",
       "\\item 0.199047625421474\n",
       "\\item 0.208026861829831\n",
       "\\item 0.207652476036412\n",
       "\\item 0.338139967465552\n",
       "\\item 0.224638292737671\n",
       "\\item 0.207431947395598\n",
       "\\item 0.161751466805016\n",
       "\\item 0.232157611360841\n",
       "\\item 0.407539074973552\n",
       "\\item 0.16183200649955\n",
       "\\item 0.381154243305277\n",
       "\\item 0.298895365560265\n",
       "\\item 0.291945698246486\n",
       "\\item 0.191365262015795\n",
       "\\item 0.207366029180653\n",
       "\\item 0.193688353776884\n",
       "\\item 0.239754749478499\n",
       "\\item 0.129903711541281\n",
       "\\item 0.284163889069635\n",
       "\\item 0.205738870633642\n",
       "\\end{enumerate*}\n"
      ],
      "text/markdown": [
       "1. 0.884260978485244\n",
       "2. 0.679995756149983\n",
       "3. 0.988228407054308\n",
       "4. 0.552649279797767\n",
       "5. 0.214120223487905\n",
       "6. 0.657197720241032\n",
       "7. 0.890190229925643\n",
       "8. 0.970493501804604\n",
       "9. 0.803132810743254\n",
       "10. 0.854974532154374\n",
       "11. 0.824561309162383\n",
       "12. 0.870029922567286\n",
       "13. 0.903529811825556\n",
       "14. 0.830693781433094\n",
       "15. 0.84430447562138\n",
       "16. 0.601170255881068\n",
       "17. 0.975180451678474\n",
       "18. 0.630955502620707\n",
       "19. 0.96298284429461\n",
       "20. 0.634594051063493\n",
       "21. 0.944728243070519\n",
       "22. 0.962640847919273\n",
       "23. 0.981952055186497\n",
       "24. 0.969662766538617\n",
       "25. 0.724441399081236\n",
       "26. 0.770891500107527\n",
       "27. 0.894514482596753\n",
       "28. 0.889062237721616\n",
       "29. 0.852868382274535\n",
       "30. 0.77722296053813\n",
       "31. 0.61823140599483\n",
       "32. 0.679878010221649\n",
       "33. 0.486872835034693\n",
       "34. 0.883558744071381\n",
       "35. 0.637924352973377\n",
       "36. 0.705861164451559\n",
       "37. 0.422870393362223\n",
       "38. 0.812194829174591\n",
       "39. 0.751945374899751\n",
       "40. 0.987862766051623\n",
       "41. 0.476464707562499\n",
       "42. 0.862053659139901\n",
       "43. 0.981915349920383\n",
       "44. 0.643332822345213\n",
       "45. 0.760354756301203\n",
       "46. 0.986036543272338\n",
       "47. 0.777233793473233\n",
       "48. 0.97826632269899\n",
       "49. 0.613092193966798\n",
       "50. 0.850601024043341\n",
       "51. 0.970379506166051\n",
       "52. 0.87714423338762\n",
       "53. 0.846558049642509\n",
       "54. 0.617200046108095\n",
       "55. 0.963892818121784\n",
       "56. 0.628471609981831\n",
       "57. 0.590837084451907\n",
       "58. 0.7808810343044\n",
       "59. 0.77537348728593\n",
       "60. 0.85819825680489\n",
       "61. 0.770819297317046\n",
       "62. 0.964525702255756\n",
       "63. 0.969978302301252\n",
       "64. 0.882439210441407\n",
       "65. 0.799643327615397\n",
       "66. 0.633845014635791\n",
       "67. 0.88015513227211\n",
       "68. 0.982182181037123\n",
       "69. 0.892942401098782\n",
       "70. 0.883707221979683\n",
       "71. 0.716122826020672\n",
       "72. 0.878819282553893\n",
       "73. 0.117244700403765\n",
       "74. 0.7154900125266\n",
       "75. 0.684012781896818\n",
       "76. 0.889998793849685\n",
       "77. 0.852657918920965\n",
       "78. 0.880376670508118\n",
       "79. 0.68101022408721\n",
       "80. 0.84745348643244\n",
       "81. 0.975310170073107\n",
       "82. 0.733659533825492\n",
       "83. 0.82735505822515\n",
       "84. 0.463719175635163\n",
       "85. 0.935863544465782\n",
       "86. 0.892919687760143\n",
       "87. 0.897047271200481\n",
       "88. 0.891740099785993\n",
       "89. 0.248017707403747\n",
       "90. 0.98369209987425\n",
       "91. 0.979055714289388\n",
       "92. 0.987497304942801\n",
       "93. 0.886956979625013\n",
       "94. 0.89234776842781\n",
       "95. 0.855323391846572\n",
       "96. 0.849856568205314\n",
       "97. 0.909041492126106\n",
       "98. 0.638294342308797\n",
       "99. 0.629491987667017\n",
       "100. 0.703172850180156\n",
       "101. 0.114173242401865\n",
       "102. 0.968118971556132\n",
       "103. 0.538032095117603\n",
       "104. 0.977613952706075\n",
       "105. 0.854721467282035\n",
       "106. 0.976332877621469\n",
       "107. 0.980862836717348\n",
       "108. 0.977857479987872\n",
       "109. 0.886799504067047\n",
       "110. 0.11804884303686\n",
       "111. 0.919514144612925\n",
       "112. 0.72457167159037\n",
       "113. 0.816680019902138\n",
       "114. 0.690562129947512\n",
       "115. 0.709460719200546\n",
       "116. 0.831960716280129\n",
       "117. 0.857341860342899\n",
       "118. 0.314478147039761\n",
       "119. 0.860462342333322\n",
       "120. 0.761912099256227\n",
       "121. 0.877518170471717\n",
       "122. 0.735061501543157\n",
       "123. 0.881817480819402\n",
       "124. 0.765283090251083\n",
       "125. 0.612891139041843\n",
       "126. 0.754936957755306\n",
       "127. 0.650737155800228\n",
       "128. 0.290125065432406\n",
       "129. 0.713379245012151\n",
       "130. 0.967773889068007\n",
       "131. 0.606653773213855\n",
       "132. 0.511991780146897\n",
       "133. 0.987607563860996\n",
       "134. 0.987347463508741\n",
       "135. 0.986333050693807\n",
       "136. 0.984372072107861\n",
       "137. 0.404102457782672\n",
       "138. 0.952797635619166\n",
       "139. 0.988282628138216\n",
       "140. 0.254039432935321\n",
       "141. 0.974877039182304\n",
       "142. 0.983054037545494\n",
       "143. 0.875309020512154\n",
       "144. 0.241042840543252\n",
       "145. 0.973891278611918\n",
       "146. 0.297679685033236\n",
       "147. 0.972433817871215\n",
       "148. 0.987969290019623\n",
       "149. 0.820585750153412\n",
       "150. 0.570351377828983\n",
       "151. 0.981593246272284\n",
       "152. 0.987134459972458\n",
       "153. 0.981635741482432\n",
       "154. 0.878563170546572\n",
       "155. 0.816098036677037\n",
       "156. 0.962406404427556\n",
       "157. 0.789137322841066\n",
       "158. 0.9775915722548\n",
       "159. 0.987347463508741\n",
       "160. 0.750985010344411\n",
       "161. 0.97505208487514\n",
       "162. 0.681957119938179\n",
       "163. 0.917167711702885\n",
       "164. 0.97412234227033\n",
       "165. 0.847582978772902\n",
       "166. 0.981593246272284\n",
       "167. 0.678192267308473\n",
       "168. 0.985749207066755\n",
       "169. 0.980514206096114\n",
       "170. 0.328589004109101\n",
       "171. 0.985759534689494\n",
       "172. 0.947927602923635\n",
       "173. 0.945133281146153\n",
       "174. 0.980333876958187\n",
       "175. 0.968298813597389\n",
       "176. 0.986403389823669\n",
       "177. 0.810298811991623\n",
       "178. 0.925298115077559\n",
       "179. 0.976674469107367\n",
       "180. 0.715509127247978\n",
       "181. 0.986630947302832\n",
       "182. 0.73505078840719\n",
       "183. 0.984595265268179\n",
       "184. 0.928331927033141\n",
       "185. 0.97987305991293\n",
       "186. 0.755990385199298\n",
       "187. 0.968083763847495\n",
       "188. 0.458098503977516\n",
       "189. 0.966315240410887\n",
       "190. 0.87152815439224\n",
       "191. 0.889385036319679\n",
       "192. 0.984438319464451\n",
       "193. 0.912710159808883\n",
       "194. 0.884572197054419\n",
       "195. 0.625757078837315\n",
       "196. 0.967164248874615\n",
       "197. 0.987221448832842\n",
       "198. 0.98087707990854\n",
       "199. 0.981429406052758\n",
       "200. 0.274059050519838\n",
       "201. 0.779397058023044\n",
       "202. 0.971124580070419\n",
       "203. 0.985328405331804\n",
       "204. 0.816486567696703\n",
       "205. 0.967633229911864\n",
       "206. 0.896049255236532\n",
       "207. 0.987542343449998\n",
       "208. 0.964735818555767\n",
       "209. 0.981087198709944\n",
       "210. 0.385338324588067\n",
       "211. 0.801822483357034\n",
       "212. 0.781196053884042\n",
       "213. 0.787832400224393\n",
       "214. 0.813192147602086\n",
       "215. 0.968725730411528\n",
       "216. 0.513230736774305\n",
       "217. 0.967233559052836\n",
       "218. 0.868798127935121\n",
       "219. 0.893214141523735\n",
       "220. 0.430230294403835\n",
       "221. 0.67844939306259\n",
       "222. 0.517645095247041\n",
       "223. 0.980556380272054\n",
       "224. 0.767864608009628\n",
       "225. 0.988764734015799\n",
       "226. 0.630227787637927\n",
       "227. 0.900429465377413\n",
       "228. 0.923879794335578\n",
       "229. 0.75884201853307\n",
       "230. 0.984621073589368\n",
       "231. 0.926648184917946\n",
       "232. 0.792277117831678\n",
       "233. 0.815644266816152\n",
       "234. 0.884352588379334\n",
       "235. 0.798250398295186\n",
       "236. 0.965572890786191\n",
       "237. 0.988468483189738\n",
       "238. 0.893115507249054\n",
       "239. 0.873450033765562\n",
       "240. 0.215345890732645\n",
       "241. 0.984138897146108\n",
       "242. 0.773046652504716\n",
       "243. 0.750839181788414\n",
       "244. 0.893032001110008\n",
       "245. 0.891102691798968\n",
       "246. 0.60849191276314\n",
       "247. 0.988764734015799\n",
       "248. 0.883568138321138\n",
       "249. 0.799710630561786\n",
       "250. 0.980140756364975\n",
       "251. 0.701502268709406\n",
       "252. 0.613099907577067\n",
       "253. 0.97980645579502\n",
       "254. 0.898218666663069\n",
       "255. 0.931238079547056\n",
       "256. 0.98746637852697\n",
       "257. 0.988125270050061\n",
       "258. 0.846892432434658\n",
       "259. 0.930000395011235\n",
       "260. 0.773129062383427\n",
       "261. 0.978316893717253\n",
       "262. 0.195569916865864\n",
       "263. 0.191360745114881\n",
       "264. 0.183895490929664\n",
       "265. 0.199707711072188\n",
       "266. 0.193688353776884\n",
       "267. 0.199047625421474\n",
       "268. 0.208026861829831\n",
       "269. 0.207652476036412\n",
       "270. 0.338139967465552\n",
       "271. 0.224638292737671\n",
       "272. 0.207431947395598\n",
       "273. 0.161751466805016\n",
       "274. 0.232157611360841\n",
       "275. 0.407539074973552\n",
       "276. 0.16183200649955\n",
       "277. 0.381154243305277\n",
       "278. 0.298895365560265\n",
       "279. 0.291945698246486\n",
       "280. 0.191365262015795\n",
       "281. 0.207366029180653\n",
       "282. 0.193688353776884\n",
       "283. 0.239754749478499\n",
       "284. 0.129903711541281\n",
       "285. 0.284163889069635\n",
       "286. 0.205738870633642\n",
       "\n",
       "\n"
      ],
      "text/plain": [
       "  [1] 0.8842610 0.6799958 0.9882284 0.5526493 0.2141202 0.6571977 0.8901902\n",
       "  [8] 0.9704935 0.8031328 0.8549745 0.8245613 0.8700299 0.9035298 0.8306938\n",
       " [15] 0.8443045 0.6011703 0.9751805 0.6309555 0.9629828 0.6345941 0.9447282\n",
       " [22] 0.9626408 0.9819521 0.9696628 0.7244414 0.7708915 0.8945145 0.8890622\n",
       " [29] 0.8528684 0.7772230 0.6182314 0.6798780 0.4868728 0.8835587 0.6379244\n",
       " [36] 0.7058612 0.4228704 0.8121948 0.7519454 0.9878628 0.4764647 0.8620537\n",
       " [43] 0.9819153 0.6433328 0.7603548 0.9860365 0.7772338 0.9782663 0.6130922\n",
       " [50] 0.8506010 0.9703795 0.8771442 0.8465580 0.6172000 0.9638928 0.6284716\n",
       " [57] 0.5908371 0.7808810 0.7753735 0.8581983 0.7708193 0.9645257 0.9699783\n",
       " [64] 0.8824392 0.7996433 0.6338450 0.8801551 0.9821822 0.8929424 0.8837072\n",
       " [71] 0.7161228 0.8788193 0.1172447 0.7154900 0.6840128 0.8899988 0.8526579\n",
       " [78] 0.8803767 0.6810102 0.8474535 0.9753102 0.7336595 0.8273551 0.4637192\n",
       " [85] 0.9358635 0.8929197 0.8970473 0.8917401 0.2480177 0.9836921 0.9790557\n",
       " [92] 0.9874973 0.8869570 0.8923478 0.8553234 0.8498566 0.9090415 0.6382943\n",
       " [99] 0.6294920 0.7031729 0.1141732 0.9681190 0.5380321 0.9776140 0.8547215\n",
       "[106] 0.9763329 0.9808628 0.9778575 0.8867995 0.1180488 0.9195141 0.7245717\n",
       "[113] 0.8166800 0.6905621 0.7094607 0.8319607 0.8573419 0.3144781 0.8604623\n",
       "[120] 0.7619121 0.8775182 0.7350615 0.8818175 0.7652831 0.6128911 0.7549370\n",
       "[127] 0.6507372 0.2901251 0.7133792 0.9677739 0.6066538 0.5119918 0.9876076\n",
       "[134] 0.9873475 0.9863331 0.9843721 0.4041025 0.9527976 0.9882826 0.2540394\n",
       "[141] 0.9748770 0.9830540 0.8753090 0.2410428 0.9738913 0.2976797 0.9724338\n",
       "[148] 0.9879693 0.8205858 0.5703514 0.9815932 0.9871345 0.9816357 0.8785632\n",
       "[155] 0.8160980 0.9624064 0.7891373 0.9775916 0.9873475 0.7509850 0.9750521\n",
       "[162] 0.6819571 0.9171677 0.9741223 0.8475830 0.9815932 0.6781923 0.9857492\n",
       "[169] 0.9805142 0.3285890 0.9857595 0.9479276 0.9451333 0.9803339 0.9682988\n",
       "[176] 0.9864034 0.8102988 0.9252981 0.9766745 0.7155091 0.9866309 0.7350508\n",
       "[183] 0.9845953 0.9283319 0.9798731 0.7559904 0.9680838 0.4580985 0.9663152\n",
       "[190] 0.8715282 0.8893850 0.9844383 0.9127102 0.8845722 0.6257571 0.9671642\n",
       "[197] 0.9872214 0.9808771 0.9814294 0.2740591 0.7793971 0.9711246 0.9853284\n",
       "[204] 0.8164866 0.9676332 0.8960493 0.9875423 0.9647358 0.9810872 0.3853383\n",
       "[211] 0.8018225 0.7811961 0.7878324 0.8131921 0.9687257 0.5132307 0.9672336\n",
       "[218] 0.8687981 0.8932141 0.4302303 0.6784494 0.5176451 0.9805564 0.7678646\n",
       "[225] 0.9887647 0.6302278 0.9004295 0.9238798 0.7588420 0.9846211 0.9266482\n",
       "[232] 0.7922771 0.8156443 0.8843526 0.7982504 0.9655729 0.9884685 0.8931155\n",
       "[239] 0.8734500 0.2153459 0.9841389 0.7730467 0.7508392 0.8930320 0.8911027\n",
       "[246] 0.6084919 0.9887647 0.8835681 0.7997106 0.9801408 0.7015023 0.6130999\n",
       "[253] 0.9798065 0.8982187 0.9312381 0.9874664 0.9881253 0.8468924 0.9300004\n",
       "[260] 0.7731291 0.9783169 0.1955699 0.1913607 0.1838955 0.1997077 0.1936884\n",
       "[267] 0.1990476 0.2080269 0.2076525 0.3381400 0.2246383 0.2074319 0.1617515\n",
       "[274] 0.2321576 0.4075391 0.1618320 0.3811542 0.2988954 0.2919457 0.1913653\n",
       "[281] 0.2073660 0.1936884 0.2397547 0.1299037 0.2841639 0.2057389"
      ]
     },
     "metadata": {},
     "output_type": "display_data"
    },
    {
     "data": {
      "text/html": [
       "286"
      ],
      "text/latex": [
       "286"
      ],
      "text/markdown": [
       "286"
      ],
      "text/plain": [
       "[1] 286"
      ]
     },
     "metadata": {},
     "output_type": "display_data"
    }
   ],
   "source": [
    "fitb\n",
    "length(fitb)"
   ]
  },
  {
   "cell_type": "code",
   "execution_count": 28,
   "metadata": {},
   "outputs": [
    {
     "data": {
      "image/png": "[encoded data removed]",
      "text/plain": [
       "plot without title"
      ]
     },
     "metadata": {
      "image/png": {
       "height": 420,
       "width": 420
      }
     },
     "output_type": "display_data"
    }
   ],
   "source": [
    "prob1 = fitted(res, type=\"mu.obs\")\n",
    "prob2 = fitted(res2)\n",
    "prob3 = fitb\n",
    "p1=matrix(0,nrow=50,ncol=3)\n",
    "p2=matrix(0,nrow=50,ncol=3)\n",
    "p3=matrix(0,nrow=50,ncol=3)\n",
    "\n",
    "i=1\n",
    "for(p in seq(min(prob1),max(prob1),.05)){\n",
    "    t1=table(prob1>p,as.factor(dataT$response))\n",
    "    p1[i,]=c(p,(t1[2,2])/sum(t1[,2]),(t1[1,1])/sum(t1[,1]))\n",
    "    i=i+1\n",
    "}\n",
    "\n",
    "j=1\n",
    "for(p in seq(min(prob2),max(prob2),.05)){\n",
    "    t2=table(prob2>p,as.factor(dataT$response))\n",
    "    p2[j,]=c(p,(t2[2,2])/sum(t2[,2]),(t2[1,1])/sum(t2[,1]))\n",
    "    j=j+1\n",
    "}\n",
    "k=1\n",
    "for(p in seq(min(prob3),max(prob3),.05)){\n",
    "    t3=table(prob2>p,as.factor(dataT$response))\n",
    "    p3[k,]=c(p,(t3[2,2])/sum(t3[,2]),(t3[1,1])/sum(t3[,1]))\n",
    "    k=k+1\n",
    "}\n",
    "\n",
    "plot(1-p1[1:i-1,3],p1[1:i-1,2],type=\"l\",xlab=\"1-especificidad\",ylab=\"sensibilidad\",ylim=c(0,1))\n",
    "lines(1-p2[1:j-1,3],p2[1:j-1,2],col=\"blue\")\n",
    "lines(c(0,1),c(0,1),col=\"red\")\n",
    "lines(1-p3[1:k-1,3],p3[1:k-1,2],col=\"green\")"
   ]
  },
  {
   "cell_type": "code",
   "execution_count": 77,
   "metadata": {},
   "outputs": [
    {
     "data": {
      "image/png": "[encoded data removed]",
      "text/plain": [
       "plot without title"
      ]
     },
     "metadata": {
      "image/png": {
       "height": 420,
       "width": 420
      }
     },
     "output_type": "display_data"
    }
   ],
   "source": [
    "ites<- extract(res, type = \"mu.obs\")\n",
    "ites <- ites[,z[]==0]\n",
    "ite.m  <- apply(ites, 2, mean)\n",
    "ite.sd <- apply(ites, 2, sd)\n",
    "ite.lb <- ite.m - 2 * ite.sd\n",
    "ite.ub <- ite.m + 2 * ite.sd\n",
    "\n",
    "ite.o <- order(ite.m)\n",
    "\n",
    "plot(NULL, type = \"n\",\n",
    "     xlim = c(1, length(ite.m)), ylim = range(ite.lb, ite.ub),\n",
    "     xlab = \"effect order\", ylab = \"individual treatment effect\")\n",
    "lines(rbind(seq_along(ite.m), seq_along(ite.m), NA),\n",
    "      rbind(ite.lb[ite.o], ite.ub[ite.o], NA), lwd = 0.5)\n",
    "points(seq_along(ite.m), ite.m[ite.o], pch = 20)"
   ]
  },
  {
   "cell_type": "code",
   "execution_count": null,
   "metadata": {},
   "outputs": [],
   "source": [
    "#cross validation ejemplo\n",
    "\n"
   ]
  },
  {
   "cell_type": "code",
   "execution_count": null,
   "metadata": {},
   "outputs": [],
   "source": []
  }
 ],
 "metadata": {
  "kernelspec": {
   "display_name": "R",
   "language": "R",
   "name": "ir"
  },
  "language_info": {
   "codemirror_mode": "r",
   "file_extension": ".r",
   "mimetype": "text/x-r-source",
   "name": "R",
   "pygments_lexer": "r",
   "version": "3.6.1"
  }
 },
 "nbformat": 4,
 "nbformat_minor": 2
}
