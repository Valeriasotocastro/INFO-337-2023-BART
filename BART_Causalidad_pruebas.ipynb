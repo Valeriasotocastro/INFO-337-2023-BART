{
 "cells": [
  {
   "cell_type": "code",
   "execution_count": 1,
   "metadata": {
    "scrolled": true
   },
   "outputs": [
    {
     "data": {
      "text/html": [
       "<table>\n",
       "<thead><tr><th scope=col>student_id</th><th scope=col>start_year</th><th scope=col>start_year_mod</th><th scope=col>program_id</th><th scope=col>reprobadas_sem1</th><th scope=col>aprobadas_sem1</th><th scope=col>anuladas_sem1</th><th scope=col>cursadas_sem1</th><th scope=col>cursadas_sem3</th><th scope=col>gpa_sem1</th><th scope=col>Permanencia</th></tr></thead>\n",
       "<tbody>\n",
       "\t<tr><td>00949132a43fb01342e71b82fd7e46</td><td>2018                          </td><td>0                             </td><td>1807                          </td><td>0                             </td><td> 6                            </td><td>0                             </td><td> 6                            </td><td> 5                            </td><td>4.80                          </td><td>1                             </td></tr>\n",
       "\t<tr><td>043d2f89c95055115a73b0b7095d24</td><td>2017                          </td><td>0                             </td><td>1740                          </td><td>6                             </td><td> 0                            </td><td>0                             </td><td> 6                            </td><td> 0                            </td><td>1.00                          </td><td>1                             </td></tr>\n",
       "\t<tr><td>053fcec6c777193754ab8313f7ed9f</td><td>2018                          </td><td>0                             </td><td>1807                          </td><td>0                             </td><td> 8                            </td><td>0                             </td><td> 8                            </td><td> 5                            </td><td>5.05                          </td><td>1                             </td></tr>\n",
       "\t<tr><td>098ca3cd792b1aeb880afad52f8005</td><td>2017                          </td><td>0                             </td><td>1736                          </td><td>1                             </td><td> 9                            </td><td>0                             </td><td>10                            </td><td> 4                            </td><td>4.36                          </td><td>0                             </td></tr>\n",
       "\t<tr><td>098ddd38e641cb7a2d0003de9638d7</td><td>2017                          </td><td>0                             </td><td>1807                          </td><td>1                             </td><td> 4                            </td><td>1                             </td><td> 6                            </td><td> 5                            </td><td>4.65                          </td><td>1                             </td></tr>\n",
       "\t<tr><td>09fffde5d88320d2664aebc7219403</td><td>2018                          </td><td>0                             </td><td>1737                          </td><td>0                             </td><td> 6                            </td><td>0                             </td><td> 6                            </td><td> 6                            </td><td>5.48                          </td><td>1                             </td></tr>\n",
       "\t<tr><td>0a1c99873b1bf84931803cb077f129</td><td>2020                          </td><td>1                             </td><td>1708                          </td><td>0                             </td><td> 4                            </td><td>1                             </td><td> 5                            </td><td> 4                            </td><td>5.87                          </td><td>1                             </td></tr>\n",
       "\t<tr><td>0bb806ca96706e9790d92a9d27aa2f</td><td>2021                          </td><td>1                             </td><td>1807                          </td><td>0                             </td><td>11                            </td><td>0                             </td><td>11                            </td><td>10                            </td><td>5.35                          </td><td>1                             </td></tr>\n",
       "\t<tr><td>0c4a55a4ed9914b153b4867301f993</td><td>2020                          </td><td>1                             </td><td>1807                          </td><td>0                             </td><td>11                            </td><td>0                             </td><td>11                            </td><td>10                            </td><td>5.58                          </td><td>0                             </td></tr>\n",
       "\t<tr><td>0fe5ab4f3df38493e8cc71afe37e45</td><td>2017                          </td><td>0                             </td><td>1708                          </td><td>3                             </td><td> 2                            </td><td>0                             </td><td> 5                            </td><td> 6                            </td><td>3.59                          </td><td>1                             </td></tr>\n",
       "</tbody>\n",
       "</table>\n"
      ],
      "text/latex": [
       "\\begin{tabular}{r|lllllllllll}\n",
       " student\\_id & start\\_year & start\\_year\\_mod & program\\_id & reprobadas\\_sem1 & aprobadas\\_sem1 & anuladas\\_sem1 & cursadas\\_sem1 & cursadas\\_sem3 & gpa\\_sem1 & Permanencia\\\\\n",
       "\\hline\n",
       "\t 00949132a43fb01342e71b82fd7e46 & 2018                           & 0                              & 1807                           & 0                              &  6                             & 0                              &  6                             &  5                             & 4.80                           & 1                             \\\\\n",
       "\t 043d2f89c95055115a73b0b7095d24 & 2017                           & 0                              & 1740                           & 6                              &  0                             & 0                              &  6                             &  0                             & 1.00                           & 1                             \\\\\n",
       "\t 053fcec6c777193754ab8313f7ed9f & 2018                           & 0                              & 1807                           & 0                              &  8                             & 0                              &  8                             &  5                             & 5.05                           & 1                             \\\\\n",
       "\t 098ca3cd792b1aeb880afad52f8005 & 2017                           & 0                              & 1736                           & 1                              &  9                             & 0                              & 10                             &  4                             & 4.36                           & 0                             \\\\\n",
       "\t 098ddd38e641cb7a2d0003de9638d7 & 2017                           & 0                              & 1807                           & 1                              &  4                             & 1                              &  6                             &  5                             & 4.65                           & 1                             \\\\\n",
       "\t 09fffde5d88320d2664aebc7219403 & 2018                           & 0                              & 1737                           & 0                              &  6                             & 0                              &  6                             &  6                             & 5.48                           & 1                             \\\\\n",
       "\t 0a1c99873b1bf84931803cb077f129 & 2020                           & 1                              & 1708                           & 0                              &  4                             & 1                              &  5                             &  4                             & 5.87                           & 1                             \\\\\n",
       "\t 0bb806ca96706e9790d92a9d27aa2f & 2021                           & 1                              & 1807                           & 0                              & 11                             & 0                              & 11                             & 10                             & 5.35                           & 1                             \\\\\n",
       "\t 0c4a55a4ed9914b153b4867301f993 & 2020                           & 1                              & 1807                           & 0                              & 11                             & 0                              & 11                             & 10                             & 5.58                           & 0                             \\\\\n",
       "\t 0fe5ab4f3df38493e8cc71afe37e45 & 2017                           & 0                              & 1708                           & 3                              &  2                             & 0                              &  5                             &  6                             & 3.59                           & 1                             \\\\\n",
       "\\end{tabular}\n"
      ],
      "text/markdown": [
       "\n",
       "| student_id | start_year | start_year_mod | program_id | reprobadas_sem1 | aprobadas_sem1 | anuladas_sem1 | cursadas_sem1 | cursadas_sem3 | gpa_sem1 | Permanencia |\n",
       "|---|---|---|---|---|---|---|---|---|---|---|\n",
       "| 00949132a43fb01342e71b82fd7e46 | 2018                           | 0                              | 1807                           | 0                              |  6                             | 0                              |  6                             |  5                             | 4.80                           | 1                              |\n",
       "| 043d2f89c95055115a73b0b7095d24 | 2017                           | 0                              | 1740                           | 6                              |  0                             | 0                              |  6                             |  0                             | 1.00                           | 1                              |\n",
       "| 053fcec6c777193754ab8313f7ed9f | 2018                           | 0                              | 1807                           | 0                              |  8                             | 0                              |  8                             |  5                             | 5.05                           | 1                              |\n",
       "| 098ca3cd792b1aeb880afad52f8005 | 2017                           | 0                              | 1736                           | 1                              |  9                             | 0                              | 10                             |  4                             | 4.36                           | 0                              |\n",
       "| 098ddd38e641cb7a2d0003de9638d7 | 2017                           | 0                              | 1807                           | 1                              |  4                             | 1                              |  6                             |  5                             | 4.65                           | 1                              |\n",
       "| 09fffde5d88320d2664aebc7219403 | 2018                           | 0                              | 1737                           | 0                              |  6                             | 0                              |  6                             |  6                             | 5.48                           | 1                              |\n",
       "| 0a1c99873b1bf84931803cb077f129 | 2020                           | 1                              | 1708                           | 0                              |  4                             | 1                              |  5                             |  4                             | 5.87                           | 1                              |\n",
       "| 0bb806ca96706e9790d92a9d27aa2f | 2021                           | 1                              | 1807                           | 0                              | 11                             | 0                              | 11                             | 10                             | 5.35                           | 1                              |\n",
       "| 0c4a55a4ed9914b153b4867301f993 | 2020                           | 1                              | 1807                           | 0                              | 11                             | 0                              | 11                             | 10                             | 5.58                           | 0                              |\n",
       "| 0fe5ab4f3df38493e8cc71afe37e45 | 2017                           | 0                              | 1708                           | 3                              |  2                             | 0                              |  5                             |  6                             | 3.59                           | 1                              |\n",
       "\n"
      ],
      "text/plain": [
       "   student_id                     start_year start_year_mod program_id\n",
       "1  00949132a43fb01342e71b82fd7e46 2018       0              1807      \n",
       "2  043d2f89c95055115a73b0b7095d24 2017       0              1740      \n",
       "3  053fcec6c777193754ab8313f7ed9f 2018       0              1807      \n",
       "4  098ca3cd792b1aeb880afad52f8005 2017       0              1736      \n",
       "5  098ddd38e641cb7a2d0003de9638d7 2017       0              1807      \n",
       "6  09fffde5d88320d2664aebc7219403 2018       0              1737      \n",
       "7  0a1c99873b1bf84931803cb077f129 2020       1              1708      \n",
       "8  0bb806ca96706e9790d92a9d27aa2f 2021       1              1807      \n",
       "9  0c4a55a4ed9914b153b4867301f993 2020       1              1807      \n",
       "10 0fe5ab4f3df38493e8cc71afe37e45 2017       0              1708      \n",
       "   reprobadas_sem1 aprobadas_sem1 anuladas_sem1 cursadas_sem1 cursadas_sem3\n",
       "1  0                6             0              6             5           \n",
       "2  6                0             0              6             0           \n",
       "3  0                8             0              8             5           \n",
       "4  1                9             0             10             4           \n",
       "5  1                4             1              6             5           \n",
       "6  0                6             0              6             6           \n",
       "7  0                4             1              5             4           \n",
       "8  0               11             0             11            10           \n",
       "9  0               11             0             11            10           \n",
       "10 3                2             0              5             6           \n",
       "   gpa_sem1 Permanencia\n",
       "1  4.80     1          \n",
       "2  1.00     1          \n",
       "3  5.05     1          \n",
       "4  4.36     0          \n",
       "5  4.65     1          \n",
       "6  5.48     1          \n",
       "7  5.87     1          \n",
       "8  5.35     1          \n",
       "9  5.58     0          \n",
       "10 3.59     1          "
      ]
     },
     "metadata": {},
     "output_type": "display_data"
    }
   ],
   "source": [
    "#1. lectura de datos \n",
    "datos <- read.csv(\"fci_students.csv\",header=TRUE,sep=\";\",dec=\",\")\n",
    "datos[1:10,]\n"
   ]
  },
  {
   "cell_type": "code",
   "execution_count": 6,
   "metadata": {
    "scrolled": true
   },
   "outputs": [
    {
     "ename": "ERROR",
     "evalue": "Error in parse(text = x, srcfile = src): <text>:1:17: unexpected symbol\n1: probit: tratam. variable\n                    ^\n",
     "output_type": "error",
     "traceback": [
      "Error in parse(text = x, srcfile = src): <text>:1:17: unexpected symbol\n1: probit: tratam. variable\n                    ^\nTraceback:\n"
     ]
    }
   ],
   "source": [
    "probit: tratam. variable causal explicita, metodo no esta suponiendo relacion lineal\n",
    "\n",
    "logit: más general\n",
    "\n",
    "BART: general, debe adaptarse mejor\n",
    "\n",
    "como se compara bart con regresion logistica o probit\n",
    "\n",
    "prueba de mejora o no de modelo agregando y sacando variable \"dudosa\"\n",
    "\n",
    "adecuar datos para los dos modelos, definir entrenamiento y test 70-30\n",
    "\n",
    "usar parámetro n-tree\n"
   ]
  },
  {
   "cell_type": "code",
   "execution_count": 3,
   "metadata": {
    "scrolled": true
   },
   "outputs": [
    {
     "data": {
      "text/html": [
       "<ol class=list-inline>\n",
       "\t<li>2028</li>\n",
       "\t<li>11</li>\n",
       "</ol>\n"
      ],
      "text/latex": [
       "\\begin{enumerate*}\n",
       "\\item 2028\n",
       "\\item 11\n",
       "\\end{enumerate*}\n"
      ],
      "text/markdown": [
       "1. 2028\n",
       "2. 11\n",
       "\n",
       "\n"
      ],
      "text/plain": [
       "[1] 2028   11"
      ]
     },
     "metadata": {},
     "output_type": "display_data"
    },
    {
     "data": {
      "text/plain": [
       "                          student_id     start_year   start_year_mod  \n",
       " 004d6a77c956dea2e94c18f8f3965d:   1   Min.   :2017   Min.   :0.0000  \n",
       " 0050b3d80b41ade5455e8f87d47d9b:   1   1st Qu.:2017   1st Qu.:0.0000  \n",
       " 008419d0eb1f05d4050a9754dc6043:   1   Median :2018   Median :0.0000  \n",
       " 00949132a43fb01342e71b82fd7e46:   1   Mean   :2019   Mean   :0.4532  \n",
       " 00a4082a181ca3ed3ece8f039c7d76:   1   3rd Qu.:2020   3rd Qu.:1.0000  \n",
       " 00b766201f72e60666f22c02317a5d:   1   Max.   :2021   Max.   :1.0000  \n",
       " (Other)                       :2022                                  \n",
       "   program_id   reprobadas_sem1  aprobadas_sem1   anuladas_sem1   \n",
       " Min.   :1704   Min.   : 0.000   Min.   : 0.000   Min.   :0.0000  \n",
       " 1st Qu.:1708   1st Qu.: 0.000   1st Qu.: 3.000   1st Qu.:0.0000  \n",
       " Median :1737   Median : 1.000   Median : 5.000   Median :0.0000  \n",
       " Mean   :1751   Mean   : 1.401   Mean   : 4.903   Mean   :0.1272  \n",
       " 3rd Qu.:1779   3rd Qu.: 2.000   3rd Qu.: 6.000   3rd Qu.:0.0000  \n",
       " Max.   :1822   Max.   :10.000   Max.   :55.000   Max.   :6.0000  \n",
       "                                                                  \n",
       " cursadas_sem1    cursadas_sem3       gpa_sem1      Permanencia    \n",
       " Min.   : 0.000   Min.   : 0.000   Min.   :0.000   Min.   :0.0000  \n",
       " 1st Qu.: 6.000   1st Qu.: 3.000   1st Qu.:3.900   1st Qu.:1.0000  \n",
       " Median : 6.000   Median : 5.000   Median :4.650   Median :1.0000  \n",
       " Mean   : 6.431   Mean   : 4.272   Mean   :4.479   Mean   :0.8245  \n",
       " 3rd Qu.: 7.000   3rd Qu.: 6.000   3rd Qu.:5.220   3rd Qu.:1.0000  \n",
       " Max.   :56.000   Max.   :30.000   Max.   :6.680   Max.   :1.0000  \n",
       "                                                                   "
      ]
     },
     "metadata": {},
     "output_type": "display_data"
    }
   ],
   "source": [
    "#2. análisis exploratorio de datos:\n",
    "\n",
    "dim(datos)\n",
    "summary(datos)\n"
   ]
  },
  {
   "cell_type": "code",
   "execution_count": 34,
   "metadata": {},
   "outputs": [
    {
     "data": {
      "image/png": "[encoded data removed]",
      "text/plain": [
       "Plot with title \"Histogram of datos$total_credits_1\""
      ]
     },
     "metadata": {
      "image/png": {
       "height": 420,
       "width": 420
      }
     },
     "output_type": "display_data"
    }
   ],
   "source": [
    "hist(datos$total_credits_1)"
   ]
  },
  {
   "cell_type": "code",
   "execution_count": 35,
   "metadata": {},
   "outputs": [
    {
     "data": {
      "image/png": "[encoded data removed]",
      "text/plain": [
       "plot without title"
      ]
     },
     "metadata": {
      "image/png": {
       "height": 420,
       "width": 420
      }
     },
     "output_type": "display_data"
    }
   ],
   "source": [
    "\n",
    "boxplot(datos$Cluster ~ datos$course_approved_1)"
   ]
  },
  {
   "cell_type": "code",
   "execution_count": 4,
   "metadata": {},
   "outputs": [
    {
     "name": "stdout",
     "output_type": "stream",
     "text": [
      "\n",
      "  There is a binary version available but the source version is later:\n",
      "         binary source needs_compilation\n",
      "corrplot   0.88   0.92             FALSE\n",
      "\n"
     ]
    },
    {
     "name": "stderr",
     "output_type": "stream",
     "text": [
      "installing the source package 'corrplot'\n",
      "\n",
      "\n",
      "corrplot 0.92 loaded\n",
      "\n"
     ]
    }
   ],
   "source": [
    "install.packages(\"corrplot\")\n",
    "library(\"corrplot\")"
   ]
  },
  {
   "cell_type": "code",
   "execution_count": 5,
   "metadata": {},
   "outputs": [
    {
     "data": {
      "image/png": "[encoded data removed]",
      "text/plain": [
       "Plot with title \"\""
      ]
     },
     "metadata": {
      "image/png": {
       "height": 420,
       "width": 420
      }
     },
     "output_type": "display_data"
    }
   ],
   "source": [
    "#definición de variables\n",
    "response<-datos[,11]\n",
    "treatment <- datos[,3]\n",
    "confounders <- datos[,5:10]\n",
    "\n",
    "\n",
    "\n",
    "dataT <- cbind(response,treatment,confounders)\n",
    "corDatos <- cor(dataT)\n",
    "corrplot(corDatos)\n"
   ]
  },
  {
   "cell_type": "code",
   "execution_count": 6,
   "metadata": {},
   "outputs": [
    {
     "name": "stdout",
     "output_type": "stream",
     "text": [
      "        treatment\n",
      "response   0   1\n",
      "       0 185 171\n",
      "       1 924 748\n"
     ]
    },
    {
     "name": "stderr",
     "output_type": "stream",
     "text": [
      "Warning message in chisq.test(cbind(as.factor(response), as.factor(treatment))):\n",
      "\"Chi-squared approximation may be incorrect\"\n"
     ]
    },
    {
     "data": {
      "text/plain": [
       "\n",
       "\tPearson's Chi-squared test\n",
       "\n",
       "data:  cbind(as.factor(response), as.factor(treatment))\n",
       "X-squared = 283.33, df = 2027, p-value = 1\n"
      ]
     },
     "metadata": {},
     "output_type": "display_data"
    }
   ],
   "source": [
    "#análisis de independencia respuesta vs tratamiento\n",
    "tab <- table(response, treatment)\n",
    "print(tab)\n",
    "chisq.test(cbind(as.factor(response),as.factor(treatment)))"
   ]
  },
  {
   "cell_type": "code",
   "execution_count": 7,
   "metadata": {},
   "outputs": [
    {
     "data": {
      "text/plain": [
       " reprobadas_sem1  aprobadas_sem1   anuladas_sem1    cursadas_sem1   \n",
       " Min.   : 0.000   Min.   : 0.000   Min.   :0.0000   Min.   : 0.000  \n",
       " 1st Qu.: 0.000   1st Qu.: 3.000   1st Qu.:0.0000   1st Qu.: 6.000  \n",
       " Median : 1.000   Median : 5.000   Median :0.0000   Median : 6.000  \n",
       " Mean   : 1.401   Mean   : 4.903   Mean   :0.1272   Mean   : 6.431  \n",
       " 3rd Qu.: 2.000   3rd Qu.: 6.000   3rd Qu.:0.0000   3rd Qu.: 7.000  \n",
       " Max.   :10.000   Max.   :55.000   Max.   :6.0000   Max.   :56.000  \n",
       " cursadas_sem3       gpa_sem1    \n",
       " Min.   : 0.000   Min.   :0.000  \n",
       " 1st Qu.: 3.000   1st Qu.:3.900  \n",
       " Median : 5.000   Median :4.650  \n",
       " Mean   : 4.272   Mean   :4.479  \n",
       " 3rd Qu.: 6.000   3rd Qu.:5.220  \n",
       " Max.   :30.000   Max.   :6.680  "
      ]
     },
     "metadata": {},
     "output_type": "display_data"
    },
    {
     "data": {
      "text/plain": [
       "\n",
       "Call:\n",
       "glm(formula = y ~ z + x2 + x5 + x3 + x4 + x1, family = binomial(link = \"probit\"))\n",
       "\n",
       "Deviance Residuals: \n",
       "    Min       1Q   Median       3Q      Max  \n",
       "-2.0145   0.5901   0.6105   0.6388   0.6934  \n",
       "\n",
       "Coefficients:\n",
       "            Estimate Std. Error z value Pr(>|z|)   \n",
       "(Intercept)  1.01557    0.34245   2.966  0.00302 **\n",
       "z1          -0.06777    0.06705  -1.011  0.31213   \n",
       "x2          -0.01877    0.08222  -0.228  0.81940   \n",
       "x5          -0.03340    0.06622  -0.504  0.61403   \n",
       "x3           0.02836    0.08197   0.346  0.72934   \n",
       "x4           0.01050    0.01438   0.730  0.46510   \n",
       "x1          -0.02609    0.08709  -0.300  0.76451   \n",
       "---\n",
       "Signif. codes:  0 '***' 0.001 '**' 0.01 '*' 0.05 '.' 0.1 ' ' 1\n",
       "\n",
       "(Dispersion parameter for binomial family taken to be 1)\n",
       "\n",
       "    Null deviance: 1884.3  on 2027  degrees of freedom\n",
       "Residual deviance: 1881.5  on 2021  degrees of freedom\n",
       "AIC: 1895.5\n",
       "\n",
       "Number of Fisher Scoring iterations: 4\n"
      ]
     },
     "metadata": {},
     "output_type": "display_data"
    }
   ],
   "source": [
    "#3. Ajuste de regresión logística para comparar resultados de bartc\n",
    "\n",
    "y= as.factor(response)\n",
    "z = as.factor(treatment)\n",
    "summary(confounders)\n",
    "x1 = confounders[,1]\n",
    "x2 = confounders[,2]\n",
    "x3 = confounders[,4]\n",
    "x4 = confounders[,5]\n",
    "x5 = confounders[,6]\n",
    "res2 <- glm(y ~ z  +x2+x5+x3+x4+x1,family=binomial(link=\"probit\"))\n",
    "summary(res2)"
   ]
  },
  {
   "cell_type": "code",
   "execution_count": 8,
   "metadata": {},
   "outputs": [
    {
     "name": "stdout",
     "output_type": "stream",
     "text": [
      "\n",
      "  There is a binary version available but the source version is later:\n",
      "          binary source needs_compilation\n",
      "bartCause  1.0-4  1.0-6             FALSE\n",
      "\n"
     ]
    },
    {
     "name": "stderr",
     "output_type": "stream",
     "text": [
      "installing the source package 'bartCause'\n",
      "\n",
      "\n"
     ]
    }
   ],
   "source": [
    "# 4. Ajuste de modelo bayesiano de arboles aditivos con causalidad\n",
    "\n",
    "install.packages(\"bartCause\")\n"
   ]
  },
  {
   "cell_type": "code",
   "execution_count": 9,
   "metadata": {},
   "outputs": [],
   "source": [
    "library(bartCause)"
   ]
  },
  {
   "cell_type": "code",
   "execution_count": 10,
   "metadata": {},
   "outputs": [],
   "source": [
    "\n",
    "confounders <-cbind(x1,x2,x3,x4,x5)"
   ]
  },
  {
   "cell_type": "code",
   "execution_count": 11,
   "metadata": {},
   "outputs": [
    {
     "name": "stdout",
     "output_type": "stream",
     "text": [
      "fitting treatment model via method 'bart'\n",
      "fitting response model via method 'bart'\n"
     ]
    }
   ],
   "source": [
    "\n",
    "res <- bartc(response, treatment,confounders,method.rsp=\"bart\",n.samples = 100L, n.burn = 15L, n.chains = 2L,verbose=TRUE)"
   ]
  },
  {
   "cell_type": "code",
   "execution_count": 12,
   "metadata": {},
   "outputs": [
    {
     "data": {
      "text/plain": [
       "Call: bartc(response = response, treatment = treatment, confounders = confounders, \n",
       "            method.rsp = \"bart\", verbose = TRUE, n.samples = 100L, n.burn = 15L, \n",
       "            n.chains = 2L)\n",
       "\n",
       "Causal inference model fit by:\n",
       "  model.rsp: bart\n",
       "  model.trt: bart\n",
       "\n",
       "Treatment effect (population average):\n",
       "    estimate      sd ci.lower ci.upper\n",
       "ate -0.01978 0.01985 -0.05868  0.01912\n",
       "Estimates fit from 2028 total observations\n",
       "95% credible interval calculated by: normal approximation\n",
       "  population TE approximated by: posterior predictive distribution\n",
       "Result based on 100 posterior samples times 2 chains"
      ]
     },
     "metadata": {},
     "output_type": "display_data"
    }
   ],
   "source": [
    "summary(res)"
   ]
  },
  {
   "cell_type": "code",
   "execution_count": 13,
   "metadata": {},
   "outputs": [
    {
     "data": {
      "text/html": [
       "-0.0211242603550296"
      ],
      "text/latex": [
       "-0.0211242603550296"
      ],
      "text/markdown": [
       "-0.0211242603550296"
      ],
      "text/plain": [
       "[1] -0.02112426"
      ]
     },
     "metadata": {},
     "output_type": "display_data"
    }
   ],
   "source": [
    "fitted(res)"
   ]
  },
  {
   "cell_type": "code",
   "execution_count": 14,
   "metadata": {},
   "outputs": [
    {
     "data": {
      "text/html": [
       "200"
      ],
      "text/latex": [
       "200"
      ],
      "text/markdown": [
       "200"
      ],
      "text/plain": [
       "[1] 200"
      ]
     },
     "metadata": {},
     "output_type": "display_data"
    }
   ],
   "source": [
    "length(extract(res))"
   ]
  },
  {
   "cell_type": "code",
   "execution_count": 15,
   "metadata": {},
   "outputs": [
    {
     "data": {
      "text/plain": [
       "     Min.   1st Qu.    Median      Mean   3rd Qu.      Max. \n",
       "-0.074458 -0.034024 -0.021943 -0.021124 -0.007766  0.026134 "
      ]
     },
     "metadata": {},
     "output_type": "display_data"
    }
   ],
   "source": [
    "summary(extract(res))"
   ]
  },
  {
   "cell_type": "code",
   "execution_count": 16,
   "metadata": {},
   "outputs": [
    {
     "data": {
      "image/png": "[encoded data removed]",
      "text/plain": [
       "plot without title"
      ]
     },
     "metadata": {
      "image/png": {
       "height": 420,
       "width": 420
      }
     },
     "output_type": "display_data"
    }
   ],
   "source": [
    "plot(fitted(res, type = \"mu.obs\"), fitted(res2))\n"
   ]
  },
  {
   "cell_type": "code",
   "execution_count": 17,
   "metadata": {},
   "outputs": [
    {
     "data": {
      "image/png": "[encoded data removed]",
      "text/plain": [
       "plot without title"
      ]
     },
     "metadata": {
      "image/png": {
       "height": 420,
       "width": 420
      }
     },
     "output_type": "display_data"
    }
   ],
   "source": [
    "estimated<- fitted(res, type = \"mu.obs\")\n",
    "plot(estimated, response)"
   ]
  },
  {
   "cell_type": "code",
   "execution_count": 18,
   "metadata": {
    "scrolled": true
   },
   "outputs": [
    {
     "data": {
      "image/png": "[encoded data removed]",
      "text/plain": [
       "plot without title"
      ]
     },
     "metadata": {
      "image/png": {
       "height": 420,
       "width": 420
      }
     },
     "output_type": "display_data"
    }
   ],
   "source": [
    "ites<- extract(res, type = \"ite\")\n",
    "#ites <- ites[,z[]==]\n",
    "ite.m  <- apply(ites, 2, mean)\n",
    "ite.sd <- apply(ites, 2, sd)\n",
    "ite.lb <- ite.m - 2 * ite.sd\n",
    "ite.ub <- ite.m + 2 * ite.sd\n",
    "\n",
    "ite.o <- order(ite.m)\n",
    "\n",
    "plot(NULL, type = \"n\",\n",
    "     xlim = c(1, length(ite.m)), ylim = range(ite.lb, ite.ub),\n",
    "     xlab = \"effect order\", ylab = \"individual treatment effect\")\n",
    "lines(rbind(seq_along(ite.m), seq_along(ite.m), NA),\n",
    "      rbind(ite.lb[ite.o], ite.ub[ite.o], NA), lwd = 0.5)\n",
    "points(seq_along(ite.m), ite.m[ite.o], pch = 20)"
   ]
  },
  {
   "cell_type": "code",
   "execution_count": 19,
   "metadata": {},
   "outputs": [
    {
     "data": {
      "image/png": "[encoded data removed]",
      "text/plain": [
       "plot without title"
      ]
     },
     "metadata": {
      "image/png": {
       "height": 420,
       "width": 420
      }
     },
     "output_type": "display_data"
    }
   ],
   "source": [
    "ites<- extract(res, type = \"mu.obs\")\n",
    "#ites <- ites[,z[]==0]\n",
    "ite.m  <- apply(ites, 2, mean)\n",
    "ite.sd <- apply(ites, 2, sd)\n",
    "ite.lb <- ite.m - 2 * ite.sd\n",
    "ite.ub <- ite.m + 2 * ite.sd\n",
    "\n",
    "ite.o <- order(ite.m)\n",
    "\n",
    "plot(NULL, type = \"n\",\n",
    "     xlim = c(1, length(ite.m)), ylim = range(ite.lb, ite.ub),\n",
    "     xlab = \"effect order\", ylab = \"individual treatment effect\")\n",
    "lines(rbind(seq_along(ite.m), seq_along(ite.m), NA),\n",
    "      rbind(ite.lb[ite.o], ite.ub[ite.o], NA), lwd = 0.5)\n",
    "points(seq_along(ite.m), ite.m[ite.o], pch = 20)"
   ]
  },
  {
   "cell_type": "code",
   "execution_count": 20,
   "metadata": {},
   "outputs": [
    {
     "data": {
      "image/png": "[encoded data removed]",
      "text/plain": [
       "plot without title"
      ]
     },
     "metadata": {
      "image/png": {
       "height": 420,
       "width": 420
      }
     },
     "output_type": "display_data"
    }
   ],
   "source": [
    "prob1 = fitted(res, type=\"mu.obs\")\n",
    "prob2 = fitted(res2)\n",
    "p1=matrix(0,nrow=50,ncol=3)\n",
    "p2=matrix(0,nrow=50,ncol=3)\n",
    "i=1\n",
    "for(p in seq(min(prob1),max(prob1),.05)){\n",
    "    t1=table(prob1>p,as.factor(dataT$response))\n",
    "    p1[i,]=c(p,(t1[2,2])/sum(t1[,2]),(t1[1,1])/sum(t1[,1]))\n",
    "    i=i+1\n",
    "}\n",
    "\n",
    "j=1\n",
    "for(p in seq(min(prob2),max(prob2),.05)){\n",
    "    t2=table(prob2>p,as.factor(dataT$response))\n",
    "    p2[j,]=c(p,(t2[2,2])/sum(t2[,2]),(t2[1,1])/sum(t2[,1]))\n",
    "    j=j+1\n",
    "}\n",
    "\n",
    "plot(1-p1[1:i-1,3],p1[1:i-1,2],type=\"l\",xlab=\"1-especificidad\",ylab=\"sensibilidad\",ylim=c(0,1))\n",
    "lines(1-p2[1:j-1,3],p2[1:j-1,2],col=\"blue\")\n",
    "lines(c(0,1),c(0,1),col=\"red\")"
   ]
  },
  {
   "cell_type": "code",
   "execution_count": 21,
   "metadata": {},
   "outputs": [
    {
     "data": {
      "image/png": "[encoded data removed]",
      "text/plain": [
       "plot without title"
      ]
     },
     "metadata": {
      "image/png": {
       "height": 420,
       "width": 420
      }
     },
     "output_type": "display_data"
    }
   ],
   "source": [
    "ites<- extract(res, type = \"mu.obs\")\n",
    "ites <- ites[,z[]==0]\n",
    "ite.m  <- apply(ites, 2, mean)\n",
    "ite.sd <- apply(ites, 2, sd)\n",
    "ite.lb <- ite.m - 2 * ite.sd\n",
    "ite.ub <- ite.m + 2 * ite.sd\n",
    "\n",
    "ite.o <- order(ite.m)\n",
    "\n",
    "plot(NULL, type = \"n\",\n",
    "     xlim = c(1, length(ite.m)), ylim = range(ite.lb, ite.ub),\n",
    "     xlab = \"effect order\", ylab = \"individual treatment effect\")\n",
    "lines(rbind(seq_along(ite.m), seq_along(ite.m), NA),\n",
    "      rbind(ite.lb[ite.o], ite.ub[ite.o], NA), lwd = 0.5)\n",
    "points(seq_along(ite.m), ite.m[ite.o], pch = 20)"
   ]
  },
  {
   "cell_type": "code",
   "execution_count": null,
   "metadata": {},
   "outputs": [],
   "source": [
    "\n"
   ]
  },
  {
   "cell_type": "code",
   "execution_count": null,
   "metadata": {},
   "outputs": [],
   "source": []
  }
 ],
 "metadata": {
  "kernelspec": {
   "display_name": "R",
   "language": "R",
   "name": "ir"
  },
  "language_info": {
   "codemirror_mode": "r",
   "file_extension": ".r",
   "mimetype": "text/x-r-source",
   "name": "R",
   "pygments_lexer": "r",
   "version": "3.6.1"
  }
 },
 "nbformat": 4,
 "nbformat_minor": 2
}
