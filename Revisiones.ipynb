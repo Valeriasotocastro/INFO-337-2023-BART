{
 "cells": [
  {
   "cell_type": "code",
   "execution_count": 18,
   "id": "0d37201c",
   "metadata": {},
   "outputs": [
    {
     "data": {
      "text/html": [
       "<table>\n",
       "<thead><tr><th scope=col>student_id</th><th scope=col>start_year</th><th scope=col>start_year_mod</th><th scope=col>program_id</th><th scope=col>reprobadas_sem1</th><th scope=col>aprobadas_sem1</th><th scope=col>anuladas_sem1</th><th scope=col>cursadas_sem1</th><th scope=col>cursadas_sem3</th><th scope=col>gpa_sem1</th><th scope=col>Permanencia</th></tr></thead>\n",
       "<tbody>\n",
       "\t<tr><td>00949132a43fb01342e71b82fd7e46</td><td>2018                          </td><td>0                             </td><td>1807                          </td><td>0                             </td><td> 6                            </td><td>0                             </td><td> 6                            </td><td> 5                            </td><td>4.80                          </td><td>1                             </td></tr>\n",
       "\t<tr><td>043d2f89c95055115a73b0b7095d24</td><td>2017                          </td><td>0                             </td><td>1740                          </td><td>6                             </td><td> 0                            </td><td>0                             </td><td> 6                            </td><td> 0                            </td><td>1.00                          </td><td>1                             </td></tr>\n",
       "\t<tr><td>053fcec6c777193754ab8313f7ed9f</td><td>2018                          </td><td>0                             </td><td>1807                          </td><td>0                             </td><td> 8                            </td><td>0                             </td><td> 8                            </td><td> 5                            </td><td>5.05                          </td><td>1                             </td></tr>\n",
       "\t<tr><td>098ca3cd792b1aeb880afad52f8005</td><td>2017                          </td><td>0                             </td><td>1736                          </td><td>1                             </td><td> 9                            </td><td>0                             </td><td>10                            </td><td> 4                            </td><td>4.36                          </td><td>0                             </td></tr>\n",
       "\t<tr><td>098ddd38e641cb7a2d0003de9638d7</td><td>2017                          </td><td>0                             </td><td>1807                          </td><td>1                             </td><td> 4                            </td><td>1                             </td><td> 6                            </td><td> 5                            </td><td>4.65                          </td><td>1                             </td></tr>\n",
       "\t<tr><td>09fffde5d88320d2664aebc7219403</td><td>2018                          </td><td>0                             </td><td>1737                          </td><td>0                             </td><td> 6                            </td><td>0                             </td><td> 6                            </td><td> 6                            </td><td>5.48                          </td><td>1                             </td></tr>\n",
       "\t<tr><td>0a1c99873b1bf84931803cb077f129</td><td>2020                          </td><td>1                             </td><td>1708                          </td><td>0                             </td><td> 4                            </td><td>1                             </td><td> 5                            </td><td> 4                            </td><td>5.87                          </td><td>1                             </td></tr>\n",
       "\t<tr><td>0bb806ca96706e9790d92a9d27aa2f</td><td>2021                          </td><td>1                             </td><td>1807                          </td><td>0                             </td><td>11                            </td><td>0                             </td><td>11                            </td><td>10                            </td><td>5.35                          </td><td>1                             </td></tr>\n",
       "\t<tr><td>0c4a55a4ed9914b153b4867301f993</td><td>2020                          </td><td>1                             </td><td>1807                          </td><td>0                             </td><td>11                            </td><td>0                             </td><td>11                            </td><td>10                            </td><td>5.58                          </td><td>0                             </td></tr>\n",
       "\t<tr><td>0fe5ab4f3df38493e8cc71afe37e45</td><td>2017                          </td><td>0                             </td><td>1708                          </td><td>3                             </td><td> 2                            </td><td>0                             </td><td> 5                            </td><td> 6                            </td><td>3.59                          </td><td>1                             </td></tr>\n",
       "</tbody>\n",
       "</table>\n"
      ],
      "text/latex": [
       "\\begin{tabular}{r|lllllllllll}\n",
       " student\\_id & start\\_year & start\\_year\\_mod & program\\_id & reprobadas\\_sem1 & aprobadas\\_sem1 & anuladas\\_sem1 & cursadas\\_sem1 & cursadas\\_sem3 & gpa\\_sem1 & Permanencia\\\\\n",
       "\\hline\n",
       "\t 00949132a43fb01342e71b82fd7e46 & 2018                           & 0                              & 1807                           & 0                              &  6                             & 0                              &  6                             &  5                             & 4.80                           & 1                             \\\\\n",
       "\t 043d2f89c95055115a73b0b7095d24 & 2017                           & 0                              & 1740                           & 6                              &  0                             & 0                              &  6                             &  0                             & 1.00                           & 1                             \\\\\n",
       "\t 053fcec6c777193754ab8313f7ed9f & 2018                           & 0                              & 1807                           & 0                              &  8                             & 0                              &  8                             &  5                             & 5.05                           & 1                             \\\\\n",
       "\t 098ca3cd792b1aeb880afad52f8005 & 2017                           & 0                              & 1736                           & 1                              &  9                             & 0                              & 10                             &  4                             & 4.36                           & 0                             \\\\\n",
       "\t 098ddd38e641cb7a2d0003de9638d7 & 2017                           & 0                              & 1807                           & 1                              &  4                             & 1                              &  6                             &  5                             & 4.65                           & 1                             \\\\\n",
       "\t 09fffde5d88320d2664aebc7219403 & 2018                           & 0                              & 1737                           & 0                              &  6                             & 0                              &  6                             &  6                             & 5.48                           & 1                             \\\\\n",
       "\t 0a1c99873b1bf84931803cb077f129 & 2020                           & 1                              & 1708                           & 0                              &  4                             & 1                              &  5                             &  4                             & 5.87                           & 1                             \\\\\n",
       "\t 0bb806ca96706e9790d92a9d27aa2f & 2021                           & 1                              & 1807                           & 0                              & 11                             & 0                              & 11                             & 10                             & 5.35                           & 1                             \\\\\n",
       "\t 0c4a55a4ed9914b153b4867301f993 & 2020                           & 1                              & 1807                           & 0                              & 11                             & 0                              & 11                             & 10                             & 5.58                           & 0                             \\\\\n",
       "\t 0fe5ab4f3df38493e8cc71afe37e45 & 2017                           & 0                              & 1708                           & 3                              &  2                             & 0                              &  5                             &  6                             & 3.59                           & 1                             \\\\\n",
       "\\end{tabular}\n"
      ],
      "text/markdown": [
       "\n",
       "| student_id | start_year | start_year_mod | program_id | reprobadas_sem1 | aprobadas_sem1 | anuladas_sem1 | cursadas_sem1 | cursadas_sem3 | gpa_sem1 | Permanencia |\n",
       "|---|---|---|---|---|---|---|---|---|---|---|\n",
       "| 00949132a43fb01342e71b82fd7e46 | 2018                           | 0                              | 1807                           | 0                              |  6                             | 0                              |  6                             |  5                             | 4.80                           | 1                              |\n",
       "| 043d2f89c95055115a73b0b7095d24 | 2017                           | 0                              | 1740                           | 6                              |  0                             | 0                              |  6                             |  0                             | 1.00                           | 1                              |\n",
       "| 053fcec6c777193754ab8313f7ed9f | 2018                           | 0                              | 1807                           | 0                              |  8                             | 0                              |  8                             |  5                             | 5.05                           | 1                              |\n",
       "| 098ca3cd792b1aeb880afad52f8005 | 2017                           | 0                              | 1736                           | 1                              |  9                             | 0                              | 10                             |  4                             | 4.36                           | 0                              |\n",
       "| 098ddd38e641cb7a2d0003de9638d7 | 2017                           | 0                              | 1807                           | 1                              |  4                             | 1                              |  6                             |  5                             | 4.65                           | 1                              |\n",
       "| 09fffde5d88320d2664aebc7219403 | 2018                           | 0                              | 1737                           | 0                              |  6                             | 0                              |  6                             |  6                             | 5.48                           | 1                              |\n",
       "| 0a1c99873b1bf84931803cb077f129 | 2020                           | 1                              | 1708                           | 0                              |  4                             | 1                              |  5                             |  4                             | 5.87                           | 1                              |\n",
       "| 0bb806ca96706e9790d92a9d27aa2f | 2021                           | 1                              | 1807                           | 0                              | 11                             | 0                              | 11                             | 10                             | 5.35                           | 1                              |\n",
       "| 0c4a55a4ed9914b153b4867301f993 | 2020                           | 1                              | 1807                           | 0                              | 11                             | 0                              | 11                             | 10                             | 5.58                           | 0                              |\n",
       "| 0fe5ab4f3df38493e8cc71afe37e45 | 2017                           | 0                              | 1708                           | 3                              |  2                             | 0                              |  5                             |  6                             | 3.59                           | 1                              |\n",
       "\n"
      ],
      "text/plain": [
       "   student_id                     start_year start_year_mod program_id\n",
       "1  00949132a43fb01342e71b82fd7e46 2018       0              1807      \n",
       "2  043d2f89c95055115a73b0b7095d24 2017       0              1740      \n",
       "3  053fcec6c777193754ab8313f7ed9f 2018       0              1807      \n",
       "4  098ca3cd792b1aeb880afad52f8005 2017       0              1736      \n",
       "5  098ddd38e641cb7a2d0003de9638d7 2017       0              1807      \n",
       "6  09fffde5d88320d2664aebc7219403 2018       0              1737      \n",
       "7  0a1c99873b1bf84931803cb077f129 2020       1              1708      \n",
       "8  0bb806ca96706e9790d92a9d27aa2f 2021       1              1807      \n",
       "9  0c4a55a4ed9914b153b4867301f993 2020       1              1807      \n",
       "10 0fe5ab4f3df38493e8cc71afe37e45 2017       0              1708      \n",
       "   reprobadas_sem1 aprobadas_sem1 anuladas_sem1 cursadas_sem1 cursadas_sem3\n",
       "1  0                6             0              6             5           \n",
       "2  6                0             0              6             0           \n",
       "3  0                8             0              8             5           \n",
       "4  1                9             0             10             4           \n",
       "5  1                4             1              6             5           \n",
       "6  0                6             0              6             6           \n",
       "7  0                4             1              5             4           \n",
       "8  0               11             0             11            10           \n",
       "9  0               11             0             11            10           \n",
       "10 3                2             0              5             6           \n",
       "   gpa_sem1 Permanencia\n",
       "1  4.80     1          \n",
       "2  1.00     1          \n",
       "3  5.05     1          \n",
       "4  4.36     0          \n",
       "5  4.65     1          \n",
       "6  5.48     1          \n",
       "7  5.87     1          \n",
       "8  5.35     1          \n",
       "9  5.58     0          \n",
       "10 3.59     1          "
      ]
     },
     "metadata": {},
     "output_type": "display_data"
    },
    {
     "data": {
      "text/html": [
       "<ol class=list-inline>\n",
       "\t<li>2028</li>\n",
       "\t<li>11</li>\n",
       "</ol>\n"
      ],
      "text/latex": [
       "\\begin{enumerate*}\n",
       "\\item 2028\n",
       "\\item 11\n",
       "\\end{enumerate*}\n"
      ],
      "text/markdown": [
       "1. 2028\n",
       "2. 11\n",
       "\n",
       "\n"
      ],
      "text/plain": [
       "[1] 2028   11"
      ]
     },
     "metadata": {},
     "output_type": "display_data"
    },
    {
     "data": {
      "text/plain": [
       "                          student_id     start_year   start_year_mod  \n",
       " 004d6a77c956dea2e94c18f8f3965d:   1   Min.   :2017   Min.   :0.0000  \n",
       " 0050b3d80b41ade5455e8f87d47d9b:   1   1st Qu.:2017   1st Qu.:0.0000  \n",
       " 008419d0eb1f05d4050a9754dc6043:   1   Median :2018   Median :0.0000  \n",
       " 00949132a43fb01342e71b82fd7e46:   1   Mean   :2019   Mean   :0.4532  \n",
       " 00a4082a181ca3ed3ece8f039c7d76:   1   3rd Qu.:2020   3rd Qu.:1.0000  \n",
       " 00b766201f72e60666f22c02317a5d:   1   Max.   :2021   Max.   :1.0000  \n",
       " (Other)                       :2022                                  \n",
       "   program_id   reprobadas_sem1  aprobadas_sem1   anuladas_sem1   \n",
       " Min.   :1704   Min.   : 0.000   Min.   : 0.000   Min.   :0.0000  \n",
       " 1st Qu.:1708   1st Qu.: 0.000   1st Qu.: 3.000   1st Qu.:0.0000  \n",
       " Median :1737   Median : 1.000   Median : 5.000   Median :0.0000  \n",
       " Mean   :1751   Mean   : 1.401   Mean   : 4.903   Mean   :0.1272  \n",
       " 3rd Qu.:1779   3rd Qu.: 2.000   3rd Qu.: 6.000   3rd Qu.:0.0000  \n",
       " Max.   :1822   Max.   :10.000   Max.   :55.000   Max.   :6.0000  \n",
       "                                                                  \n",
       " cursadas_sem1    cursadas_sem3       gpa_sem1      Permanencia    \n",
       " Min.   : 0.000   Min.   : 0.000   Min.   :0.000   Min.   :0.0000  \n",
       " 1st Qu.: 6.000   1st Qu.: 3.000   1st Qu.:3.900   1st Qu.:1.0000  \n",
       " Median : 6.000   Median : 5.000   Median :4.650   Median :1.0000  \n",
       " Mean   : 6.431   Mean   : 4.272   Mean   :4.479   Mean   :0.8245  \n",
       " 3rd Qu.: 7.000   3rd Qu.: 6.000   3rd Qu.:5.220   3rd Qu.:1.0000  \n",
       " Max.   :56.000   Max.   :30.000   Max.   :6.680   Max.   :1.0000  \n",
       "                                                                   "
      ]
     },
     "metadata": {},
     "output_type": "display_data"
    }
   ],
   "source": [
    "#1. lectura de datos \n",
    "datos <- read.csv(\"fci_students.csv\",header=TRUE,sep=\";\",dec=\",\")\n",
    "datos[1:10,]\n",
    "\n",
    "#2. análisis exploratorio de datos:\n",
    "\n",
    "dim(datos)\n",
    "summary(datos)"
   ]
  },
  {
   "cell_type": "code",
   "execution_count": 2,
   "id": "5c22c019",
   "metadata": {},
   "outputs": [
    {
     "name": "stdout",
     "output_type": "stream",
     "text": [
      "\n",
      "  There is a binary version available but the source version is later:\n",
      "         binary source needs_compilation\n",
      "corrplot   0.88   0.92             FALSE\n",
      "\n"
     ]
    },
    {
     "name": "stderr",
     "output_type": "stream",
     "text": [
      "installing the source package 'corrplot'\n",
      "\n",
      "\n",
      "corrplot 0.92 loaded\n",
      "\n"
     ]
    }
   ],
   "source": [
    "install.packages(\"corrplot\")\n",
    "library(\"corrplot\")"
   ]
  },
  {
   "cell_type": "code",
   "execution_count": 3,
   "id": "becf6e72",
   "metadata": {},
   "outputs": [
    {
     "data": {
      "image/png": "[encoded data removed]",
      "text/plain": [
       "Plot with title \"\""
      ]
     },
     "metadata": {
      "image/png": {
       "height": 420,
       "width": 420
      }
     },
     "output_type": "display_data"
    }
   ],
   "source": [
    "#definición de variables\n",
    "response<-datos[,11]\n",
    "treatment <- datos[,3]\n",
    "confounders <- datos[,5:10]\n",
    "\n",
    "\n",
    "\n",
    "dataT <- cbind(response,treatment,confounders)\n",
    "corDatos <- cor(dataT)\n",
    "corrplot(corDatos)"
   ]
  },
  {
   "cell_type": "code",
   "execution_count": 4,
   "id": "effc8e0a",
   "metadata": {},
   "outputs": [
    {
     "name": "stdout",
     "output_type": "stream",
     "text": [
      "        treatment\n",
      "response   0   1\n",
      "       0 185 171\n",
      "       1 924 748\n"
     ]
    },
    {
     "name": "stderr",
     "output_type": "stream",
     "text": [
      "Warning message in chisq.test(cbind(as.factor(response), as.factor(treatment))):\n",
      "\"Chi-squared approximation may be incorrect\"\n"
     ]
    },
    {
     "data": {
      "text/plain": [
       "\n",
       "\tPearson's Chi-squared test\n",
       "\n",
       "data:  cbind(as.factor(response), as.factor(treatment))\n",
       "X-squared = 283.33, df = 2027, p-value = 1\n"
      ]
     },
     "metadata": {},
     "output_type": "display_data"
    }
   ],
   "source": [
    "#análisis de independencia respuesta vs tratamiento\n",
    "tab <- table(response, treatment)\n",
    "print(tab)\n",
    "chisq.test(cbind(as.factor(response),as.factor(treatment)))"
   ]
  },
  {
   "cell_type": "code",
   "execution_count": 5,
   "id": "d12b4e3d",
   "metadata": {},
   "outputs": [],
   "source": [
    "#Pasos a seguir (artículo BART)\n",
    "\n",
    "#BART (Bayesian Additive Regression Trees) es un modelo estadístico que combina árboles de regresión aditiva con inferencia bayesiana.\n",
    "\n",
    "#1) Preparación de datos-> OK excel\n",
    "\n",
    "#2) Instalación de paquetes\n",
    "\n",
    "#3) Desarrollo modelo:\n",
    "\n",
    "    #Parámetros\n",
    "    #Hiperparámetros \n",
    "        #Número de arboles-> relación entre las variables de entrada y la variable de salida\n",
    "            #*Un mayor número de árboles puede aumentar la capacidad del modelo, pero también puede aumentar el tiempo de entrenamiento.\n",
    "        #Profundidad de árboles-> profundidad máxima que pueden alcanzar los árboles en el modelo\n",
    "            #*Una mayor profundidad permite un mayor ajuste a los datos\n",
    "    #Distribuciones previas ->ayudan a controlar la complejidad del modelo y evitan el sobreajuste. (Media y Varianza)\n",
    "\n",
    "#4) Ajustar modelo a datos (utilizar MCMC) -> algoritmo adecuado a parámetros del modelo\n",
    "    #Este proceso de ajuste tiene objetivo de encontrar la distribución posterior de los parámetros\n",
    "\n",
    "#5) Evaluar modelo -> métricas, precisión, incertidumbre de predicciones (intervalos de credibilidad o distrib)\n",
    "\n",
    "#6) Interpretación de resultados\n",
    "\n",
    "#7) Predicciones (con modelo BART ajustado)\n",
    "\n",
    "#Referencia-> https://cran.r-project.org/web/packages/bartMachine/bartMachine.pdf\n",
    "\n"
   ]
  },
  {
   "cell_type": "code",
   "execution_count": 6,
   "id": "370d54a9",
   "metadata": {},
   "outputs": [
    {
     "data": {
      "image/png": "[encoded data removed]",
      "text/plain": [
       "Plot with title \"Media variables\""
      ]
     },
     "metadata": {
      "image/png": {
       "height": 420,
       "width": 420
      }
     },
     "output_type": "display_data"
    }
   ],
   "source": [
    "datos <- data.frame(\n",
    "  reprobadas_sem1 = rnorm(100),\n",
    "  aprobadas_sem1 = rnorm(100),\n",
    "  anuladas_sem1 = rnorm(100),\n",
    "    cursadas_sem1 = rnorm(100)\n",
    ")\n",
    "\n",
    "means <- colMeans(datos)\n",
    "\n",
    "boxplot(datos)\n",
    "\n",
    "points(x = 1:length(means), y = means, col = \"red\", pch = 19)\n",
    "\n",
    "names <- c('reprobadas_sem1', 'aprobadas_sem1', 'anuladas_sem1', 'cursadas_sem1')\n",
    "axis(1, at=1:4, labels=names)\n",
    "title(main='Media variables')"
   ]
  },
  {
   "cell_type": "code",
   "execution_count": 7,
   "id": "747946da",
   "metadata": {},
   "outputs": [],
   "source": [
    "library(BayesTree)"
   ]
  },
  {
   "cell_type": "code",
   "execution_count": 8,
   "id": "0e17a45d",
   "metadata": {},
   "outputs": [],
   "source": [
    "#formula <- y ~ x1 + x2 + x3 + x4 + x5"
   ]
  },
  {
   "cell_type": "code",
   "execution_count": 19,
   "id": "51805a5f",
   "metadata": {},
   "outputs": [
    {
     "data": {
      "text/plain": [
       " reprobadas_sem1  aprobadas_sem1   anuladas_sem1    cursadas_sem1   \n",
       " Min.   : 0.000   Min.   : 0.000   Min.   :0.0000   Min.   : 0.000  \n",
       " 1st Qu.: 0.000   1st Qu.: 3.000   1st Qu.:0.0000   1st Qu.: 6.000  \n",
       " Median : 1.000   Median : 5.000   Median :0.0000   Median : 6.000  \n",
       " Mean   : 1.401   Mean   : 4.903   Mean   :0.1272   Mean   : 6.431  \n",
       " 3rd Qu.: 2.000   3rd Qu.: 6.000   3rd Qu.:0.0000   3rd Qu.: 7.000  \n",
       " Max.   :10.000   Max.   :55.000   Max.   :6.0000   Max.   :56.000  \n",
       " cursadas_sem3       gpa_sem1    \n",
       " Min.   : 0.000   Min.   :0.000  \n",
       " 1st Qu.: 3.000   1st Qu.:3.900  \n",
       " Median : 5.000   Median :4.650  \n",
       " Mean   : 4.272   Mean   :4.479  \n",
       " 3rd Qu.: 6.000   3rd Qu.:5.220  \n",
       " Max.   :30.000   Max.   :6.680  "
      ]
     },
     "metadata": {},
     "output_type": "display_data"
    },
    {
     "ename": "ERROR",
     "evalue": "Error in bart(formula, data = datos, num_trees = 100, num_burnin = 100, : unused arguments (data = datos, num_trees = 100, num_burnin = 100, num_iterations = 200)\n",
     "output_type": "error",
     "traceback": [
      "Error in bart(formula, data = datos, num_trees = 100, num_burnin = 100, : unused arguments (data = datos, num_trees = 100, num_burnin = 100, num_iterations = 200)\nTraceback:\n"
     ]
    }
   ],
   "source": [
    "y= as.factor(response)\n",
    "\n",
    "summary(confounders)\n",
    "x1 = confounders[,1]\n",
    "x2 = confounders[,2]\n",
    "x3 = confounders[,4]\n",
    "x4 = confounders[,5]\n",
    "x5 = confounders[,6]\n",
    "\n",
    "formula <- y ~ x1 + x2 + x3 + x4 + x5\n",
    "\n",
    "model <- bart(formula, data = datos, num_trees = 100, num_burnin = 100, num_iterations = 200)"
   ]
  },
  {
   "cell_type": "code",
   "execution_count": 11,
   "id": "8f43eff6",
   "metadata": {},
   "outputs": [
    {
     "ename": "ERROR",
     "evalue": "Error in bartMachine(formula, data = datos, ntree = 100): no se pudo encontrar la función \"bartMachine\"\n",
     "output_type": "error",
     "traceback": [
      "Error in bartMachine(formula, data = datos, ntree = 100): no se pudo encontrar la función \"bartMachine\"\nTraceback:\n"
     ]
    }
   ],
   "source": [
    "#model <- bartMachine(formula, data = datos, ntree = 100)\n",
    "#model <- bartMachine(formula, data = tu_data_frame, ndpost = 5)"
   ]
  },
  {
   "cell_type": "code",
   "execution_count": null,
   "id": "59d45b70",
   "metadata": {},
   "outputs": [],
   "source": [
    "#(1) $$Y = f\\left ( x \\right ) + \\varepsilon$$\n",
    "#(2) $$Y = f\\left ( x \\right ) + \\varepsilon ,  \\varepsilon \\sim N\\left ( 0,\\sigma ^{2} \\right )$$\n",
    "#(3) $$Y=g\\left ( x; T,M \\right )+\\varepsilon , \\varepsilon \\sim N\\left ( 0,\\sigma ^{2} \\right )$$\n",
    "#(4) $$Y=\\sum_{j=1}^{m} g\\left ( x; T_{j},M_{j} \\right )+\\varepsilon , \\varepsilon \\sim N\\left ( 0,\\sigma ^{2} \\right )$$\n",
    "#(5) $$p\\left ( \\left ( T_{1},M_{1} \\right ),...,\\left ( T_{m},M_{m} \\right ),\\sigma  \\right )=\\left [ \\prod_{j}^{}p\\left ( T_{j},M_{j} \\right ) \\right ]p\\left ( \\sigma  \\right )$$\n",
    "#(6) $$p\\left ( M_{j}\\mid T_{j} \\right )=\\prod_{i}^{}p\\left ( \\mu _{ij}\\mid T_{j} \\right )$$"
   ]
  },
  {
   "cell_type": "code",
   "execution_count": null,
   "id": "27809d6f",
   "metadata": {},
   "outputs": [],
   "source": [
    "#Ecuaciones modelo BART"
   ]
  },
  {
   "cell_type": "markdown",
   "id": "d1077159",
   "metadata": {},
   "source": [
    "$$ Y = f\\left ( x \\right ) + \\varepsilon $$"
   ]
  },
  {
   "cell_type": "markdown",
   "id": "c4364760",
   "metadata": {},
   "source": [
    "$$Y = f\\left ( h \\right ) + \\varepsilon$$"
   ]
  },
  {
   "cell_type": "markdown",
   "id": "ef244db1",
   "metadata": {},
   "source": [
    "$$Y = f\\left ( x \\right ) + \\varepsilon ,  \\varepsilon \\sim N\\left ( 0,\\sigma ^{2} \\right )$$"
   ]
  },
  {
   "cell_type": "markdown",
   "id": "45622a1f",
   "metadata": {},
   "source": [
    "$$Y = f\\left ( h \\right ) + \\varepsilon ,  \\varepsilon \\sim N\\left ( 0,\\sigma ^{2} \\right )$$"
   ]
  },
  {
   "cell_type": "markdown",
   "id": "bb52510f",
   "metadata": {},
   "source": [
    "$$Y=g\\left ( x; T,M \\right )+\\varepsilon , \\varepsilon \\sim N\\left ( 0,\\sigma ^{2} \\right )$$"
   ]
  },
  {
   "cell_type": "markdown",
   "id": "988f91a2",
   "metadata": {},
   "source": [
    "$$Y=\\sum_{j=1}^{m} g\\left ( x; T_{j},M_{j} \\right )+\\varepsilon , \\varepsilon \\sim N\\left ( 0,\\sigma ^{2} \\right )$$"
   ]
  },
  {
   "cell_type": "markdown",
   "id": "9f82b227",
   "metadata": {},
   "source": [
    "$$p\\left ( \\left ( T_{1},M_{1} \\right ),...,\\left ( T_{m},M_{m} \\right ),\\sigma  \\right )=\\left [ \\prod_{j}^{}p\\left ( T_{j},M_{j} \\right ) \\right ]p\\left ( \\sigma  \\right )$$"
   ]
  },
  {
   "cell_type": "markdown",
   "id": "d485a2ce",
   "metadata": {},
   "source": [
    "$$p\\left ( M_{j}\\mid T_{j} \\right )=\\prod_{i}^{}p\\left ( \\mu _{ij}\\mid T_{j} \\right )$$"
   ]
  },
  {
   "cell_type": "code",
   "execution_count": 20,
   "id": "68eeb465",
   "metadata": {},
   "outputs": [],
   "source": [
    "#Ejemplo construcción modelos con BayesTree\n",
    "\n",
    "x1 <- datos[,5]\n",
    "x2 <- datos[,6]\n",
    "x3 <- datos[,7]\n",
    "x4 <- datos[,8]\n",
    "x5 <- datos[,9]\n",
    "x6 <- datos[,10]\n",
    "response <- datos[,11]\n",
    "\n",
    "predictors <- cbind(x1, x2, x3, x4, x5, x6)\n",
    "\n",
    "datosF <- data.frame(predictors, response)"
   ]
  },
  {
   "cell_type": "code",
   "execution_count": 21,
   "id": "917f5dd6",
   "metadata": {},
   "outputs": [
    {
     "name": "stdout",
     "output_type": "stream",
     "text": [
      "NOTE: assumming numeric response is binary\n",
      "\n",
      "\n",
      "Running BART with binary y\n",
      "\n",
      "number of trees: 100\n",
      "Prior:\n",
      "\tk: 2.000000\n",
      "\tbinary offset is: 0.000000\n",
      "\tpower and base for tree prior: 2.000000 0.950000\n",
      "\tuse quantiles for rule cut points: 0\n",
      "data:\n",
      "\tnumber of training observations: 2028\n",
      "\tnumber of test observations: 0\n",
      "\tnumber of explanatory variables: 6\n",
      "\n",
      "\n",
      "Cutoff rules c in x<=c vs x>c\n",
      "Number of cutoffs: (var: number of possible c):\n",
      "(1: 100) (2: 100) (3: 100) (4: 100) (5: 100) \n",
      "(6: 100) \n",
      "\n",
      "\n",
      "Running mcmc loop:\n",
      "iteration: 100 (of 1100)\n",
      "iteration: 200 (of 1100)\n",
      "iteration: 300 (of 1100)\n",
      "iteration: 400 (of 1100)\n",
      "iteration: 500 (of 1100)\n",
      "iteration: 600 (of 1100)\n",
      "iteration: 700 (of 1100)\n",
      "iteration: 800 (of 1100)\n",
      "iteration: 900 (of 1100)\n",
      "iteration: 1000 (of 1100)\n",
      "iteration: 1100 (of 1100)\n",
      "time for loop: 38\n",
      "\n",
      "Tree sizes, last iteration:\n",
      "2 2 2 3 3 2 2 2 3 2 2 2 2 2 2 3 2 2 3 2 \n",
      "2 2 2 2 2 2 2 4 2 4 1 3 2 2 2 1 1 2 2 2 \n",
      "2 2 2 2 3 2 3 3 3 3 2 3 2 2 2 3 2 2 4 2 \n",
      "2 2 4 2 1 3 2 3 2 2 2 2 2 2 4 2 2 3 2 2 \n",
      "2 2 3 2 2 1 2 3 3 2 3 3 3 2 2 2 2 2 1 3 \n",
      "Variable Usage, last iteration (var:count):\n",
      "(1: 24) (2: 23) (3: 22) (4: 19) (5: 19) \n",
      "(6: 20) \n",
      "DONE BART 11-2-2014\n",
      "\n"
     ]
    }
   ],
   "source": [
    "y= as.factor(response)\n",
    "\n",
    "formula <- y ~ x1 + x2 + x3 + x4 + x5 + x6\n",
    "\n",
    "model <- bart(predictors,response, ntree = 100)"
   ]
  },
  {
   "cell_type": "code",
   "execution_count": 22,
   "id": "bc9dc6bd",
   "metadata": {},
   "outputs": [
    {
     "data": {
      "image/png": "[encoded data removed]",
      "text/plain": [
       "plot without title"
      ]
     },
     "metadata": {
      "image/png": {
       "height": 420,
       "width": 420
      }
     },
     "output_type": "display_data"
    }
   ],
   "source": [
    "plot(model)"
   ]
  },
  {
   "cell_type": "code",
   "execution_count": null,
   "id": "08a0023c",
   "metadata": {},
   "outputs": [],
   "source": [
    "#model <- bart(formula, data = data_frame, num_trees = 100, max_depth = 3, num_iterations = 500)\n",
    "ejemplo "
   ]
  },
  {
   "cell_type": "code",
   "execution_count": 17,
   "id": "84d79940",
   "metadata": {},
   "outputs": [
    {
     "ename": "ERROR",
     "evalue": "Error in parse(text = x, srcfile = src): <text>:2:8: unexpected symbol\n1: #Ejemplo documento BayesTree\n2: import numpy\n          ^\n",
     "output_type": "error",
     "traceback": [
      "Error in parse(text = x, srcfile = src): <text>:2:8: unexpected symbol\n1: #Ejemplo documento BayesTree\n2: import numpy\n          ^\nTraceback:\n"
     ]
    }
   ],
   "source": [
    "#Ejemplo documento BayesTree\n",
    "import numpy as np\n",
    "import pandas as pd\n",
    "import matplotlib.pyplot as plt\n",
    "from sklearn.model_selection import train_test_split\n",
    "from sklearn.linear_model import LinearRegression\n",
    "\n",
    "# Cargar los datos desde un archivo o cualquier otra fuente de datos\n",
    "datos <- read.csv(\"fci_students.csv\",header=TRUE,sep=\";\",dec=\",\")\n",
    "\n",
    "# Definir las características (x) y las etiquetas (y)\n",
    "x = data[['caracteristica_1', 'caracteristica_2', ...]]\n",
    "y = data['etiqueta']\n",
    "\n",
    "#Dividir los datos en conjuntos de entrenamiento y prueba\n",
    "x_train, x_test, y_train, y_test = train_test_split(x, y, test_size=0.2, random_state=42)\n",
    "\n",
    "# Crear una instancia del modelo de regresión lineal\n",
    "model = LinearRegression()\n",
    "\n",
    "# Ajustar el modelo utilizando los datos de entrenamiento\n",
    "model.fit(x_train, y_train)\n",
    "\n",
    "# Realizar predicciones en los datos de prueba\n",
    "y_pred = model.predict(x_test)\n",
    "\n",
    "# Graficar los resultados de las predicciones frente a los valores reales\n",
    "plt.scatter(y_test, y_pred)\n",
    "plt.xlabel('Valores reales')\n",
    "plt.ylabel('Valores predichos')\n",
    "plt.title('Predicciones vs. Valores reales')\n",
    "plt.show()\n",
    "\n",
    "#Ajuste del modelo BART\n",
    "bart_fit <- bart(x.train, y.train, x.test = matrix(0.0, 0, 0), sigest = NA, sigdf = 3, sigquant = 0.90, k = 2.0, power = 2.0, base = 0.95, binaryOffset = 0, ntree = 200, ndpost = 1000, nskip = 100, printevery = 100, keepevery = 1, keeptrainfits = TRUE, usequants = FALSE, numcut = 100, printcutoffs = 0, verbose = TRUE)\n",
    "\n",
    "#x.train representa las variables explicativas de los datos de entrenamiento, \n",
    "#y.train es la variable de respuesta de los datos de entrenamiento, y\n",
    "#x.test son las variables explicativas de los datos de prueba\n",
    "#número de árboles (ntree); número de iteraciones de MCMC (ndpost); etc\n",
    "\n",
    "# Se puede utilizar la función plot() para visualizar los resultados del modelo BART. Por ejemplo:\n",
    "plot(bart_fit)\n",
    "\n",
    "    #Esto mostrará dos gráficos: uno que muestra la secuencia de las iteraciones de MCMC \n",
    "    #para el parámetro de desviación estándar (sigma), y otro que muestra los intervalos posteriores\n",
    "    #de la variable de respuesta (f(x)) en función de la variable de entrada (x)."
   ]
  },
  {
   "cell_type": "code",
   "execution_count": null,
   "id": "00ed238c",
   "metadata": {},
   "outputs": [],
   "source": []
  }
 ],
 "metadata": {
  "kernelspec": {
   "display_name": "R",
   "language": "R",
   "name": "ir"
  },
  "language_info": {
   "codemirror_mode": "r",
   "file_extension": ".r",
   "mimetype": "text/x-r-source",
   "name": "R",
   "pygments_lexer": "r",
   "version": "3.6.1"
  }
 },
 "nbformat": 4,
 "nbformat_minor": 5
}
