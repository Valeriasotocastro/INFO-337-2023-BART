{
 "cells": [
  {
   "cell_type": "code",
   "execution_count": 4,
   "metadata": {
    "scrolled": true
   },
   "outputs": [
    {
     "data": {
      "text/html": [
       "<table>\n",
       "<thead><tr><th scope=col>id</th><th scope=col>student_id</th><th scope=col>year</th><th scope=col>total_credits_1</th><th scope=col>total_credits_2</th><th scope=col>total_courses_1</th><th scope=col>total_courses_2</th><th scope=col>course_approved_1</th><th scope=col>course_approved_2</th><th scope=col>course_failed_1</th><th scope=col>course_failed_2</th><th scope=col>t_gpa_1</th><th scope=col>t_gpa_2</th><th scope=col>c_gpa_1</th><th scope=col>c_gpa_2</th><th scope=col>start_year</th><th scope=col>Cluster</th><th scope=col>Permanencia_term_3</th></tr></thead>\n",
       "<tbody>\n",
       "\t<tr><td> 1                            </td><td>05cff88fd871c9e19bce4d8df60231</td><td>0                             </td><td>29                            </td><td>35                            </td><td>5                             </td><td>7                             </td><td>3                             </td><td>5                             </td><td>2                             </td><td>2                             </td><td>4.84                          </td><td>4.62                          </td><td>4.84                          </td><td>5.00                          </td><td>2017                          </td><td>3                             </td><td>1                             </td></tr>\n",
       "\t<tr><td> 2                            </td><td>080b659e7f6e033017ad4bda83b361</td><td>0                             </td><td>29                            </td><td>31                            </td><td>5                             </td><td>6                             </td><td>2                             </td><td>3                             </td><td>3                             </td><td>3                             </td><td>3.06                          </td><td>2.95                          </td><td>3.06                          </td><td>3.68                          </td><td>2017                          </td><td>1                             </td><td>1                             </td></tr>\n",
       "\t<tr><td> 3                            </td><td>0dee01f418108ad66efc4a0e0ec69d</td><td>0                             </td><td>29                            </td><td>31                            </td><td>5                             </td><td>7                             </td><td>5                             </td><td>7                             </td><td>0                             </td><td>0                             </td><td>6.35                          </td><td>6.11                          </td><td>6.35                          </td><td>6.23                          </td><td>2017                          </td><td>3                             </td><td>1                             </td></tr>\n",
       "\t<tr><td> 4                            </td><td>0fe5ab4f3df38493e8cc71afe37e45</td><td>0                             </td><td>29                            </td><td>31                            </td><td>5                             </td><td>6                             </td><td>2                             </td><td>1                             </td><td>3                             </td><td>5                             </td><td>3.59                          </td><td>2.37                          </td><td>3.59                          </td><td>3.25                          </td><td>2017                          </td><td>1                             </td><td>1                             </td></tr>\n",
       "\t<tr><td> 5                            </td><td>105b0c6e99b923e322c5f2a8b8cb72</td><td>0                             </td><td>29                            </td><td>26                            </td><td>5                             </td><td>5                             </td><td>2                             </td><td>0                             </td><td>3                             </td><td>5                             </td><td>2.61                          </td><td>1.06                          </td><td>2.61                          </td><td>2.99                          </td><td>2017                          </td><td>1                             </td><td>0                             </td></tr>\n",
       "\t<tr><td> 6                            </td><td>126848e7b46dc961068ec7e986589b</td><td>0                             </td><td>29                            </td><td>31                            </td><td>5                             </td><td>6                             </td><td>2                             </td><td>1                             </td><td>3                             </td><td>5                             </td><td>3.02                          </td><td>3.54                          </td><td>3.02                          </td><td>3.91                          </td><td>2017                          </td><td>1                             </td><td>0                             </td></tr>\n",
       "\t<tr><td> 7                            </td><td>1c3b9ea824f67a199286b9234015d3</td><td>0                             </td><td>29                            </td><td>31                            </td><td>5                             </td><td>7                             </td><td>5                             </td><td>5                             </td><td>0                             </td><td>2                             </td><td>5.37                          </td><td>4.71                          </td><td>5.37                          </td><td>5.03                          </td><td>2017                          </td><td>3                             </td><td>1                             </td></tr>\n",
       "\t<tr><td> 8                            </td><td>22413a4428da8a2c63278c18738cbe</td><td>0                             </td><td>29                            </td><td>35                            </td><td>5                             </td><td>7                             </td><td>3                             </td><td>7                             </td><td>2                             </td><td>0                             </td><td>3.98                          </td><td>4.72                          </td><td>3.98                          </td><td>4.87                          </td><td>2017                          </td><td>1                             </td><td>1                             </td></tr>\n",
       "\t<tr><td> 9                            </td><td>24f1adb1c9d34c3c26643e92fcc37a</td><td>0                             </td><td>29                            </td><td>28                            </td><td>5                             </td><td>6                             </td><td>4                             </td><td>5                             </td><td>1                             </td><td>1                             </td><td>4.82                          </td><td>4.52                          </td><td>4.82                          </td><td>4.83                          </td><td>2017                          </td><td>2                             </td><td>0                             </td></tr>\n",
       "\t<tr><td>10                            </td><td>300b9980166ef23dce68bd095eadc6</td><td>0                             </td><td>29                            </td><td>35                            </td><td>5                             </td><td>7                             </td><td>3                             </td><td>4                             </td><td>2                             </td><td>3                             </td><td>4.26                          </td><td>3.92                          </td><td>4.26                          </td><td>4.40                          </td><td>2017                          </td><td>1                             </td><td>1                             </td></tr>\n",
       "</tbody>\n",
       "</table>\n"
      ],
      "text/latex": [
       "\\begin{tabular}{r|llllllllllllllllll}\n",
       " id & student\\_id & year & total\\_credits\\_1 & total\\_credits\\_2 & total\\_courses\\_1 & total\\_courses\\_2 & course\\_approved\\_1 & course\\_approved\\_2 & course\\_failed\\_1 & course\\_failed\\_2 & t\\_gpa\\_1 & t\\_gpa\\_2 & c\\_gpa\\_1 & c\\_gpa\\_2 & start\\_year & Cluster & Permanencia\\_term\\_3\\\\\n",
       "\\hline\n",
       "\t  1                             & 05cff88fd871c9e19bce4d8df60231 & 0                              & 29                             & 35                             & 5                              & 7                              & 3                              & 5                              & 2                              & 2                              & 4.84                           & 4.62                           & 4.84                           & 5.00                           & 2017                           & 3                              & 1                             \\\\\n",
       "\t  2                             & 080b659e7f6e033017ad4bda83b361 & 0                              & 29                             & 31                             & 5                              & 6                              & 2                              & 3                              & 3                              & 3                              & 3.06                           & 2.95                           & 3.06                           & 3.68                           & 2017                           & 1                              & 1                             \\\\\n",
       "\t  3                             & 0dee01f418108ad66efc4a0e0ec69d & 0                              & 29                             & 31                             & 5                              & 7                              & 5                              & 7                              & 0                              & 0                              & 6.35                           & 6.11                           & 6.35                           & 6.23                           & 2017                           & 3                              & 1                             \\\\\n",
       "\t  4                             & 0fe5ab4f3df38493e8cc71afe37e45 & 0                              & 29                             & 31                             & 5                              & 6                              & 2                              & 1                              & 3                              & 5                              & 3.59                           & 2.37                           & 3.59                           & 3.25                           & 2017                           & 1                              & 1                             \\\\\n",
       "\t  5                             & 105b0c6e99b923e322c5f2a8b8cb72 & 0                              & 29                             & 26                             & 5                              & 5                              & 2                              & 0                              & 3                              & 5                              & 2.61                           & 1.06                           & 2.61                           & 2.99                           & 2017                           & 1                              & 0                             \\\\\n",
       "\t  6                             & 126848e7b46dc961068ec7e986589b & 0                              & 29                             & 31                             & 5                              & 6                              & 2                              & 1                              & 3                              & 5                              & 3.02                           & 3.54                           & 3.02                           & 3.91                           & 2017                           & 1                              & 0                             \\\\\n",
       "\t  7                             & 1c3b9ea824f67a199286b9234015d3 & 0                              & 29                             & 31                             & 5                              & 7                              & 5                              & 5                              & 0                              & 2                              & 5.37                           & 4.71                           & 5.37                           & 5.03                           & 2017                           & 3                              & 1                             \\\\\n",
       "\t  8                             & 22413a4428da8a2c63278c18738cbe & 0                              & 29                             & 35                             & 5                              & 7                              & 3                              & 7                              & 2                              & 0                              & 3.98                           & 4.72                           & 3.98                           & 4.87                           & 2017                           & 1                              & 1                             \\\\\n",
       "\t  9                             & 24f1adb1c9d34c3c26643e92fcc37a & 0                              & 29                             & 28                             & 5                              & 6                              & 4                              & 5                              & 1                              & 1                              & 4.82                           & 4.52                           & 4.82                           & 4.83                           & 2017                           & 2                              & 0                             \\\\\n",
       "\t 10                             & 300b9980166ef23dce68bd095eadc6 & 0                              & 29                             & 35                             & 5                              & 7                              & 3                              & 4                              & 2                              & 3                              & 4.26                           & 3.92                           & 4.26                           & 4.40                           & 2017                           & 1                              & 1                             \\\\\n",
       "\\end{tabular}\n"
      ],
      "text/markdown": [
       "\n",
       "| id | student_id | year | total_credits_1 | total_credits_2 | total_courses_1 | total_courses_2 | course_approved_1 | course_approved_2 | course_failed_1 | course_failed_2 | t_gpa_1 | t_gpa_2 | c_gpa_1 | c_gpa_2 | start_year | Cluster | Permanencia_term_3 |\n",
       "|---|---|---|---|---|---|---|---|---|---|---|---|---|---|---|---|---|---|\n",
       "|  1                             | 05cff88fd871c9e19bce4d8df60231 | 0                              | 29                             | 35                             | 5                              | 7                              | 3                              | 5                              | 2                              | 2                              | 4.84                           | 4.62                           | 4.84                           | 5.00                           | 2017                           | 3                              | 1                              |\n",
       "|  2                             | 080b659e7f6e033017ad4bda83b361 | 0                              | 29                             | 31                             | 5                              | 6                              | 2                              | 3                              | 3                              | 3                              | 3.06                           | 2.95                           | 3.06                           | 3.68                           | 2017                           | 1                              | 1                              |\n",
       "|  3                             | 0dee01f418108ad66efc4a0e0ec69d | 0                              | 29                             | 31                             | 5                              | 7                              | 5                              | 7                              | 0                              | 0                              | 6.35                           | 6.11                           | 6.35                           | 6.23                           | 2017                           | 3                              | 1                              |\n",
       "|  4                             | 0fe5ab4f3df38493e8cc71afe37e45 | 0                              | 29                             | 31                             | 5                              | 6                              | 2                              | 1                              | 3                              | 5                              | 3.59                           | 2.37                           | 3.59                           | 3.25                           | 2017                           | 1                              | 1                              |\n",
       "|  5                             | 105b0c6e99b923e322c5f2a8b8cb72 | 0                              | 29                             | 26                             | 5                              | 5                              | 2                              | 0                              | 3                              | 5                              | 2.61                           | 1.06                           | 2.61                           | 2.99                           | 2017                           | 1                              | 0                              |\n",
       "|  6                             | 126848e7b46dc961068ec7e986589b | 0                              | 29                             | 31                             | 5                              | 6                              | 2                              | 1                              | 3                              | 5                              | 3.02                           | 3.54                           | 3.02                           | 3.91                           | 2017                           | 1                              | 0                              |\n",
       "|  7                             | 1c3b9ea824f67a199286b9234015d3 | 0                              | 29                             | 31                             | 5                              | 7                              | 5                              | 5                              | 0                              | 2                              | 5.37                           | 4.71                           | 5.37                           | 5.03                           | 2017                           | 3                              | 1                              |\n",
       "|  8                             | 22413a4428da8a2c63278c18738cbe | 0                              | 29                             | 35                             | 5                              | 7                              | 3                              | 7                              | 2                              | 0                              | 3.98                           | 4.72                           | 3.98                           | 4.87                           | 2017                           | 1                              | 1                              |\n",
       "|  9                             | 24f1adb1c9d34c3c26643e92fcc37a | 0                              | 29                             | 28                             | 5                              | 6                              | 4                              | 5                              | 1                              | 1                              | 4.82                           | 4.52                           | 4.82                           | 4.83                           | 2017                           | 2                              | 0                              |\n",
       "| 10                             | 300b9980166ef23dce68bd095eadc6 | 0                              | 29                             | 35                             | 5                              | 7                              | 3                              | 4                              | 2                              | 3                              | 4.26                           | 3.92                           | 4.26                           | 4.40                           | 2017                           | 1                              | 1                              |\n",
       "\n"
      ],
      "text/plain": [
       "   id student_id                     year total_credits_1 total_credits_2\n",
       "1   1 05cff88fd871c9e19bce4d8df60231 0    29              35             \n",
       "2   2 080b659e7f6e033017ad4bda83b361 0    29              31             \n",
       "3   3 0dee01f418108ad66efc4a0e0ec69d 0    29              31             \n",
       "4   4 0fe5ab4f3df38493e8cc71afe37e45 0    29              31             \n",
       "5   5 105b0c6e99b923e322c5f2a8b8cb72 0    29              26             \n",
       "6   6 126848e7b46dc961068ec7e986589b 0    29              31             \n",
       "7   7 1c3b9ea824f67a199286b9234015d3 0    29              31             \n",
       "8   8 22413a4428da8a2c63278c18738cbe 0    29              35             \n",
       "9   9 24f1adb1c9d34c3c26643e92fcc37a 0    29              28             \n",
       "10 10 300b9980166ef23dce68bd095eadc6 0    29              35             \n",
       "   total_courses_1 total_courses_2 course_approved_1 course_approved_2\n",
       "1  5               7               3                 5                \n",
       "2  5               6               2                 3                \n",
       "3  5               7               5                 7                \n",
       "4  5               6               2                 1                \n",
       "5  5               5               2                 0                \n",
       "6  5               6               2                 1                \n",
       "7  5               7               5                 5                \n",
       "8  5               7               3                 7                \n",
       "9  5               6               4                 5                \n",
       "10 5               7               3                 4                \n",
       "   course_failed_1 course_failed_2 t_gpa_1 t_gpa_2 c_gpa_1 c_gpa_2 start_year\n",
       "1  2               2               4.84    4.62    4.84    5.00    2017      \n",
       "2  3               3               3.06    2.95    3.06    3.68    2017      \n",
       "3  0               0               6.35    6.11    6.35    6.23    2017      \n",
       "4  3               5               3.59    2.37    3.59    3.25    2017      \n",
       "5  3               5               2.61    1.06    2.61    2.99    2017      \n",
       "6  3               5               3.02    3.54    3.02    3.91    2017      \n",
       "7  0               2               5.37    4.71    5.37    5.03    2017      \n",
       "8  2               0               3.98    4.72    3.98    4.87    2017      \n",
       "9  1               1               4.82    4.52    4.82    4.83    2017      \n",
       "10 2               3               4.26    3.92    4.26    4.40    2017      \n",
       "   Cluster Permanencia_term_3\n",
       "1  3       1                 \n",
       "2  1       1                 \n",
       "3  3       1                 \n",
       "4  1       1                 \n",
       "5  1       0                 \n",
       "6  1       0                 \n",
       "7  3       1                 \n",
       "8  1       1                 \n",
       "9  2       0                 \n",
       "10 1       1                 "
      ]
     },
     "metadata": {},
     "output_type": "display_data"
    }
   ],
   "source": [
    "#1. lectura de datos \n",
    "datos <- read.csv(\"Datos_Bart_C.csv\",header=TRUE,sep=\";\",dec=\",\")\n",
    "datos[1:10,]\n"
   ]
  },
  {
   "cell_type": "code",
   "execution_count": 32,
   "metadata": {
    "scrolled": true
   },
   "outputs": [
    {
     "ename": "ERROR",
     "evalue": "Error in parse(text = x, srcfile = src): <text>:1:17: unexpected symbol\n1: probit: tratam. variable\n                    ^\n",
     "output_type": "error",
     "traceback": [
      "Error in parse(text = x, srcfile = src): <text>:1:17: unexpected symbol\n1: probit: tratam. variable\n                    ^\nTraceback:\n"
     ]
    }
   ],
   "source": [
    "probit: tratam. variable causal explicita, metodo no esta suponiendo relacion lineal\n",
    "\n",
    "logit: más general\n",
    "\n",
    "BART: general, debe adaptarse mejor\n",
    "\n",
    "como se compara bart con regresion logistica o probit\n",
    "\n",
    "prueba de mejora o no de modelo agregando y sacando variable \"dudosa\"\n",
    "\n",
    "adecuar datos para los dos modelos, definir entrenamiento y test 70-30\n",
    "\n",
    "usar parámetro n-tree\n"
   ]
  },
  {
   "cell_type": "code",
   "execution_count": 33,
   "metadata": {
    "scrolled": true
   },
   "outputs": [
    {
     "data": {
      "text/html": [
       "<ol class=list-inline>\n",
       "\t<li>286</li>\n",
       "\t<li>18</li>\n",
       "</ol>\n"
      ],
      "text/latex": [
       "\\begin{enumerate*}\n",
       "\\item 286\n",
       "\\item 18\n",
       "\\end{enumerate*}\n"
      ],
      "text/markdown": [
       "1. 286\n",
       "2. 18\n",
       "\n",
       "\n"
      ],
      "text/plain": [
       "[1] 286  18"
      ]
     },
     "metadata": {},
     "output_type": "display_data"
    },
    {
     "data": {
      "text/plain": [
       "       id                                  student_id       year       \n",
       " Min.   :  1.00   00b766201f72e60666f22c02317a5d:  1   Min.   :0.0000  \n",
       " 1st Qu.: 72.25   00fe221fac0f4d1bf2683dcd7e3d66:  1   1st Qu.:0.0000  \n",
       " Median :143.50   0382ead66419e1409a953d0500f790:  1   Median :1.0000  \n",
       " Mean   :143.50   0419b0933c02c07b7f6be7a58d3b62:  1   Mean   :0.5105  \n",
       " 3rd Qu.:214.75   047594087b6b6ce60f7cb0bc405a23:  1   3rd Qu.:1.0000  \n",
       " Max.   :286.00   04d40c955dd809a1dd13b0f6e5c065:  1   Max.   :1.0000  \n",
       "                  (Other)                       :280                   \n",
       " total_credits_1 total_credits_2 total_courses_1 total_courses_2\n",
       " Min.   : 9.0    Min.   : 0.00   Min.   :2.000   Min.   :0.000  \n",
       " 1st Qu.:28.0    1st Qu.:24.00   1st Qu.:5.000   1st Qu.:5.000  \n",
       " Median :28.0    Median :31.00   Median :5.000   Median :6.000  \n",
       " Mean   :27.4    Mean   :26.21   Mean   :4.825   Mean   :5.434  \n",
       " 3rd Qu.:29.0    3rd Qu.:31.00   3rd Qu.:5.000   3rd Qu.:7.000  \n",
       " Max.   :30.0    Max.   :36.00   Max.   :6.000   Max.   :8.000  \n",
       "                                                                \n",
       " course_approved_1 course_approved_2 course_failed_1 course_failed_2\n",
       " Min.   :0.000     Min.   :0.000     Min.   :0.00    Min.   :0.000  \n",
       " 1st Qu.:2.000     1st Qu.:2.000     1st Qu.:0.00    1st Qu.:0.000  \n",
       " Median :3.000     Median :4.000     Median :1.00    Median :1.000  \n",
       " Mean   :3.395     Mean   :3.846     Mean   :1.43    Mean   :1.587  \n",
       " 3rd Qu.:5.000     3rd Qu.:6.000     3rd Qu.:3.00    3rd Qu.:3.000  \n",
       " Max.   :5.000     Max.   :7.000     Max.   :5.00    Max.   :7.000  \n",
       "                                                                    \n",
       "    t_gpa_1         t_gpa_2         c_gpa_1         c_gpa_2        start_year  \n",
       " Min.   :1.020   Min.   :0.000   Min.   :1.020   Min.   :0.000   Min.   :2017  \n",
       " 1st Qu.:3.692   1st Qu.:3.000   1st Qu.:3.712   1st Qu.:3.865   1st Qu.:2017  \n",
       " Median :4.410   Median :4.255   Median :4.460   Median :4.565   Median :2020  \n",
       " Mean   :4.370   Mean   :3.744   Mean   :4.387   Mean   :4.101   Mean   :2019  \n",
       " 3rd Qu.:5.025   3rd Qu.:4.810   3rd Qu.:5.025   3rd Qu.:4.985   3rd Qu.:2021  \n",
       " Max.   :6.610   Max.   :6.540   Max.   :6.610   Max.   :6.570   Max.   :2021  \n",
       "                                                                               \n",
       "    Cluster      Permanencia_term_3\n",
       " Min.   :1.000   Min.   :0.0000    \n",
       " 1st Qu.:1.000   1st Qu.:1.0000    \n",
       " Median :2.000   Median :1.0000    \n",
       " Mean   :1.867   Mean   :0.7552    \n",
       " 3rd Qu.:3.000   3rd Qu.:1.0000    \n",
       " Max.   :3.000   Max.   :1.0000    \n",
       "                                   "
      ]
     },
     "metadata": {},
     "output_type": "display_data"
    },
    {
     "ename": "ERROR",
     "evalue": "Error in cor(datos): 'x' must be numeric\n",
     "output_type": "error",
     "traceback": [
      "Error in cor(datos): 'x' must be numeric\nTraceback:\n",
      "1. cor(datos)",
      "2. stop(\"'x' must be numeric\")"
     ]
    }
   ],
   "source": [
    "#2. análisis exploratorio de datos:\n",
    "\n",
    "dim(datos)\n",
    "summary(datos)\n",
    "cor(datos)"
   ]
  },
  {
   "cell_type": "code",
   "execution_count": 34,
   "metadata": {},
   "outputs": [
    {
     "data": {
      "image/png": "[encoded data removed]",
      "text/plain": [
       "Plot with title \"Histogram of datos$total_credits_1\""
      ]
     },
     "metadata": {
      "image/png": {
       "height": 420,
       "width": 420
      }
     },
     "output_type": "display_data"
    }
   ],
   "source": [
    "hist(datos$total_credits_1)"
   ]
  },
  {
   "cell_type": "code",
   "execution_count": 35,
   "metadata": {},
   "outputs": [
    {
     "data": {
      "image/png": "[encoded data removed]",
      "text/plain": [
       "plot without title"
      ]
     },
     "metadata": {
      "image/png": {
       "height": 420,
       "width": 420
      }
     },
     "output_type": "display_data"
    }
   ],
   "source": [
    "\n",
    "boxplot(datos$Cluster ~ datos$course_approved_1)"
   ]
  },
  {
   "cell_type": "code",
   "execution_count": 36,
   "metadata": {},
   "outputs": [
    {
     "name": "stdout",
     "output_type": "stream",
     "text": [
      "\n",
      "  There is a binary version available but the source version is later:\n",
      "         binary source needs_compilation\n",
      "corrplot   0.88   0.92             FALSE\n",
      "\n"
     ]
    },
    {
     "name": "stderr",
     "output_type": "stream",
     "text": [
      "installing the source package 'corrplot'\n",
      "\n",
      "\n"
     ]
    }
   ],
   "source": [
    "install.packages(\"corrplot\")\n",
    "library(\"corrplot\")"
   ]
  },
  {
   "cell_type": "code",
   "execution_count": 38,
   "metadata": {},
   "outputs": [
    {
     "data": {
      "image/png": "[encoded data removed]",
      "text/plain": [
       "Plot with title \"\""
      ]
     },
     "metadata": {
      "image/png": {
       "height": 420,
       "width": 420
      }
     },
     "output_type": "display_data"
    }
   ],
   "source": [
    "#definición de variables\n",
    "response<-datos[,18]\n",
    "treatment <- datos[,3]\n",
    "confounders <- datos[,4:15]\n",
    "\n",
    "\n",
    "\n",
    "dataT <- cbind(response,treatment,confounders)\n",
    "corDatos <- cor(dataT)\n",
    "corrplot(corDatos)\n"
   ]
  },
  {
   "cell_type": "code",
   "execution_count": 39,
   "metadata": {},
   "outputs": [
    {
     "name": "stdout",
     "output_type": "stream",
     "text": [
      "        treatment\n",
      "response   0   1\n",
      "       0  39  31\n",
      "       1 101 115\n"
     ]
    },
    {
     "name": "stderr",
     "output_type": "stream",
     "text": [
      "Warning message in chisq.test(cbind(as.factor(response), as.factor(treatment))):\n",
      "\"Chi-squared approximation may be incorrect\"\n"
     ]
    },
    {
     "data": {
      "text/plain": [
       "\n",
       "\tPearson's Chi-squared test\n",
       "\n",
       "data:  cbind(as.factor(response), as.factor(treatment))\n",
       "X-squared = 38.973, df = 285, p-value = 1\n"
      ]
     },
     "metadata": {},
     "output_type": "display_data"
    }
   ],
   "source": [
    "#análisis de independencia respuesta vs tratamiento\n",
    "tab <- table(response, treatment)\n",
    "print(tab)\n",
    "chisq.test(cbind(as.factor(response),as.factor(treatment)))"
   ]
  },
  {
   "cell_type": "code",
   "execution_count": 57,
   "metadata": {},
   "outputs": [
    {
     "data": {
      "text/plain": [
       " total_credits_1 total_credits_2 total_courses_1 total_courses_2\n",
       " Min.   : 9.0    Min.   : 0.00   Min.   :2.000   Min.   :0.000  \n",
       " 1st Qu.:28.0    1st Qu.:24.00   1st Qu.:5.000   1st Qu.:5.000  \n",
       " Median :28.0    Median :31.00   Median :5.000   Median :6.000  \n",
       " Mean   :27.4    Mean   :26.21   Mean   :4.825   Mean   :5.434  \n",
       " 3rd Qu.:29.0    3rd Qu.:31.00   3rd Qu.:5.000   3rd Qu.:7.000  \n",
       " Max.   :30.0    Max.   :36.00   Max.   :6.000   Max.   :8.000  \n",
       " course_approved_1 course_approved_2 course_failed_1 course_failed_2\n",
       " Min.   :0.000     Min.   :0.000     Min.   :0.00    Min.   :0.000  \n",
       " 1st Qu.:2.000     1st Qu.:2.000     1st Qu.:0.00    1st Qu.:0.000  \n",
       " Median :3.000     Median :4.000     Median :1.00    Median :1.000  \n",
       " Mean   :3.395     Mean   :3.846     Mean   :1.43    Mean   :1.587  \n",
       " 3rd Qu.:5.000     3rd Qu.:6.000     3rd Qu.:3.00    3rd Qu.:3.000  \n",
       " Max.   :5.000     Max.   :7.000     Max.   :5.00    Max.   :7.000  \n",
       "    t_gpa_1         t_gpa_2         c_gpa_1         c_gpa_2     \n",
       " Min.   :1.020   Min.   :0.000   Min.   :1.020   Min.   :0.000  \n",
       " 1st Qu.:3.692   1st Qu.:3.000   1st Qu.:3.712   1st Qu.:3.865  \n",
       " Median :4.410   Median :4.255   Median :4.460   Median :4.565  \n",
       " Mean   :4.370   Mean   :3.744   Mean   :4.387   Mean   :4.101  \n",
       " 3rd Qu.:5.025   3rd Qu.:4.810   3rd Qu.:5.025   3rd Qu.:4.985  \n",
       " Max.   :6.610   Max.   :6.540   Max.   :6.610   Max.   :6.570  "
      ]
     },
     "metadata": {},
     "output_type": "display_data"
    },
    {
     "data": {
      "text/plain": [
       "\n",
       "Call:\n",
       "glm(formula = y ~ z + x5 + x3 + x4 + x1, family = binomial(link = \"probit\"))\n",
       "\n",
       "Deviance Residuals: \n",
       "    Min       1Q   Median       3Q      Max  \n",
       "-2.2973   0.1233   0.5233   0.7245   1.6768  \n",
       "\n",
       "Coefficients:\n",
       "            Estimate Std. Error z value Pr(>|z|)    \n",
       "(Intercept)  -2.6015     1.3344  -1.950 0.051219 .  \n",
       "z1           -0.1473     0.1894  -0.778 0.436757    \n",
       "x5            0.8574     0.2418   3.546 0.000392 ***\n",
       "x3            0.5818     0.5308   1.096 0.273032    \n",
       "x4            0.7620     0.5438   1.401 0.161167    \n",
       "x1           -0.1210     0.0890  -1.360 0.173920    \n",
       "---\n",
       "Signif. codes:  0 '***' 0.001 '**' 0.01 '*' 0.05 '.' 0.1 ' ' 1\n",
       "\n",
       "(Dispersion parameter for binomial family taken to be 1)\n",
       "\n",
       "    Null deviance: 318.32  on 285  degrees of freedom\n",
       "Residual deviance: 267.19  on 280  degrees of freedom\n",
       "AIC: 279.19\n",
       "\n",
       "Number of Fisher Scoring iterations: 5\n"
      ]
     },
     "metadata": {},
     "output_type": "display_data"
    }
   ],
   "source": [
    "#3. Ajuste de regresión logística para comparar resultados de bartc\n",
    "\n",
    "y= as.factor(response)\n",
    "z = as.factor(treatment)\n",
    "summary(confounders)\n",
    "x1 = confounders[,1]\n",
    "x2 = confounders[,3]\n",
    "x3 = confounders[,5]\n",
    "x4 = confounders[,7]\n",
    "x5 = confounders[,9]\n",
    "res2 <- glm(y ~ z  +x5+x3+x4+x1,family=binomial(link=\"probit\"))\n",
    "summary(res2)"
   ]
  },
  {
   "cell_type": "code",
   "execution_count": 58,
   "metadata": {},
   "outputs": [
    {
     "name": "stdout",
     "output_type": "stream",
     "text": [
      "\n",
      "  There is a binary version available but the source version is later:\n",
      "          binary source needs_compilation\n",
      "bartCause  1.0-4  1.0-6             FALSE\n",
      "\n"
     ]
    },
    {
     "name": "stderr",
     "output_type": "stream",
     "text": [
      "installing the source package 'bartCause'\n",
      "\n",
      "\n"
     ]
    }
   ],
   "source": [
    "# 4. Ajuste de modelo bayesiano de arboles aditivos con causalidad\n",
    "\n",
    "install.packages(\"bartCause\")\n"
   ]
  },
  {
   "cell_type": "code",
   "execution_count": 59,
   "metadata": {},
   "outputs": [],
   "source": [
    "library(bartCause)"
   ]
  },
  {
   "cell_type": "code",
   "execution_count": 60,
   "metadata": {},
   "outputs": [],
   "source": [
    "\n",
    "confounders <-cbind(x1,x3,x4,x5)"
   ]
  },
  {
   "cell_type": "code",
   "execution_count": 61,
   "metadata": {},
   "outputs": [
    {
     "name": "stdout",
     "output_type": "stream",
     "text": [
      "fitting treatment model via method 'bart'\n",
      "fitting response model via method 'bart'\n"
     ]
    }
   ],
   "source": [
    "\n",
    "res <- bartc(response, treatment,confounders,method.rsp=\"bart\",n.samples = 100L, n.burn = 15L, n.chains = 2L,verbose=TRUE)"
   ]
  },
  {
   "cell_type": "code",
   "execution_count": 62,
   "metadata": {},
   "outputs": [
    {
     "data": {
      "text/plain": [
       "Call: bartc(response = response, treatment = treatment, confounders = confounders, \n",
       "            method.rsp = \"bart\", verbose = TRUE, n.samples = 100L, n.burn = 15L, \n",
       "            n.chains = 2L)\n",
       "\n",
       "Causal inference model fit by:\n",
       "  model.rsp: bart\n",
       "  model.trt: bart\n",
       "\n",
       "Treatment effect (population average):\n",
       "    estimate      sd ci.lower ci.upper\n",
       "ate -0.07626 0.09698  -0.2663   0.1138\n",
       "Estimates fit from 286 total observations\n",
       "95% credible interval calculated by: normal approximation\n",
       "  population TE approximated by: posterior predictive distribution\n",
       "Result based on 100 posterior samples times 2 chains"
      ]
     },
     "metadata": {},
     "output_type": "display_data"
    }
   ],
   "source": [
    "summary(res)"
   ]
  },
  {
   "cell_type": "code",
   "execution_count": 63,
   "metadata": {},
   "outputs": [
    {
     "data": {
      "text/html": [
       "-0.074965034965035"
      ],
      "text/latex": [
       "-0.074965034965035"
      ],
      "text/markdown": [
       "-0.074965034965035"
      ],
      "text/plain": [
       "[1] -0.07496503"
      ]
     },
     "metadata": {},
     "output_type": "display_data"
    }
   ],
   "source": [
    "fitted(res)"
   ]
  },
  {
   "cell_type": "code",
   "execution_count": 68,
   "metadata": {},
   "outputs": [
    {
     "data": {
      "text/html": [
       "200"
      ],
      "text/latex": [
       "200"
      ],
      "text/markdown": [
       "200"
      ],
      "text/plain": [
       "[1] 200"
      ]
     },
     "metadata": {},
     "output_type": "display_data"
    }
   ],
   "source": [
    "length(extract(res))"
   ]
  },
  {
   "cell_type": "code",
   "execution_count": 69,
   "metadata": {},
   "outputs": [
    {
     "data": {
      "text/plain": [
       "     Min.   1st Qu.    Median      Mean   3rd Qu.      Max. \n",
       "-0.328671 -0.143357 -0.069930 -0.074965 -0.003497  0.129371 "
      ]
     },
     "metadata": {},
     "output_type": "display_data"
    }
   ],
   "source": [
    "summary(extract(res))"
   ]
  },
  {
   "cell_type": "code",
   "execution_count": 70,
   "metadata": {},
   "outputs": [
    {
     "data": {
      "image/png": "[encoded data removed]",
      "text/plain": [
       "plot without title"
      ]
     },
     "metadata": {
      "image/png": {
       "height": 420,
       "width": 420
      }
     },
     "output_type": "display_data"
    }
   ],
   "source": [
    "plot(fitted(res, type = \"mu.obs\"), fitted(res2))\n"
   ]
  },
  {
   "cell_type": "code",
   "execution_count": 73,
   "metadata": {},
   "outputs": [
    {
     "data": {
      "image/png": "[encoded data removed]",
      "text/plain": [
       "plot without title"
      ]
     },
     "metadata": {
      "image/png": {
       "height": 420,
       "width": 420
      }
     },
     "output_type": "display_data"
    }
   ],
   "source": [
    "estimated<- fitted(res, type = \"mu.obs\")\n",
    "plot(estimated, response)"
   ]
  },
  {
   "cell_type": "code",
   "execution_count": 74,
   "metadata": {
    "scrolled": true
   },
   "outputs": [
    {
     "data": {
      "image/png": "[encoded data removed]",
      "text/plain": [
       "plot without title"
      ]
     },
     "metadata": {
      "image/png": {
       "height": 420,
       "width": 420
      }
     },
     "output_type": "display_data"
    }
   ],
   "source": [
    "ites<- extract(res, type = \"ite\")\n",
    "#ites <- ites[,z[]==]\n",
    "ite.m  <- apply(ites, 2, mean)\n",
    "ite.sd <- apply(ites, 2, sd)\n",
    "ite.lb <- ite.m - 2 * ite.sd\n",
    "ite.ub <- ite.m + 2 * ite.sd\n",
    "\n",
    "ite.o <- order(ite.m)\n",
    "\n",
    "plot(NULL, type = \"n\",\n",
    "     xlim = c(1, length(ite.m)), ylim = range(ite.lb, ite.ub),\n",
    "     xlab = \"effect order\", ylab = \"individual treatment effect\")\n",
    "lines(rbind(seq_along(ite.m), seq_along(ite.m), NA),\n",
    "      rbind(ite.lb[ite.o], ite.ub[ite.o], NA), lwd = 0.5)\n",
    "points(seq_along(ite.m), ite.m[ite.o], pch = 20)"
   ]
  },
  {
   "cell_type": "code",
   "execution_count": 75,
   "metadata": {},
   "outputs": [
    {
     "data": {
      "image/png": "[encoded data removed]",
      "text/plain": [
       "plot without title"
      ]
     },
     "metadata": {
      "image/png": {
       "height": 420,
       "width": 420
      }
     },
     "output_type": "display_data"
    }
   ],
   "source": [
    "ites<- extract(res, type = \"mu.obs\")\n",
    "#ites <- ites[,z[]==0]\n",
    "ite.m  <- apply(ites, 2, mean)\n",
    "ite.sd <- apply(ites, 2, sd)\n",
    "ite.lb <- ite.m - 2 * ite.sd\n",
    "ite.ub <- ite.m + 2 * ite.sd\n",
    "\n",
    "ite.o <- order(ite.m)\n",
    "\n",
    "plot(NULL, type = \"n\",\n",
    "     xlim = c(1, length(ite.m)), ylim = range(ite.lb, ite.ub),\n",
    "     xlab = \"effect order\", ylab = \"individual treatment effect\")\n",
    "lines(rbind(seq_along(ite.m), seq_along(ite.m), NA),\n",
    "      rbind(ite.lb[ite.o], ite.ub[ite.o], NA), lwd = 0.5)\n",
    "points(seq_along(ite.m), ite.m[ite.o], pch = 20)"
   ]
  },
  {
   "cell_type": "code",
   "execution_count": 76,
   "metadata": {},
   "outputs": [
    {
     "data": {
      "image/png": "[encoded data removed]",
      "text/plain": [
       "plot without title"
      ]
     },
     "metadata": {
      "image/png": {
       "height": 420,
       "width": 420
      }
     },
     "output_type": "display_data"
    }
   ],
   "source": [
    "prob1 = fitted(res, type=\"mu.obs\")\n",
    "prob2 = fitted(res2)\n",
    "p1=matrix(0,nrow=50,ncol=3)\n",
    "p2=matrix(0,nrow=50,ncol=3)\n",
    "i=1\n",
    "for(p in seq(min(prob1),max(prob1),.05)){\n",
    "    t1=table(prob1>p,as.factor(dataT$response))\n",
    "    p1[i,]=c(p,(t1[2,2])/sum(t1[,2]),(t1[1,1])/sum(t1[,1]))\n",
    "    i=i+1\n",
    "}\n",
    "\n",
    "j=1\n",
    "for(p in seq(min(prob2),max(prob2),.05)){\n",
    "    t2=table(prob2>p,as.factor(dataT$response))\n",
    "    p2[j,]=c(p,(t2[2,2])/sum(t2[,2]),(t2[1,1])/sum(t2[,1]))\n",
    "    j=j+1\n",
    "}\n",
    "\n",
    "plot(1-p1[1:i-1,3],p1[1:i-1,2],type=\"l\",xlab=\"1-especificidad\",ylab=\"sensibilidad\",ylim=c(0,1))\n",
    "lines(1-p2[1:j-1,3],p2[1:j-1,2],col=\"blue\")\n",
    "lines(c(0,1),c(0,1),col=\"red\")"
   ]
  },
  {
   "cell_type": "code",
   "execution_count": 77,
   "metadata": {},
   "outputs": [
    {
     "data": {
      "image/png": "[encoded data removed]",
      "text/plain": [
       "plot without title"
      ]
     },
     "metadata": {
      "image/png": {
       "height": 420,
       "width": 420
      }
     },
     "output_type": "display_data"
    }
   ],
   "source": [
    "ites<- extract(res, type = \"mu.obs\")\n",
    "ites <- ites[,z[]==0]\n",
    "ite.m  <- apply(ites, 2, mean)\n",
    "ite.sd <- apply(ites, 2, sd)\n",
    "ite.lb <- ite.m - 2 * ite.sd\n",
    "ite.ub <- ite.m + 2 * ite.sd\n",
    "\n",
    "ite.o <- order(ite.m)\n",
    "\n",
    "plot(NULL, type = \"n\",\n",
    "     xlim = c(1, length(ite.m)), ylim = range(ite.lb, ite.ub),\n",
    "     xlab = \"effect order\", ylab = \"individual treatment effect\")\n",
    "lines(rbind(seq_along(ite.m), seq_along(ite.m), NA),\n",
    "      rbind(ite.lb[ite.o], ite.ub[ite.o], NA), lwd = 0.5)\n",
    "points(seq_along(ite.m), ite.m[ite.o], pch = 20)"
   ]
  },
  {
   "cell_type": "code",
   "execution_count": null,
   "metadata": {},
   "outputs": [],
   "source": [
    "\n"
   ]
  },
  {
   "cell_type": "code",
   "execution_count": null,
   "metadata": {},
   "outputs": [],
   "source": []
  }
 ],
 "metadata": {
  "kernelspec": {
   "display_name": "R",
   "language": "R",
   "name": "ir"
  },
  "language_info": {
   "codemirror_mode": "r",
   "file_extension": ".r",
   "mimetype": "text/x-r-source",
   "name": "R",
   "pygments_lexer": "r",
   "version": "3.6.1"
  }
 },
 "nbformat": 4,
 "nbformat_minor": 2
}
